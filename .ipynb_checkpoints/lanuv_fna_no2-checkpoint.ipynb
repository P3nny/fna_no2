{
 "cells": [
  {
   "cell_type": "markdown",
   "metadata": {},
   "source": [
    "# Lanuv: Excel into Pandas "
   ]
  },
  {
   "cell_type": "markdown",
   "metadata": {},
   "source": [
    "### Daten einlesen "
   ]
  },
  {
   "cell_type": "code",
   "execution_count": 1,
   "metadata": {
    "collapsed": true
   },
   "outputs": [],
   "source": [
    "# Benötigte Pakete installieren \n",
    "import pandas as pd\n",
    "import numpy as np\n",
    "import json\n",
    "import requests"
   ]
  },
  {
   "cell_type": "code",
   "execution_count": 2,
   "metadata": {
    "collapsed": false
   },
   "outputs": [],
   "source": [
    "# Excel einlesen  \n",
    "f = 'Anfrage_Rentmeister.xlsx'\n",
    "df = pd.read_excel(f, sheetname='NO2_JMW')\n"
   ]
  },
  {
   "cell_type": "code",
   "execution_count": 3,
   "metadata": {
    "collapsed": false
   },
   "outputs": [
    {
     "data": {
      "text/plain": [
       "(153, 11)"
      ]
     },
     "execution_count": 3,
     "metadata": {},
     "output_type": "execute_result"
    }
   ],
   "source": [
    "# Wie groß ist der Data Frame ?\n",
    "df.shape"
   ]
  },
  {
   "cell_type": "code",
   "execution_count": 4,
   "metadata": {
    "collapsed": false
   },
   "outputs": [
    {
     "data": {
      "text/plain": [
       "Index([   'Stationscode',    'Stationsname',      'Schadstoff',\n",
       "               'Einheit',       'dataGroup',              2014,\n",
       "                    2015, 'TYPE_OF_STATION',    'TYPE_OF_AREA',\n",
       "                 'Länge',          'Breite'],\n",
       "      dtype='object')"
      ]
     },
     "execution_count": 4,
     "metadata": {},
     "output_type": "execute_result"
    }
   ],
   "source": [
    "# Welche Spaltennamen gibt es? \n",
    "df.columns\n",
    "# df.sort_values(by='2014')"
   ]
  },
  {
   "cell_type": "code",
   "execution_count": 5,
   "metadata": {
    "collapsed": false
   },
   "outputs": [
    {
     "data": {
      "text/html": [
       "<div>\n",
       "<table border=\"1\" class=\"dataframe\">\n",
       "  <thead>\n",
       "    <tr style=\"text-align: right;\">\n",
       "      <th></th>\n",
       "      <th>Stationscode</th>\n",
       "      <th>Stationsname</th>\n",
       "      <th>Schadstoff</th>\n",
       "      <th>Einheit</th>\n",
       "      <th>dataGroup</th>\n",
       "      <th>2014</th>\n",
       "      <th>2015</th>\n",
       "      <th>TYPE_OF_STATION</th>\n",
       "      <th>TYPE_OF_AREA</th>\n",
       "      <th>Länge</th>\n",
       "      <th>Breite</th>\n",
       "    </tr>\n",
       "  </thead>\n",
       "  <tbody>\n",
       "    <tr>\n",
       "      <th>0</th>\n",
       "      <td>DENW002</td>\n",
       "      <td>Datteln-Hagem</td>\n",
       "      <td>Stickstoffdioxid</td>\n",
       "      <td>µg/m³</td>\n",
       "      <td>halb- oder stündliche Messung</td>\n",
       "      <td>21.1261</td>\n",
       "      <td>20.3173</td>\n",
       "      <td>Hintergrund</td>\n",
       "      <td>vorstädtisches Gebiet</td>\n",
       "      <td>7.331405</td>\n",
       "      <td>51.641383</td>\n",
       "    </tr>\n",
       "    <tr>\n",
       "      <th>1</th>\n",
       "      <td>DENW006</td>\n",
       "      <td>Lünen-Niederaden</td>\n",
       "      <td>Stickstoffdioxid</td>\n",
       "      <td>µg/m³</td>\n",
       "      <td>halb- oder stündliche Messung</td>\n",
       "      <td>27.438</td>\n",
       "      <td>24.3654</td>\n",
       "      <td>Hintergrund</td>\n",
       "      <td>vorstädtisches Gebiet</td>\n",
       "      <td>7.569838</td>\n",
       "      <td>51.592206</td>\n",
       "    </tr>\n",
       "    <tr>\n",
       "      <th>2</th>\n",
       "      <td>DENW008</td>\n",
       "      <td>Dortmund-Eving</td>\n",
       "      <td>Stickstoffdioxid</td>\n",
       "      <td>µg/m³</td>\n",
       "      <td>halb- oder stündliche Messung</td>\n",
       "      <td>27.6639</td>\n",
       "      <td>26.5309</td>\n",
       "      <td>Hintergrund</td>\n",
       "      <td>städtisches Gebiet</td>\n",
       "      <td>7.457463</td>\n",
       "      <td>51.536911</td>\n",
       "    </tr>\n",
       "    <tr>\n",
       "      <th>3</th>\n",
       "      <td>DENW010</td>\n",
       "      <td>Unna-Königsborn</td>\n",
       "      <td>Stickstoffdioxid</td>\n",
       "      <td>µg/m³</td>\n",
       "      <td>halb- oder stündliche Messung</td>\n",
       "      <td>20.9525</td>\n",
       "      <td>20.9618</td>\n",
       "      <td>Hintergrund</td>\n",
       "      <td>vorstädtisches Gebiet</td>\n",
       "      <td>7.693835</td>\n",
       "      <td>51.547495</td>\n",
       "    </tr>\n",
       "    <tr>\n",
       "      <th>4</th>\n",
       "      <td>DENW021</td>\n",
       "      <td>Bottrop-Welheim</td>\n",
       "      <td>Stickstoffdioxid</td>\n",
       "      <td>µg/m³</td>\n",
       "      <td>halb- oder stündliche Messung</td>\n",
       "      <td>27.3434</td>\n",
       "      <td>26.3245</td>\n",
       "      <td>Industrie</td>\n",
       "      <td>städtisches Gebiet</td>\n",
       "      <td>6.976908</td>\n",
       "      <td>51.525963</td>\n",
       "    </tr>\n",
       "  </tbody>\n",
       "</table>\n",
       "</div>"
      ],
      "text/plain": [
       "  Stationscode      Stationsname        Schadstoff Einheit  \\\n",
       "0      DENW002     Datteln-Hagem  Stickstoffdioxid   µg/m³   \n",
       "1      DENW006  Lünen-Niederaden  Stickstoffdioxid   µg/m³   \n",
       "2      DENW008    Dortmund-Eving  Stickstoffdioxid   µg/m³   \n",
       "3      DENW010   Unna-Königsborn  Stickstoffdioxid   µg/m³   \n",
       "4      DENW021   Bottrop-Welheim  Stickstoffdioxid   µg/m³   \n",
       "\n",
       "                       dataGroup     2014     2015 TYPE_OF_STATION  \\\n",
       "0  halb- oder stündliche Messung  21.1261  20.3173     Hintergrund   \n",
       "1  halb- oder stündliche Messung   27.438  24.3654     Hintergrund   \n",
       "2  halb- oder stündliche Messung  27.6639  26.5309     Hintergrund   \n",
       "3  halb- oder stündliche Messung  20.9525  20.9618     Hintergrund   \n",
       "4  halb- oder stündliche Messung  27.3434  26.3245       Industrie   \n",
       "\n",
       "            TYPE_OF_AREA     Länge     Breite  \n",
       "0  vorstädtisches Gebiet  7.331405  51.641383  \n",
       "1  vorstädtisches Gebiet  7.569838  51.592206  \n",
       "2     städtisches Gebiet  7.457463  51.536911  \n",
       "3  vorstädtisches Gebiet  7.693835  51.547495  \n",
       "4     städtisches Gebiet  6.976908  51.525963  "
      ]
     },
     "execution_count": 5,
     "metadata": {},
     "output_type": "execute_result"
    }
   ],
   "source": [
    "# Erste 5 Zeilen anzeigen \n",
    "df.head()"
   ]
  },
  {
   "cell_type": "markdown",
   "metadata": {},
   "source": [
    "### Daten bereinigen / umbauen / Spalten hinzufügen"
   ]
  },
  {
   "cell_type": "code",
   "execution_count": 6,
   "metadata": {
    "collapsed": false
   },
   "outputs": [
    {
     "data": {
      "text/plain": [
       "148    Düsseldorf\n",
       "149     Paderborn\n",
       "150       Bottrop\n",
       "151      Schwerte\n",
       "152         Herne\n",
       "Name: Stadt, dtype: object"
      ]
     },
     "execution_count": 6,
     "metadata": {},
     "output_type": "execute_result"
    }
   ],
   "source": [
    "# Städte rausziehen, Spalte Stadt hinzufügen\n",
    "\n",
    "stadt = df['Stationsname'].str.split(' ').str.get(0)\n",
    "stadt2 = stadt.str.split('-').str.get(0)\n",
    "\n",
    "df['Stadt'] = stadt2\n",
    "df['Stadt'].tail()"
   ]
  },
  {
   "cell_type": "code",
   "execution_count": 7,
   "metadata": {
    "collapsed": false
   },
   "outputs": [],
   "source": [
    "# 2014 und 2015 machen als Spaltenbeschriftung Probleme, deshalb werden die umbenannt\n",
    "df.columns = ['Stationscode', 'Stationsname','Schadstoff', 'Einheit', 'dataGroup', 'Jahr-2014', 'Jahr-2015', 'TYPE_OF_STATION', 'TYPE_OF_AREA', 'Länge', 'Breite', 'Stadt']"
   ]
  },
  {
   "cell_type": "code",
   "execution_count": 8,
   "metadata": {
    "collapsed": false
   },
   "outputs": [
    {
     "data": {
      "text/html": [
       "<div>\n",
       "<table border=\"1\" class=\"dataframe\">\n",
       "  <thead>\n",
       "    <tr style=\"text-align: right;\">\n",
       "      <th></th>\n",
       "      <th>Stationscode</th>\n",
       "      <th>Stationsname</th>\n",
       "      <th>Schadstoff</th>\n",
       "      <th>Einheit</th>\n",
       "      <th>dataGroup</th>\n",
       "      <th>Jahr-2014</th>\n",
       "      <th>Jahr-2015</th>\n",
       "      <th>TYPE_OF_STATION</th>\n",
       "      <th>TYPE_OF_AREA</th>\n",
       "      <th>Länge</th>\n",
       "      <th>Breite</th>\n",
       "      <th>Stadt</th>\n",
       "    </tr>\n",
       "  </thead>\n",
       "  <tbody>\n",
       "    <tr>\n",
       "      <th>0</th>\n",
       "      <td>DENW002</td>\n",
       "      <td>Datteln-Hagem</td>\n",
       "      <td>Stickstoffdioxid</td>\n",
       "      <td>µg/m³</td>\n",
       "      <td>halb- oder stündliche Messung</td>\n",
       "      <td>21.1261</td>\n",
       "      <td>20.3173</td>\n",
       "      <td>Hintergrund</td>\n",
       "      <td>vorstädtisches Gebiet</td>\n",
       "      <td>7.331405</td>\n",
       "      <td>51.641383</td>\n",
       "      <td>Datteln</td>\n",
       "    </tr>\n",
       "    <tr>\n",
       "      <th>1</th>\n",
       "      <td>DENW006</td>\n",
       "      <td>Lünen-Niederaden</td>\n",
       "      <td>Stickstoffdioxid</td>\n",
       "      <td>µg/m³</td>\n",
       "      <td>halb- oder stündliche Messung</td>\n",
       "      <td>27.438</td>\n",
       "      <td>24.3654</td>\n",
       "      <td>Hintergrund</td>\n",
       "      <td>vorstädtisches Gebiet</td>\n",
       "      <td>7.569838</td>\n",
       "      <td>51.592206</td>\n",
       "      <td>Lünen</td>\n",
       "    </tr>\n",
       "  </tbody>\n",
       "</table>\n",
       "</div>"
      ],
      "text/plain": [
       "  Stationscode      Stationsname        Schadstoff Einheit  \\\n",
       "0      DENW002     Datteln-Hagem  Stickstoffdioxid   µg/m³   \n",
       "1      DENW006  Lünen-Niederaden  Stickstoffdioxid   µg/m³   \n",
       "\n",
       "                       dataGroup Jahr-2014 Jahr-2015 TYPE_OF_STATION  \\\n",
       "0  halb- oder stündliche Messung   21.1261   20.3173     Hintergrund   \n",
       "1  halb- oder stündliche Messung    27.438   24.3654     Hintergrund   \n",
       "\n",
       "            TYPE_OF_AREA     Länge     Breite    Stadt  \n",
       "0  vorstädtisches Gebiet  7.331405  51.641383  Datteln  \n",
       "1  vorstädtisches Gebiet  7.569838  51.592206    Lünen  "
      ]
     },
     "execution_count": 8,
     "metadata": {},
     "output_type": "execute_result"
    }
   ],
   "source": [
    "# Geklappt?\n",
    "df.head(2)"
   ]
  },
  {
   "cell_type": "code",
   "execution_count": 9,
   "metadata": {
    "collapsed": false
   },
   "outputs": [
    {
     "data": {
      "text/html": [
       "<div>\n",
       "<table border=\"1\" class=\"dataframe\">\n",
       "  <thead>\n",
       "    <tr style=\"text-align: right;\">\n",
       "      <th></th>\n",
       "      <th>Stationscode</th>\n",
       "      <th>Stationsname</th>\n",
       "      <th>Schadstoff</th>\n",
       "      <th>Einheit</th>\n",
       "      <th>dataGroup</th>\n",
       "      <th>Jahr-2014</th>\n",
       "      <th>Jahr-2015</th>\n",
       "      <th>TYPE_OF_STATION</th>\n",
       "      <th>TYPE_OF_AREA</th>\n",
       "      <th>Länge</th>\n",
       "      <th>Breite</th>\n",
       "      <th>Stadt</th>\n",
       "    </tr>\n",
       "  </thead>\n",
       "  <tbody>\n",
       "    <tr>\n",
       "      <th>0</th>\n",
       "      <td>DENW002</td>\n",
       "      <td>Datteln-Hagem</td>\n",
       "      <td>Stickstoffdioxid</td>\n",
       "      <td>µg/m³</td>\n",
       "      <td>halb- oder stündliche Messung</td>\n",
       "      <td>21.1261</td>\n",
       "      <td>20.3173</td>\n",
       "      <td>Hintergrund</td>\n",
       "      <td>vorstädtisches Gebiet</td>\n",
       "      <td>7.331405</td>\n",
       "      <td>51.641383</td>\n",
       "      <td>Datteln</td>\n",
       "    </tr>\n",
       "  </tbody>\n",
       "</table>\n",
       "</div>"
      ],
      "text/plain": [
       "  Stationscode   Stationsname        Schadstoff Einheit  \\\n",
       "0      DENW002  Datteln-Hagem  Stickstoffdioxid   µg/m³   \n",
       "\n",
       "                       dataGroup Jahr-2014 Jahr-2015 TYPE_OF_STATION  \\\n",
       "0  halb- oder stündliche Messung   21.1261   20.3173     Hintergrund   \n",
       "\n",
       "            TYPE_OF_AREA     Länge     Breite    Stadt  \n",
       "0  vorstädtisches Gebiet  7.331405  51.641383  Datteln  "
      ]
     },
     "execution_count": 9,
     "metadata": {},
     "output_type": "execute_result"
    }
   ],
   "source": [
    "df.head(1)"
   ]
  },
  {
   "cell_type": "code",
   "execution_count": 10,
   "metadata": {
    "collapsed": false
   },
   "outputs": [
    {
     "data": {
      "text/plain": [
       "Stationscode        object\n",
       "Stationsname        object\n",
       "Schadstoff          object\n",
       "Einheit             object\n",
       "dataGroup           object\n",
       "Jahr-2014           object\n",
       "Jahr-2015           object\n",
       "TYPE_OF_STATION     object\n",
       "TYPE_OF_AREA        object\n",
       "Länge              float64\n",
       "Breite             float64\n",
       "Stadt               object\n",
       "dtype: object"
      ]
     },
     "execution_count": 10,
     "metadata": {},
     "output_type": "execute_result"
    }
   ],
   "source": [
    "# Ausgeben, welche Datentypen in den Spalten sind. Bis auf Länge und Breite werden die Werte nicht als numerisch erkannt. \n",
    "df.dtypes"
   ]
  },
  {
   "cell_type": "code",
   "execution_count": 11,
   "metadata": {
    "collapsed": false
   },
   "outputs": [
    {
     "data": {
      "text/plain": [
       "(13, 12)"
      ]
     },
     "execution_count": 11,
     "metadata": {},
     "output_type": "execute_result"
    }
   ],
   "source": [
    "### Einige Zeilen enthalten für 2014 und 2015 seltsame oder keine Werte: '-' oder '-777.000'. \n",
    "# Pandas zählt diese Werte als Strings, deshalb der dtype 'object', weil Zahlen und Strings gemischt vorkommen. \n",
    "\n",
    "# Wie viele Bindestriche gibt es in den 2014er Werten? \n",
    "bindestrich_2014 = df[df['Jahr-2014']== '-']\n",
    "bindestrich_2014.shape\n",
    "# 2014 13 Stationen mit '-'"
   ]
  },
  {
   "cell_type": "code",
   "execution_count": 12,
   "metadata": {
    "collapsed": false
   },
   "outputs": [
    {
     "data": {
      "text/plain": [
       "(11, 12)"
      ]
     },
     "execution_count": 12,
     "metadata": {},
     "output_type": "execute_result"
    }
   ],
   "source": [
    "# Wie viele Bindestriche gibt es in den 2015er Werten? \n",
    "bindestrich_2015 = df[df['Jahr-2015']== '-']\n",
    "bindestrich_2015.shape\n",
    "\n",
    "# 2015 11 Stationen mit '-'"
   ]
  },
  {
   "cell_type": "code",
   "execution_count": 13,
   "metadata": {
    "collapsed": false
   },
   "outputs": [
    {
     "data": {
      "text/html": [
       "<div>\n",
       "<table border=\"1\" class=\"dataframe\">\n",
       "  <thead>\n",
       "    <tr style=\"text-align: right;\">\n",
       "      <th></th>\n",
       "      <th>Stationscode</th>\n",
       "      <th>Stationsname</th>\n",
       "      <th>Schadstoff</th>\n",
       "      <th>Einheit</th>\n",
       "      <th>dataGroup</th>\n",
       "      <th>Jahr-2014</th>\n",
       "      <th>Jahr-2015</th>\n",
       "      <th>TYPE_OF_STATION</th>\n",
       "      <th>TYPE_OF_AREA</th>\n",
       "      <th>Länge</th>\n",
       "      <th>Breite</th>\n",
       "      <th>Stadt</th>\n",
       "    </tr>\n",
       "  </thead>\n",
       "  <tbody>\n",
       "  </tbody>\n",
       "</table>\n",
       "</div>"
      ],
      "text/plain": [
       "Empty DataFrame\n",
       "Columns: [Stationscode, Stationsname, Schadstoff, Einheit, dataGroup, Jahr-2014, Jahr-2015, TYPE_OF_STATION, TYPE_OF_AREA, Länge, Breite, Stadt]\n",
       "Index: []"
      ]
     },
     "execution_count": 13,
     "metadata": {},
     "output_type": "execute_result"
    }
   ],
   "source": [
    "df[(df['Jahr-2014'] == '-') & (df['Jahr-2015'] == '-')]\n",
    "# Keine Station 2014 und 2015 mit '-'"
   ]
  },
  {
   "cell_type": "code",
   "execution_count": 14,
   "metadata": {
    "collapsed": false
   },
   "outputs": [],
   "source": [
    "# Neuen DF clean_year erstellen\n",
    "clean_year = df[['Jahr-2014', 'Jahr-2015']]"
   ]
  },
  {
   "cell_type": "code",
   "execution_count": 15,
   "metadata": {
    "collapsed": false
   },
   "outputs": [
    {
     "name": "stderr",
     "output_type": "stream",
     "text": [
      "/usr/local/lib/python3.4/dist-packages/ipykernel/__main__.py:2: SettingWithCopyWarning: \n",
      "A value is trying to be set on a copy of a slice from a DataFrame.\n",
      "Try using .loc[row_indexer,col_indexer] = value instead\n",
      "\n",
      "See the caveats in the documentation: http://pandas.pydata.org/pandas-docs/stable/indexing.html#indexing-view-versus-copy\n",
      "  from ipykernel import kernelapp as app\n"
     ]
    }
   ],
   "source": [
    "# Werte auf 'numerisch' setzen, wenn das nicht klappt, NAN eingeben\n",
    "clean_year['Jahr-2014'] = pd.to_numeric(clean_year['Jahr-2014'], errors='coerce')"
   ]
  },
  {
   "cell_type": "code",
   "execution_count": 16,
   "metadata": {
    "collapsed": false
   },
   "outputs": [
    {
     "name": "stderr",
     "output_type": "stream",
     "text": [
      "/usr/local/lib/python3.4/dist-packages/ipykernel/__main__.py:1: SettingWithCopyWarning: \n",
      "A value is trying to be set on a copy of a slice from a DataFrame.\n",
      "Try using .loc[row_indexer,col_indexer] = value instead\n",
      "\n",
      "See the caveats in the documentation: http://pandas.pydata.org/pandas-docs/stable/indexing.html#indexing-view-versus-copy\n",
      "  if __name__ == '__main__':\n"
     ]
    }
   ],
   "source": [
    "clean_year['Jahr-2015'] = pd.to_numeric(clean_year['Jahr-2015'], errors='coerce')\n",
    "# clean_year.applymap(lambda x: isinstance(x, (int, float)))clean_year = pd.to_numeric(clean_year['Jahr-2015'], errors='coerce')\n",
    "# clean_year.applymap(lambda x: isinstance(x, (int, float)))"
   ]
  },
  {
   "cell_type": "code",
   "execution_count": 17,
   "metadata": {
    "collapsed": false
   },
   "outputs": [
    {
     "data": {
      "text/plain": [
       "Jahr-2014    float64\n",
       "Jahr-2015    float64\n",
       "dtype: object"
      ]
     },
     "execution_count": 17,
     "metadata": {},
     "output_type": "execute_result"
    }
   ],
   "source": [
    "clean_year.dtypes"
   ]
  },
  {
   "cell_type": "code",
   "execution_count": 18,
   "metadata": {
    "collapsed": false
   },
   "outputs": [
    {
     "data": {
      "text/html": [
       "<div>\n",
       "<table border=\"1\" class=\"dataframe\">\n",
       "  <thead>\n",
       "    <tr style=\"text-align: right;\">\n",
       "      <th></th>\n",
       "      <th>Jahr-2014</th>\n",
       "      <th>Jahr-2015</th>\n",
       "    </tr>\n",
       "  </thead>\n",
       "  <tbody>\n",
       "    <tr>\n",
       "      <th>148</th>\n",
       "      <td>NaN</td>\n",
       "      <td>31.8203</td>\n",
       "    </tr>\n",
       "    <tr>\n",
       "      <th>149</th>\n",
       "      <td>NaN</td>\n",
       "      <td>41.5547</td>\n",
       "    </tr>\n",
       "    <tr>\n",
       "      <th>150</th>\n",
       "      <td>NaN</td>\n",
       "      <td>37.7425</td>\n",
       "    </tr>\n",
       "    <tr>\n",
       "      <th>151</th>\n",
       "      <td>NaN</td>\n",
       "      <td>45.9835</td>\n",
       "    </tr>\n",
       "    <tr>\n",
       "      <th>152</th>\n",
       "      <td>NaN</td>\n",
       "      <td>-777.0000</td>\n",
       "    </tr>\n",
       "  </tbody>\n",
       "</table>\n",
       "</div>"
      ],
      "text/plain": [
       "     Jahr-2014  Jahr-2015\n",
       "148        NaN    31.8203\n",
       "149        NaN    41.5547\n",
       "150        NaN    37.7425\n",
       "151        NaN    45.9835\n",
       "152        NaN  -777.0000"
      ]
     },
     "execution_count": 18,
     "metadata": {},
     "output_type": "execute_result"
    }
   ],
   "source": [
    "# Ergebnis: Bindestriche sind weg, aber es bleiben Werte wie '-777.000'\n",
    "clean_year.tail()"
   ]
  },
  {
   "cell_type": "code",
   "execution_count": 19,
   "metadata": {
    "collapsed": false
   },
   "outputs": [
    {
     "name": "stderr",
     "output_type": "stream",
     "text": [
      "/usr/local/lib/python3.4/dist-packages/ipykernel/__main__.py:2: SettingWithCopyWarning: \n",
      "A value is trying to be set on a copy of a slice from a DataFrame.\n",
      "Try using .loc[row_indexer,col_indexer] = value instead\n",
      "\n",
      "See the caveats in the documentation: http://pandas.pydata.org/pandas-docs/stable/indexing.html#indexing-view-versus-copy\n",
      "  from ipykernel import kernelapp as app\n"
     ]
    },
    {
     "data": {
      "text/plain": [
       "100    47.3590\n",
       "101    38.3230\n",
       "102    46.3454\n",
       "103    39.4575\n",
       "104    44.8867\n",
       "105    46.0859\n",
       "106        NaN\n",
       "107    51.5295\n",
       "108    44.2058\n",
       "109        NaN\n",
       "Name: Jahr-2014, dtype: float64"
      ]
     },
     "execution_count": 19,
     "metadata": {},
     "output_type": "execute_result"
    }
   ],
   "source": [
    "# Werte kleiner 0 auf Nan setzen \n",
    "clean_year['Jahr-2014'] = clean_year['Jahr-2014'].where(clean_year['Jahr-2014'] > 0, np.nan)\n",
    "clean_year['Jahr-2014'][100:110]"
   ]
  },
  {
   "cell_type": "code",
   "execution_count": 20,
   "metadata": {
    "collapsed": false
   },
   "outputs": [
    {
     "name": "stderr",
     "output_type": "stream",
     "text": [
      "/usr/local/lib/python3.4/dist-packages/ipykernel/__main__.py:1: SettingWithCopyWarning: \n",
      "A value is trying to be set on a copy of a slice from a DataFrame.\n",
      "Try using .loc[row_indexer,col_indexer] = value instead\n",
      "\n",
      "See the caveats in the documentation: http://pandas.pydata.org/pandas-docs/stable/indexing.html#indexing-view-versus-copy\n",
      "  if __name__ == '__main__':\n"
     ]
    },
    {
     "data": {
      "text/plain": [
       "18.076699999999999"
      ]
     },
     "execution_count": 20,
     "metadata": {},
     "output_type": "execute_result"
    }
   ],
   "source": [
    "clean_year['Jahr-2015'] = clean_year['Jahr-2015'].where(clean_year['Jahr-2015'] > 0, np.nan)\n",
    "clean_year['Jahr-2015'][7]"
   ]
  },
  {
   "cell_type": "code",
   "execution_count": 21,
   "metadata": {
    "collapsed": false
   },
   "outputs": [],
   "source": [
    "# saubere Spalten zum DF hinzufügen \n",
    "df['c-2014'] = clean_year['Jahr-2014']\n",
    "df['c-2015'] = clean_year['Jahr-2015']"
   ]
  },
  {
   "cell_type": "code",
   "execution_count": 22,
   "metadata": {
    "collapsed": true
   },
   "outputs": [],
   "source": [
    "# Für die App ist eine Spalte 'id' nötig, die Zeilen durchzählt:\n",
    "df['id'] = df.index"
   ]
  },
  {
   "cell_type": "code",
   "execution_count": 23,
   "metadata": {
    "collapsed": false
   },
   "outputs": [
    {
     "data": {
      "text/plain": [
       "Index(['Stationsname', 'Stadt', 'Schadstoff', 'Einheit', 'c-2014', 'c-2015',\n",
       "       'TYPE_OF_STATION', 'TYPE_OF_AREA', 'Länge', 'Breite', 'id'],\n",
       "      dtype='object')"
      ]
     },
     "execution_count": 23,
     "metadata": {},
     "output_type": "execute_result"
    }
   ],
   "source": [
    "# Neuen DF mit ausgewählten Spalten erstellen\n",
    "no2 = df[['Stationsname', 'Stadt', 'Schadstoff', 'Einheit', 'c-2014', 'c-2015', 'TYPE_OF_STATION', 'TYPE_OF_AREA', 'Länge', 'Breite', 'id']]\n",
    "no2.columns"
   ]
  },
  {
   "cell_type": "code",
   "execution_count": 24,
   "metadata": {
    "collapsed": false
   },
   "outputs": [
    {
     "data": {
      "text/html": [
       "<div>\n",
       "<table border=\"1\" class=\"dataframe\">\n",
       "  <thead>\n",
       "    <tr style=\"text-align: right;\">\n",
       "      <th></th>\n",
       "      <th>Stationsname</th>\n",
       "      <th>Stadt</th>\n",
       "      <th>Schadstoff</th>\n",
       "      <th>Einheit</th>\n",
       "      <th>c-2014</th>\n",
       "      <th>c-2015</th>\n",
       "      <th>TYPE_OF_STATION</th>\n",
       "      <th>TYPE_OF_AREA</th>\n",
       "      <th>Länge</th>\n",
       "      <th>Breite</th>\n",
       "      <th>id</th>\n",
       "    </tr>\n",
       "  </thead>\n",
       "  <tbody>\n",
       "    <tr>\n",
       "      <th>0</th>\n",
       "      <td>Datteln-Hagem</td>\n",
       "      <td>Datteln</td>\n",
       "      <td>Stickstoffdioxid</td>\n",
       "      <td>µg/m³</td>\n",
       "      <td>21.1261</td>\n",
       "      <td>20.3173</td>\n",
       "      <td>Hintergrund</td>\n",
       "      <td>vorstädtisches Gebiet</td>\n",
       "      <td>7.331405</td>\n",
       "      <td>51.641383</td>\n",
       "      <td>0</td>\n",
       "    </tr>\n",
       "    <tr>\n",
       "      <th>1</th>\n",
       "      <td>Lünen-Niederaden</td>\n",
       "      <td>Lünen</td>\n",
       "      <td>Stickstoffdioxid</td>\n",
       "      <td>µg/m³</td>\n",
       "      <td>27.4380</td>\n",
       "      <td>24.3654</td>\n",
       "      <td>Hintergrund</td>\n",
       "      <td>vorstädtisches Gebiet</td>\n",
       "      <td>7.569838</td>\n",
       "      <td>51.592206</td>\n",
       "      <td>1</td>\n",
       "    </tr>\n",
       "    <tr>\n",
       "      <th>2</th>\n",
       "      <td>Dortmund-Eving</td>\n",
       "      <td>Dortmund</td>\n",
       "      <td>Stickstoffdioxid</td>\n",
       "      <td>µg/m³</td>\n",
       "      <td>27.6639</td>\n",
       "      <td>26.5309</td>\n",
       "      <td>Hintergrund</td>\n",
       "      <td>städtisches Gebiet</td>\n",
       "      <td>7.457463</td>\n",
       "      <td>51.536911</td>\n",
       "      <td>2</td>\n",
       "    </tr>\n",
       "    <tr>\n",
       "      <th>3</th>\n",
       "      <td>Unna-Königsborn</td>\n",
       "      <td>Unna</td>\n",
       "      <td>Stickstoffdioxid</td>\n",
       "      <td>µg/m³</td>\n",
       "      <td>20.9525</td>\n",
       "      <td>20.9618</td>\n",
       "      <td>Hintergrund</td>\n",
       "      <td>vorstädtisches Gebiet</td>\n",
       "      <td>7.693835</td>\n",
       "      <td>51.547495</td>\n",
       "      <td>3</td>\n",
       "    </tr>\n",
       "    <tr>\n",
       "      <th>4</th>\n",
       "      <td>Bottrop-Welheim</td>\n",
       "      <td>Bottrop</td>\n",
       "      <td>Stickstoffdioxid</td>\n",
       "      <td>µg/m³</td>\n",
       "      <td>27.3434</td>\n",
       "      <td>26.3245</td>\n",
       "      <td>Industrie</td>\n",
       "      <td>städtisches Gebiet</td>\n",
       "      <td>6.976908</td>\n",
       "      <td>51.525963</td>\n",
       "      <td>4</td>\n",
       "    </tr>\n",
       "  </tbody>\n",
       "</table>\n",
       "</div>"
      ],
      "text/plain": [
       "       Stationsname     Stadt        Schadstoff Einheit   c-2014   c-2015  \\\n",
       "0     Datteln-Hagem   Datteln  Stickstoffdioxid   µg/m³  21.1261  20.3173   \n",
       "1  Lünen-Niederaden     Lünen  Stickstoffdioxid   µg/m³  27.4380  24.3654   \n",
       "2    Dortmund-Eving  Dortmund  Stickstoffdioxid   µg/m³  27.6639  26.5309   \n",
       "3   Unna-Königsborn      Unna  Stickstoffdioxid   µg/m³  20.9525  20.9618   \n",
       "4   Bottrop-Welheim   Bottrop  Stickstoffdioxid   µg/m³  27.3434  26.3245   \n",
       "\n",
       "  TYPE_OF_STATION           TYPE_OF_AREA     Länge     Breite  id  \n",
       "0     Hintergrund  vorstädtisches Gebiet  7.331405  51.641383   0  \n",
       "1     Hintergrund  vorstädtisches Gebiet  7.569838  51.592206   1  \n",
       "2     Hintergrund     städtisches Gebiet  7.457463  51.536911   2  \n",
       "3     Hintergrund  vorstädtisches Gebiet  7.693835  51.547495   3  \n",
       "4       Industrie     städtisches Gebiet  6.976908  51.525963   4  "
      ]
     },
     "execution_count": 24,
     "metadata": {},
     "output_type": "execute_result"
    }
   ],
   "source": [
    "# Geklappt? \n",
    "no2.head()"
   ]
  },
  {
   "cell_type": "code",
   "execution_count": 25,
   "metadata": {
    "collapsed": false
   },
   "outputs": [
    {
     "data": {
      "text/html": [
       "<div>\n",
       "<table border=\"1\" class=\"dataframe\">\n",
       "  <thead>\n",
       "    <tr style=\"text-align: right;\">\n",
       "      <th></th>\n",
       "      <th>name</th>\n",
       "      <th>stadt</th>\n",
       "      <th>stoff</th>\n",
       "      <th>einheit</th>\n",
       "      <th>jahr_2014</th>\n",
       "      <th>jahr_2015</th>\n",
       "      <th>typ</th>\n",
       "      <th>gebiet</th>\n",
       "      <th>x</th>\n",
       "      <th>y</th>\n",
       "      <th>id</th>\n",
       "    </tr>\n",
       "  </thead>\n",
       "  <tbody>\n",
       "    <tr>\n",
       "      <th>19</th>\n",
       "      <td>Netphen (Rothaargebirge)</td>\n",
       "      <td>Netphen</td>\n",
       "      <td>Stickstoffdioxid</td>\n",
       "      <td>µg/m³</td>\n",
       "      <td>4.8150</td>\n",
       "      <td>6.7267</td>\n",
       "      <td>Hintergrund</td>\n",
       "      <td>ländlich regional</td>\n",
       "      <td>8.191932</td>\n",
       "      <td>50.930328</td>\n",
       "      <td>19</td>\n",
       "    </tr>\n",
       "    <tr>\n",
       "      <th>18</th>\n",
       "      <td>Simmerath (Eifel)</td>\n",
       "      <td>Simmerath</td>\n",
       "      <td>Stickstoffdioxid</td>\n",
       "      <td>µg/m³</td>\n",
       "      <td>5.7294</td>\n",
       "      <td>5.9522</td>\n",
       "      <td>Hintergrund</td>\n",
       "      <td>ländlich regional</td>\n",
       "      <td>6.281069</td>\n",
       "      <td>50.653236</td>\n",
       "      <td>18</td>\n",
       "    </tr>\n",
       "    <tr>\n",
       "      <th>53</th>\n",
       "      <td>Essen Hombrucher Straße 21/23</td>\n",
       "      <td>Essen</td>\n",
       "      <td>Stickstoffdioxid</td>\n",
       "      <td>µg/m³</td>\n",
       "      <td>55.3510</td>\n",
       "      <td>NaN</td>\n",
       "      <td>Verkehr</td>\n",
       "      <td>städtisches Gebiet</td>\n",
       "      <td>7.047134</td>\n",
       "      <td>51.457314</td>\n",
       "      <td>53</td>\n",
       "    </tr>\n",
       "    <tr>\n",
       "      <th>62</th>\n",
       "      <td>Bielefeld Stapenhorststraße 59</td>\n",
       "      <td>Bielefeld</td>\n",
       "      <td>Stickstoffdioxid</td>\n",
       "      <td>µg/m³</td>\n",
       "      <td>37.4714</td>\n",
       "      <td>NaN</td>\n",
       "      <td>Verkehr</td>\n",
       "      <td>städtisches Gebiet</td>\n",
       "      <td>8.521576</td>\n",
       "      <td>52.026236</td>\n",
       "      <td>62</td>\n",
       "    </tr>\n",
       "    <tr>\n",
       "      <th>68</th>\n",
       "      <td>Bottrop Peterstraße</td>\n",
       "      <td>Bottrop</td>\n",
       "      <td>Stickstoffdioxid</td>\n",
       "      <td>µg/m³</td>\n",
       "      <td>37.6842</td>\n",
       "      <td>NaN</td>\n",
       "      <td>Verkehr</td>\n",
       "      <td>städtisches Gebiet</td>\n",
       "      <td>6.924268</td>\n",
       "      <td>51.519262</td>\n",
       "      <td>68</td>\n",
       "    </tr>\n",
       "    <tr>\n",
       "      <th>90</th>\n",
       "      <td>Köln-Junkersdorf Jungbluthbrücke</td>\n",
       "      <td>Köln</td>\n",
       "      <td>Stickstoffdioxid</td>\n",
       "      <td>µg/m³</td>\n",
       "      <td>36.6912</td>\n",
       "      <td>NaN</td>\n",
       "      <td>Verkehr</td>\n",
       "      <td>städtisches Gebiet</td>\n",
       "      <td>6.850280</td>\n",
       "      <td>50.930950</td>\n",
       "      <td>90</td>\n",
       "    </tr>\n",
       "    <tr>\n",
       "      <th>106</th>\n",
       "      <td>Recklinghausen Kaiserwall</td>\n",
       "      <td>Recklinghausen</td>\n",
       "      <td>Stickstoffdioxid</td>\n",
       "      <td>µg/m³</td>\n",
       "      <td>NaN</td>\n",
       "      <td>NaN</td>\n",
       "      <td>Verkehr</td>\n",
       "      <td>städtisches Gebiet</td>\n",
       "      <td>7.201686</td>\n",
       "      <td>51.613624</td>\n",
       "      <td>106</td>\n",
       "    </tr>\n",
       "    <tr>\n",
       "      <th>112</th>\n",
       "      <td>Schwerte Hörder Straße</td>\n",
       "      <td>Schwerte</td>\n",
       "      <td>Stickstoffdioxid</td>\n",
       "      <td>µg/m³</td>\n",
       "      <td>45.4900</td>\n",
       "      <td>NaN</td>\n",
       "      <td>Verkehr</td>\n",
       "      <td>städtisches Gebiet</td>\n",
       "      <td>7.563630</td>\n",
       "      <td>51.446540</td>\n",
       "      <td>112</td>\n",
       "    </tr>\n",
       "    <tr>\n",
       "      <th>114</th>\n",
       "      <td>Emmerich-Elten Schmidtstraße 3</td>\n",
       "      <td>Emmerich</td>\n",
       "      <td>Stickstoffdioxid</td>\n",
       "      <td>µg/m³</td>\n",
       "      <td>36.3481</td>\n",
       "      <td>NaN</td>\n",
       "      <td>Verkehr</td>\n",
       "      <td>städtisches Gebiet</td>\n",
       "      <td>6.160480</td>\n",
       "      <td>51.872400</td>\n",
       "      <td>114</td>\n",
       "    </tr>\n",
       "    <tr>\n",
       "      <th>121</th>\n",
       "      <td>Düsseldorf-Lohausen</td>\n",
       "      <td>Düsseldorf</td>\n",
       "      <td>Stickstoffdioxid</td>\n",
       "      <td>µg/m³</td>\n",
       "      <td>33.1274</td>\n",
       "      <td>NaN</td>\n",
       "      <td>Hintergrund</td>\n",
       "      <td>städtisches Gebiet</td>\n",
       "      <td>6.753747</td>\n",
       "      <td>51.269503</td>\n",
       "      <td>121</td>\n",
       "    </tr>\n",
       "    <tr>\n",
       "      <th>129</th>\n",
       "      <td>Düsseldorf Volmerswerther Deich</td>\n",
       "      <td>Düsseldorf</td>\n",
       "      <td>Stickstoffdioxid</td>\n",
       "      <td>µg/m³</td>\n",
       "      <td>29.3290</td>\n",
       "      <td>NaN</td>\n",
       "      <td>Hintergrund</td>\n",
       "      <td>vorstädtisches Gebiet</td>\n",
       "      <td>6.759520</td>\n",
       "      <td>51.184426</td>\n",
       "      <td>129</td>\n",
       "    </tr>\n",
       "    <tr>\n",
       "      <th>132</th>\n",
       "      <td>Düsseldorf (Flughafen 1)</td>\n",
       "      <td>Düsseldorf</td>\n",
       "      <td>Stickstoffdioxid</td>\n",
       "      <td>µg/m³</td>\n",
       "      <td>NaN</td>\n",
       "      <td>NaN</td>\n",
       "      <td>Hintergrund</td>\n",
       "      <td>städtisches Gebiet</td>\n",
       "      <td>6.766450</td>\n",
       "      <td>51.271822</td>\n",
       "      <td>132</td>\n",
       "    </tr>\n",
       "    <tr>\n",
       "      <th>133</th>\n",
       "      <td>Düsseldorf (Flughafen 2)</td>\n",
       "      <td>Düsseldorf</td>\n",
       "      <td>Stickstoffdioxid</td>\n",
       "      <td>µg/m³</td>\n",
       "      <td>NaN</td>\n",
       "      <td>NaN</td>\n",
       "      <td>Hintergrund</td>\n",
       "      <td>städtisches Gebiet</td>\n",
       "      <td>6.763922</td>\n",
       "      <td>51.269125</td>\n",
       "      <td>133</td>\n",
       "    </tr>\n",
       "    <tr>\n",
       "      <th>134</th>\n",
       "      <td>Düsseldorf (Flughafen 3)</td>\n",
       "      <td>Düsseldorf</td>\n",
       "      <td>Stickstoffdioxid</td>\n",
       "      <td>µg/m³</td>\n",
       "      <td>NaN</td>\n",
       "      <td>NaN</td>\n",
       "      <td>Hintergrund</td>\n",
       "      <td>städtisches Gebiet</td>\n",
       "      <td>6.753858</td>\n",
       "      <td>51.269567</td>\n",
       "      <td>134</td>\n",
       "    </tr>\n",
       "    <tr>\n",
       "      <th>135</th>\n",
       "      <td>Düsseldorf (Flughafen 4)</td>\n",
       "      <td>Düsseldorf</td>\n",
       "      <td>Stickstoffdioxid</td>\n",
       "      <td>µg/m³</td>\n",
       "      <td>NaN</td>\n",
       "      <td>NaN</td>\n",
       "      <td>Hintergrund</td>\n",
       "      <td>vorstädtisches Gebiet</td>\n",
       "      <td>6.769639</td>\n",
       "      <td>51.262039</td>\n",
       "      <td>135</td>\n",
       "    </tr>\n",
       "    <tr>\n",
       "      <th>136</th>\n",
       "      <td>Düsseldorf (Flughafen 5)</td>\n",
       "      <td>Düsseldorf</td>\n",
       "      <td>Stickstoffdioxid</td>\n",
       "      <td>µg/m³</td>\n",
       "      <td>NaN</td>\n",
       "      <td>NaN</td>\n",
       "      <td>Hintergrund</td>\n",
       "      <td>vorstädtisches Gebiet</td>\n",
       "      <td>6.810644</td>\n",
       "      <td>51.315067</td>\n",
       "      <td>136</td>\n",
       "    </tr>\n",
       "    <tr>\n",
       "      <th>137</th>\n",
       "      <td>Düsseldorf (Flughafen 6)</td>\n",
       "      <td>Düsseldorf</td>\n",
       "      <td>Stickstoffdioxid</td>\n",
       "      <td>µg/m³</td>\n",
       "      <td>NaN</td>\n",
       "      <td>NaN</td>\n",
       "      <td>Hintergrund</td>\n",
       "      <td>vorstädtisches Gebiet</td>\n",
       "      <td>6.824336</td>\n",
       "      <td>51.315061</td>\n",
       "      <td>137</td>\n",
       "    </tr>\n",
       "    <tr>\n",
       "      <th>138</th>\n",
       "      <td>Düsseldorf (Flughafen 7)</td>\n",
       "      <td>Düsseldorf</td>\n",
       "      <td>Stickstoffdioxid</td>\n",
       "      <td>µg/m³</td>\n",
       "      <td>NaN</td>\n",
       "      <td>NaN</td>\n",
       "      <td>Hintergrund</td>\n",
       "      <td>städtisches Gebiet</td>\n",
       "      <td>6.809969</td>\n",
       "      <td>51.289739</td>\n",
       "      <td>138</td>\n",
       "    </tr>\n",
       "    <tr>\n",
       "      <th>139</th>\n",
       "      <td>Düsseldorf (Flughafen 8)</td>\n",
       "      <td>Düsseldorf</td>\n",
       "      <td>Stickstoffdioxid</td>\n",
       "      <td>µg/m³</td>\n",
       "      <td>NaN</td>\n",
       "      <td>NaN</td>\n",
       "      <td>Hintergrund</td>\n",
       "      <td>städtisches Gebiet</td>\n",
       "      <td>6.786350</td>\n",
       "      <td>51.301569</td>\n",
       "      <td>139</td>\n",
       "    </tr>\n",
       "    <tr>\n",
       "      <th>152</th>\n",
       "      <td>Herne Recklinghauser Straße 4/6</td>\n",
       "      <td>Herne</td>\n",
       "      <td>Stickstoffdioxid</td>\n",
       "      <td>µg/m³</td>\n",
       "      <td>NaN</td>\n",
       "      <td>NaN</td>\n",
       "      <td>Verkehr</td>\n",
       "      <td>städtisches Gebiet</td>\n",
       "      <td>7.150192</td>\n",
       "      <td>51.543008</td>\n",
       "      <td>152</td>\n",
       "    </tr>\n",
       "  </tbody>\n",
       "</table>\n",
       "</div>"
      ],
      "text/plain": [
       "                                 name           stadt             stoff  \\\n",
       "19           Netphen (Rothaargebirge)         Netphen  Stickstoffdioxid   \n",
       "18                  Simmerath (Eifel)       Simmerath  Stickstoffdioxid   \n",
       "53      Essen Hombrucher Straße 21/23           Essen  Stickstoffdioxid   \n",
       "62     Bielefeld Stapenhorststraße 59       Bielefeld  Stickstoffdioxid   \n",
       "68                Bottrop Peterstraße         Bottrop  Stickstoffdioxid   \n",
       "90   Köln-Junkersdorf Jungbluthbrücke            Köln  Stickstoffdioxid   \n",
       "106         Recklinghausen Kaiserwall  Recklinghausen  Stickstoffdioxid   \n",
       "112            Schwerte Hörder Straße        Schwerte  Stickstoffdioxid   \n",
       "114    Emmerich-Elten Schmidtstraße 3        Emmerich  Stickstoffdioxid   \n",
       "121               Düsseldorf-Lohausen      Düsseldorf  Stickstoffdioxid   \n",
       "129   Düsseldorf Volmerswerther Deich      Düsseldorf  Stickstoffdioxid   \n",
       "132          Düsseldorf (Flughafen 1)      Düsseldorf  Stickstoffdioxid   \n",
       "133          Düsseldorf (Flughafen 2)      Düsseldorf  Stickstoffdioxid   \n",
       "134          Düsseldorf (Flughafen 3)      Düsseldorf  Stickstoffdioxid   \n",
       "135          Düsseldorf (Flughafen 4)      Düsseldorf  Stickstoffdioxid   \n",
       "136          Düsseldorf (Flughafen 5)      Düsseldorf  Stickstoffdioxid   \n",
       "137          Düsseldorf (Flughafen 6)      Düsseldorf  Stickstoffdioxid   \n",
       "138          Düsseldorf (Flughafen 7)      Düsseldorf  Stickstoffdioxid   \n",
       "139          Düsseldorf (Flughafen 8)      Düsseldorf  Stickstoffdioxid   \n",
       "152   Herne Recklinghauser Straße 4/6           Herne  Stickstoffdioxid   \n",
       "\n",
       "    einheit  jahr_2014  jahr_2015          typ                 gebiet  \\\n",
       "19    µg/m³     4.8150     6.7267  Hintergrund      ländlich regional   \n",
       "18    µg/m³     5.7294     5.9522  Hintergrund      ländlich regional   \n",
       "53    µg/m³    55.3510        NaN      Verkehr     städtisches Gebiet   \n",
       "62    µg/m³    37.4714        NaN      Verkehr     städtisches Gebiet   \n",
       "68    µg/m³    37.6842        NaN      Verkehr     städtisches Gebiet   \n",
       "90    µg/m³    36.6912        NaN      Verkehr     städtisches Gebiet   \n",
       "106   µg/m³        NaN        NaN      Verkehr     städtisches Gebiet   \n",
       "112   µg/m³    45.4900        NaN      Verkehr     städtisches Gebiet   \n",
       "114   µg/m³    36.3481        NaN      Verkehr     städtisches Gebiet   \n",
       "121   µg/m³    33.1274        NaN  Hintergrund     städtisches Gebiet   \n",
       "129   µg/m³    29.3290        NaN  Hintergrund  vorstädtisches Gebiet   \n",
       "132   µg/m³        NaN        NaN  Hintergrund     städtisches Gebiet   \n",
       "133   µg/m³        NaN        NaN  Hintergrund     städtisches Gebiet   \n",
       "134   µg/m³        NaN        NaN  Hintergrund     städtisches Gebiet   \n",
       "135   µg/m³        NaN        NaN  Hintergrund  vorstädtisches Gebiet   \n",
       "136   µg/m³        NaN        NaN  Hintergrund  vorstädtisches Gebiet   \n",
       "137   µg/m³        NaN        NaN  Hintergrund  vorstädtisches Gebiet   \n",
       "138   µg/m³        NaN        NaN  Hintergrund     städtisches Gebiet   \n",
       "139   µg/m³        NaN        NaN  Hintergrund     städtisches Gebiet   \n",
       "152   µg/m³        NaN        NaN      Verkehr     städtisches Gebiet   \n",
       "\n",
       "            x          y   id  \n",
       "19   8.191932  50.930328   19  \n",
       "18   6.281069  50.653236   18  \n",
       "53   7.047134  51.457314   53  \n",
       "62   8.521576  52.026236   62  \n",
       "68   6.924268  51.519262   68  \n",
       "90   6.850280  50.930950   90  \n",
       "106  7.201686  51.613624  106  \n",
       "112  7.563630  51.446540  112  \n",
       "114  6.160480  51.872400  114  \n",
       "121  6.753747  51.269503  121  \n",
       "129  6.759520  51.184426  129  \n",
       "132  6.766450  51.271822  132  \n",
       "133  6.763922  51.269125  133  \n",
       "134  6.753858  51.269567  134  \n",
       "135  6.769639  51.262039  135  \n",
       "136  6.810644  51.315067  136  \n",
       "137  6.824336  51.315061  137  \n",
       "138  6.809969  51.289739  138  \n",
       "139  6.786350  51.301569  139  \n",
       "152  7.150192  51.543008  152  "
      ]
     },
     "execution_count": 25,
     "metadata": {},
     "output_type": "execute_result"
    }
   ],
   "source": [
    "# Bezeichnung für 2014 und 2015 noch mal ändern \n",
    "no2.columns = ['name', 'stadt', 'stoff', 'einheit', 'jahr_2014', 'jahr_2015', 'typ','gebiet', 'x', 'y', 'id']\n",
    "no2 = no2.sort_values(by='jahr_2015', ascending=False)\n",
    "no2.tail(20)"
   ]
  },
  {
   "cell_type": "code",
   "execution_count": 26,
   "metadata": {
    "collapsed": true
   },
   "outputs": [],
   "source": [
    "# Als CSV rausgeben\n",
    "### no2.to_csv('no2_c.csv')\n",
    "# Obacht: Wenn Dateiname nicht ge#ndert wird, wird Datei immer wieder überschrieben"
   ]
  },
  {
   "cell_type": "code",
   "execution_count": 27,
   "metadata": {
    "collapsed": true
   },
   "outputs": [],
   "source": [
    "### _Ab hier sammele ich Codes, die ich geschrieben, aber dann doch nicht verwendet habe, \n",
    "# die aber vielleicht noch nützlich sein können:_\n",
    "\n",
    "# Spalten rausschmeißen: \n",
    "# df = df.drop(['Stationscode','Stationsname', 'Schadstoff', 'Einheit', 'dataGroup', 'Jahr-2014', 'Jahr-2015', 'TYPE_OF_STATION', 'TYPE_OF_AREA', ] , axis=1)\n",
    "# df = df.drop(['year_2014','year_2015'], axis=1)\n",
    "\n",
    "# Index auf Stationsname setzen \n",
    "# df.index = df['Stationsname']"
   ]
  },
  {
   "cell_type": "markdown",
   "metadata": {},
   "source": [
    "### Informationen zu Grenzwerten hinzufügen \n",
    "\n"
   ]
  },
  {
   "cell_type": "code",
   "execution_count": 31,
   "metadata": {
    "collapsed": false
   },
   "outputs": [
    {
     "data": {
      "text/html": [
       "<div>\n",
       "<table border=\"1\" class=\"dataframe\">\n",
       "  <thead>\n",
       "    <tr style=\"text-align: right;\">\n",
       "      <th></th>\n",
       "      <th>name</th>\n",
       "      <th>stadt</th>\n",
       "      <th>stoff</th>\n",
       "      <th>einheit</th>\n",
       "      <th>jahr_2014</th>\n",
       "      <th>jahr_2015</th>\n",
       "      <th>typ</th>\n",
       "      <th>gebiet</th>\n",
       "      <th>x</th>\n",
       "      <th>y</th>\n",
       "      <th>id</th>\n",
       "    </tr>\n",
       "  </thead>\n",
       "  <tbody>\n",
       "    <tr>\n",
       "      <th>75</th>\n",
       "      <td>Köln Clevischer Ring 3</td>\n",
       "      <td>Köln</td>\n",
       "      <td>Stickstoffdioxid</td>\n",
       "      <td>µg/m³</td>\n",
       "      <td>63.3006</td>\n",
       "      <td>66.2804</td>\n",
       "      <td>Verkehr</td>\n",
       "      <td>städtisches Gebiet</td>\n",
       "      <td>7.00459</td>\n",
       "      <td>50.962857</td>\n",
       "      <td>75</td>\n",
       "    </tr>\n",
       "  </tbody>\n",
       "</table>\n",
       "</div>"
      ],
      "text/plain": [
       "                      name stadt             stoff einheit  jahr_2014  \\\n",
       "75  Köln Clevischer Ring 3  Köln  Stickstoffdioxid   µg/m³    63.3006   \n",
       "\n",
       "    jahr_2015      typ              gebiet        x          y  id  \n",
       "75    66.2804  Verkehr  städtisches Gebiet  7.00459  50.962857  75  "
      ]
     },
     "execution_count": 31,
     "metadata": {},
     "output_type": "execute_result"
    }
   ],
   "source": [
    "# Grenzwert 40 überschritten in 2015?\n",
    "\n",
    "drueber = no2[no2['jahr_2015'] > 40]\n",
    "drueber.shape\n",
    "drueber.head(1)\n",
    "\n",
    "# 2014 wurde der Grenzwert an 64 Messstationen überschritten "
   ]
  },
  {
   "cell_type": "code",
   "execution_count": 34,
   "metadata": {
    "collapsed": false
   },
   "outputs": [
    {
     "data": {
      "text/html": [
       "<div>\n",
       "<table border=\"1\" class=\"dataframe\">\n",
       "  <thead>\n",
       "    <tr style=\"text-align: right;\">\n",
       "      <th></th>\n",
       "      <th>name</th>\n",
       "      <th>stadt</th>\n",
       "      <th>stoff</th>\n",
       "      <th>einheit</th>\n",
       "      <th>jahr_2014</th>\n",
       "      <th>jahr_2015</th>\n",
       "      <th>typ</th>\n",
       "      <th>gebiet</th>\n",
       "      <th>x</th>\n",
       "      <th>y</th>\n",
       "      <th>id</th>\n",
       "    </tr>\n",
       "  </thead>\n",
       "  <tbody>\n",
       "    <tr>\n",
       "      <th>75</th>\n",
       "      <td>Köln Clevischer Ring 3</td>\n",
       "      <td>Köln</td>\n",
       "      <td>Stickstoffdioxid</td>\n",
       "      <td>µg/m³</td>\n",
       "      <td>63.3006</td>\n",
       "      <td>66.2804</td>\n",
       "      <td>Verkehr</td>\n",
       "      <td>städtisches Gebiet</td>\n",
       "      <td>7.00459</td>\n",
       "      <td>50.962857</td>\n",
       "      <td>75</td>\n",
       "    </tr>\n",
       "  </tbody>\n",
       "</table>\n",
       "</div>"
      ],
      "text/plain": [
       "                      name stadt             stoff einheit  jahr_2014  \\\n",
       "75  Köln Clevischer Ring 3  Köln  Stickstoffdioxid   µg/m³    63.3006   \n",
       "\n",
       "    jahr_2015      typ              gebiet        x          y  id  \n",
       "75    66.2804  Verkehr  städtisches Gebiet  7.00459  50.962857  75  "
      ]
     },
     "execution_count": 34,
     "metadata": {},
     "output_type": "execute_result"
    }
   ],
   "source": [
    "# Welches sind die Stationen mit den höchsten Messwerten?\n",
    "drueber_s = drueber.sort_values(by='jahr_2015', ascending = False)\n",
    "drueber_s.head(1)"
   ]
  },
  {
   "cell_type": "code",
   "execution_count": 35,
   "metadata": {
    "collapsed": false
   },
   "outputs": [
    {
     "data": {
      "text/html": [
       "<div>\n",
       "<table border=\"1\" class=\"dataframe\">\n",
       "  <thead>\n",
       "    <tr>\n",
       "      <th></th>\n",
       "      <th>Stationscode</th>\n",
       "      <th>Stationsname</th>\n",
       "      <th>Schadstoff</th>\n",
       "      <th>Einheit</th>\n",
       "      <th>dataGroup</th>\n",
       "      <th>Jahr-2014</th>\n",
       "      <th>Jahr-2015</th>\n",
       "      <th>TYPE_OF_STATION</th>\n",
       "      <th>TYPE_OF_AREA</th>\n",
       "      <th>Länge</th>\n",
       "      <th>Breite</th>\n",
       "      <th>c-2014</th>\n",
       "      <th>c-2015</th>\n",
       "      <th>id</th>\n",
       "    </tr>\n",
       "    <tr>\n",
       "      <th></th>\n",
       "      <th>count</th>\n",
       "      <th>count</th>\n",
       "      <th>count</th>\n",
       "      <th>count</th>\n",
       "      <th>count</th>\n",
       "      <th>count</th>\n",
       "      <th>count</th>\n",
       "      <th>count</th>\n",
       "      <th>count</th>\n",
       "      <th>count</th>\n",
       "      <th>count</th>\n",
       "      <th>count</th>\n",
       "      <th>count</th>\n",
       "      <th>count</th>\n",
       "    </tr>\n",
       "    <tr>\n",
       "      <th>Stadt</th>\n",
       "      <th></th>\n",
       "      <th></th>\n",
       "      <th></th>\n",
       "      <th></th>\n",
       "      <th></th>\n",
       "      <th></th>\n",
       "      <th></th>\n",
       "      <th></th>\n",
       "      <th></th>\n",
       "      <th></th>\n",
       "      <th></th>\n",
       "      <th></th>\n",
       "      <th></th>\n",
       "      <th></th>\n",
       "    </tr>\n",
       "  </thead>\n",
       "  <tbody>\n",
       "    <tr>\n",
       "      <th>Köln</th>\n",
       "      <td>10</td>\n",
       "      <td>10</td>\n",
       "      <td>10</td>\n",
       "      <td>10</td>\n",
       "      <td>10</td>\n",
       "      <td>10</td>\n",
       "      <td>10</td>\n",
       "      <td>10</td>\n",
       "      <td>10</td>\n",
       "      <td>10</td>\n",
       "      <td>10</td>\n",
       "      <td>9</td>\n",
       "      <td>10</td>\n",
       "      <td>10</td>\n",
       "    </tr>\n",
       "    <tr>\n",
       "      <th>Essen</th>\n",
       "      <td>6</td>\n",
       "      <td>6</td>\n",
       "      <td>6</td>\n",
       "      <td>6</td>\n",
       "      <td>6</td>\n",
       "      <td>6</td>\n",
       "      <td>6</td>\n",
       "      <td>6</td>\n",
       "      <td>6</td>\n",
       "      <td>6</td>\n",
       "      <td>6</td>\n",
       "      <td>6</td>\n",
       "      <td>6</td>\n",
       "      <td>6</td>\n",
       "    </tr>\n",
       "    <tr>\n",
       "      <th>Düsseldorf</th>\n",
       "      <td>4</td>\n",
       "      <td>4</td>\n",
       "      <td>4</td>\n",
       "      <td>4</td>\n",
       "      <td>4</td>\n",
       "      <td>4</td>\n",
       "      <td>4</td>\n",
       "      <td>4</td>\n",
       "      <td>4</td>\n",
       "      <td>4</td>\n",
       "      <td>4</td>\n",
       "      <td>4</td>\n",
       "      <td>4</td>\n",
       "      <td>4</td>\n",
       "    </tr>\n",
       "    <tr>\n",
       "      <th>Dortmund</th>\n",
       "      <td>4</td>\n",
       "      <td>4</td>\n",
       "      <td>4</td>\n",
       "      <td>4</td>\n",
       "      <td>4</td>\n",
       "      <td>4</td>\n",
       "      <td>4</td>\n",
       "      <td>4</td>\n",
       "      <td>4</td>\n",
       "      <td>4</td>\n",
       "      <td>4</td>\n",
       "      <td>4</td>\n",
       "      <td>4</td>\n",
       "      <td>4</td>\n",
       "    </tr>\n",
       "    <tr>\n",
       "      <th>Paderborn</th>\n",
       "      <td>3</td>\n",
       "      <td>3</td>\n",
       "      <td>3</td>\n",
       "      <td>3</td>\n",
       "      <td>3</td>\n",
       "      <td>3</td>\n",
       "      <td>3</td>\n",
       "      <td>3</td>\n",
       "      <td>3</td>\n",
       "      <td>3</td>\n",
       "      <td>3</td>\n",
       "      <td>2</td>\n",
       "      <td>3</td>\n",
       "      <td>3</td>\n",
       "    </tr>\n",
       "  </tbody>\n",
       "</table>\n",
       "</div>"
      ],
      "text/plain": [
       "           Stationscode Stationsname Schadstoff Einheit dataGroup Jahr-2014  \\\n",
       "                  count        count      count   count     count     count   \n",
       "Stadt                                                                         \n",
       "Köln                 10           10         10      10        10        10   \n",
       "Essen                 6            6          6       6         6         6   \n",
       "Düsseldorf            4            4          4       4         4         4   \n",
       "Dortmund              4            4          4       4         4         4   \n",
       "Paderborn             3            3          3       3         3         3   \n",
       "\n",
       "           Jahr-2015 TYPE_OF_STATION TYPE_OF_AREA Länge Breite c-2014 c-2015  \\\n",
       "               count           count        count count  count  count  count   \n",
       "Stadt                                                                          \n",
       "Köln              10              10           10    10     10      9     10   \n",
       "Essen              6               6            6     6      6      6      6   \n",
       "Düsseldorf         4               4            4     4      4      4      4   \n",
       "Dortmund           4               4            4     4      4      4      4   \n",
       "Paderborn          3               3            3     3      3      2      3   \n",
       "\n",
       "              id  \n",
       "           count  \n",
       "Stadt             \n",
       "Köln          10  \n",
       "Essen          6  \n",
       "Düsseldorf     4  \n",
       "Dortmund       4  \n",
       "Paderborn      3  "
      ]
     },
     "execution_count": 35,
     "metadata": {},
     "output_type": "execute_result"
    }
   ],
   "source": [
    "# 2015: Welche Städte hatten die meisten überschrittenen Grenzwerte?\n",
    "top_2015 = df.sort_values(by='c-2015', ascending=False)\n",
    "drueber_2015 = top_2015[top_2015['c-2015'] >40]\n",
    "drueber_2015_staedte = drueber_2015.groupby('Stadt').agg(['count'])\n",
    "drueber_2015_staedte.sort_values(by=[('Stationsname','count')], ascending=False).head(5)"
   ]
  },
  {
   "cell_type": "code",
   "execution_count": 36,
   "metadata": {
    "collapsed": false
   },
   "outputs": [
    {
     "data": {
      "text/html": [
       "<div>\n",
       "<table border=\"1\" class=\"dataframe\">\n",
       "  <thead>\n",
       "    <tr>\n",
       "      <th></th>\n",
       "      <th>Stationscode</th>\n",
       "      <th>Stationsname</th>\n",
       "      <th>Schadstoff</th>\n",
       "      <th>Einheit</th>\n",
       "      <th>dataGroup</th>\n",
       "      <th>Jahr-2014</th>\n",
       "      <th>Jahr-2015</th>\n",
       "      <th>TYPE_OF_STATION</th>\n",
       "      <th>TYPE_OF_AREA</th>\n",
       "      <th>Länge</th>\n",
       "      <th>Breite</th>\n",
       "      <th>c-2014</th>\n",
       "      <th>c-2015</th>\n",
       "      <th>id</th>\n",
       "    </tr>\n",
       "    <tr>\n",
       "      <th></th>\n",
       "      <th>count</th>\n",
       "      <th>count</th>\n",
       "      <th>count</th>\n",
       "      <th>count</th>\n",
       "      <th>count</th>\n",
       "      <th>count</th>\n",
       "      <th>count</th>\n",
       "      <th>count</th>\n",
       "      <th>count</th>\n",
       "      <th>count</th>\n",
       "      <th>count</th>\n",
       "      <th>count</th>\n",
       "      <th>count</th>\n",
       "      <th>count</th>\n",
       "    </tr>\n",
       "    <tr>\n",
       "      <th>Stadt</th>\n",
       "      <th></th>\n",
       "      <th></th>\n",
       "      <th></th>\n",
       "      <th></th>\n",
       "      <th></th>\n",
       "      <th></th>\n",
       "      <th></th>\n",
       "      <th></th>\n",
       "      <th></th>\n",
       "      <th></th>\n",
       "      <th></th>\n",
       "      <th></th>\n",
       "      <th></th>\n",
       "      <th></th>\n",
       "    </tr>\n",
       "  </thead>\n",
       "  <tbody>\n",
       "    <tr>\n",
       "      <th>Düsseldorf</th>\n",
       "      <td>17</td>\n",
       "      <td>17</td>\n",
       "      <td>17</td>\n",
       "      <td>17</td>\n",
       "      <td>17</td>\n",
       "      <td>17</td>\n",
       "      <td>17</td>\n",
       "      <td>17</td>\n",
       "      <td>17</td>\n",
       "      <td>17</td>\n",
       "      <td>17</td>\n",
       "      <td>7</td>\n",
       "      <td>7</td>\n",
       "      <td>17</td>\n",
       "    </tr>\n",
       "    <tr>\n",
       "      <th>Köln</th>\n",
       "      <td>15</td>\n",
       "      <td>15</td>\n",
       "      <td>15</td>\n",
       "      <td>15</td>\n",
       "      <td>15</td>\n",
       "      <td>15</td>\n",
       "      <td>15</td>\n",
       "      <td>15</td>\n",
       "      <td>15</td>\n",
       "      <td>15</td>\n",
       "      <td>15</td>\n",
       "      <td>14</td>\n",
       "      <td>14</td>\n",
       "      <td>15</td>\n",
       "    </tr>\n",
       "    <tr>\n",
       "      <th>Essen</th>\n",
       "      <td>13</td>\n",
       "      <td>13</td>\n",
       "      <td>13</td>\n",
       "      <td>13</td>\n",
       "      <td>13</td>\n",
       "      <td>13</td>\n",
       "      <td>13</td>\n",
       "      <td>13</td>\n",
       "      <td>13</td>\n",
       "      <td>13</td>\n",
       "      <td>13</td>\n",
       "      <td>13</td>\n",
       "      <td>12</td>\n",
       "      <td>13</td>\n",
       "    </tr>\n",
       "    <tr>\n",
       "      <th>Dortmund</th>\n",
       "      <td>6</td>\n",
       "      <td>6</td>\n",
       "      <td>6</td>\n",
       "      <td>6</td>\n",
       "      <td>6</td>\n",
       "      <td>6</td>\n",
       "      <td>6</td>\n",
       "      <td>6</td>\n",
       "      <td>6</td>\n",
       "      <td>6</td>\n",
       "      <td>6</td>\n",
       "      <td>6</td>\n",
       "      <td>6</td>\n",
       "      <td>6</td>\n",
       "    </tr>\n",
       "    <tr>\n",
       "      <th>Duisburg</th>\n",
       "      <td>6</td>\n",
       "      <td>6</td>\n",
       "      <td>6</td>\n",
       "      <td>6</td>\n",
       "      <td>6</td>\n",
       "      <td>6</td>\n",
       "      <td>6</td>\n",
       "      <td>6</td>\n",
       "      <td>6</td>\n",
       "      <td>6</td>\n",
       "      <td>6</td>\n",
       "      <td>6</td>\n",
       "      <td>6</td>\n",
       "      <td>6</td>\n",
       "    </tr>\n",
       "  </tbody>\n",
       "</table>\n",
       "</div>"
      ],
      "text/plain": [
       "           Stationscode Stationsname Schadstoff Einheit dataGroup Jahr-2014  \\\n",
       "                  count        count      count   count     count     count   \n",
       "Stadt                                                                         \n",
       "Düsseldorf           17           17         17      17        17        17   \n",
       "Köln                 15           15         15      15        15        15   \n",
       "Essen                13           13         13      13        13        13   \n",
       "Dortmund              6            6          6       6         6         6   \n",
       "Duisburg              6            6          6       6         6         6   \n",
       "\n",
       "           Jahr-2015 TYPE_OF_STATION TYPE_OF_AREA Länge Breite c-2014 c-2015  \\\n",
       "               count           count        count count  count  count  count   \n",
       "Stadt                                                                          \n",
       "Düsseldorf        17              17           17    17     17      7      7   \n",
       "Köln              15              15           15    15     15     14     14   \n",
       "Essen             13              13           13    13     13     13     12   \n",
       "Dortmund           6               6            6     6      6      6      6   \n",
       "Duisburg           6               6            6     6      6      6      6   \n",
       "\n",
       "              id  \n",
       "           count  \n",
       "Stadt             \n",
       "Düsseldorf    17  \n",
       "Köln          15  \n",
       "Essen         13  \n",
       "Dortmund       6  \n",
       "Duisburg       6  "
      ]
     },
     "execution_count": 36,
     "metadata": {},
     "output_type": "execute_result"
    }
   ],
   "source": [
    "# Wie viele Messstellen wo? \n",
    "\n",
    "mess = df.groupby('Stadt').agg(['count'])\n",
    "mess.sort_values(by=[('Stationsname','count')], ascending=False).head(5)"
   ]
  },
  {
   "cell_type": "code",
   "execution_count": 37,
   "metadata": {
    "collapsed": true
   },
   "outputs": [],
   "source": [
    "# Next step: Anteil der Stationen mit überschrittenem Grenzwert an der Anzahl der Stationen berechnen"
   ]
  },
  {
   "cell_type": "code",
   "execution_count": 38,
   "metadata": {
    "collapsed": false
   },
   "outputs": [
    {
     "data": {
      "text/plain": [
       "(62, 12)"
      ]
     },
     "execution_count": 38,
     "metadata": {},
     "output_type": "execute_result"
    }
   ],
   "source": [
    "# Spalte 'ueberschritten' hinzufügen\n",
    "no2.head()\n",
    "no2['ueberschritten'] = no2['jahr_2015'] > 40\n",
    "test = no2[no2['ueberschritten'] == True]\n",
    "test.shape"
   ]
  },
  {
   "cell_type": "code",
   "execution_count": 39,
   "metadata": {
    "collapsed": false
   },
   "outputs": [
    {
     "data": {
      "text/html": [
       "<div>\n",
       "<table border=\"1\" class=\"dataframe\">\n",
       "  <thead>\n",
       "    <tr style=\"text-align: right;\">\n",
       "      <th></th>\n",
       "      <th>jahr_2014</th>\n",
       "      <th>jahr_2015</th>\n",
       "      <th>x</th>\n",
       "      <th>y</th>\n",
       "      <th>id</th>\n",
       "    </tr>\n",
       "  </thead>\n",
       "  <tbody>\n",
       "    <tr>\n",
       "      <th>count</th>\n",
       "      <td>129.000000</td>\n",
       "      <td>135.000000</td>\n",
       "      <td>153.000000</td>\n",
       "      <td>153.000000</td>\n",
       "      <td>153.000000</td>\n",
       "    </tr>\n",
       "    <tr>\n",
       "      <th>mean</th>\n",
       "      <td>38.738584</td>\n",
       "      <td>37.160073</td>\n",
       "      <td>7.119116</td>\n",
       "      <td>51.338099</td>\n",
       "      <td>76.000000</td>\n",
       "    </tr>\n",
       "    <tr>\n",
       "      <th>std</th>\n",
       "      <td>12.446248</td>\n",
       "      <td>11.536319</td>\n",
       "      <td>0.569277</td>\n",
       "      <td>0.321843</td>\n",
       "      <td>44.311398</td>\n",
       "    </tr>\n",
       "    <tr>\n",
       "      <th>min</th>\n",
       "      <td>4.815000</td>\n",
       "      <td>5.952200</td>\n",
       "      <td>6.093923</td>\n",
       "      <td>50.653236</td>\n",
       "      <td>0.000000</td>\n",
       "    </tr>\n",
       "    <tr>\n",
       "      <th>25%</th>\n",
       "      <td>28.457900</td>\n",
       "      <td>28.894350</td>\n",
       "      <td>6.771801</td>\n",
       "      <td>51.169437</td>\n",
       "      <td>38.000000</td>\n",
       "    </tr>\n",
       "    <tr>\n",
       "      <th>50%</th>\n",
       "      <td>39.655600</td>\n",
       "      <td>38.707800</td>\n",
       "      <td>6.985164</td>\n",
       "      <td>51.362829</td>\n",
       "      <td>76.000000</td>\n",
       "    </tr>\n",
       "    <tr>\n",
       "      <th>75%</th>\n",
       "      <td>47.359000</td>\n",
       "      <td>44.434850</td>\n",
       "      <td>7.453887</td>\n",
       "      <td>51.524022</td>\n",
       "      <td>114.000000</td>\n",
       "    </tr>\n",
       "    <tr>\n",
       "      <th>max</th>\n",
       "      <td>63.583200</td>\n",
       "      <td>66.280400</td>\n",
       "      <td>8.747085</td>\n",
       "      <td>52.061461</td>\n",
       "      <td>152.000000</td>\n",
       "    </tr>\n",
       "  </tbody>\n",
       "</table>\n",
       "</div>"
      ],
      "text/plain": [
       "        jahr_2014   jahr_2015           x           y          id\n",
       "count  129.000000  135.000000  153.000000  153.000000  153.000000\n",
       "mean    38.738584   37.160073    7.119116   51.338099   76.000000\n",
       "std     12.446248   11.536319    0.569277    0.321843   44.311398\n",
       "min      4.815000    5.952200    6.093923   50.653236    0.000000\n",
       "25%     28.457900   28.894350    6.771801   51.169437   38.000000\n",
       "50%     39.655600   38.707800    6.985164   51.362829   76.000000\n",
       "75%     47.359000   44.434850    7.453887   51.524022  114.000000\n",
       "max     63.583200   66.280400    8.747085   52.061461  152.000000"
      ]
     },
     "execution_count": 39,
     "metadata": {},
     "output_type": "execute_result"
    }
   ],
   "source": [
    "no2.describe()"
   ]
  },
  {
   "cell_type": "markdown",
   "metadata": {},
   "source": [
    "Unterschied 2014 und 2015 berechnen \n",
    "http://chrisalbon.com/python/pandas_make_new_columns_using_functions.html"
   ]
  },
  {
   "cell_type": "code",
   "execution_count": 40,
   "metadata": {
    "collapsed": false
   },
   "outputs": [],
   "source": [
    "# Create a function that takes two inputs, pre and post\n",
    "def pre_post_difference(pre, post):\n",
    "    # returns the difference between post and pre\n",
    "    return post - pre"
   ]
  },
  {
   "cell_type": "code",
   "execution_count": 41,
   "metadata": {
    "collapsed": false
   },
   "outputs": [],
   "source": [
    "# Create a variable that is the output of the function\n",
    "no2['change'] = pre_post_difference(no2['jahr_2014'], no2['jahr_2015'])\n",
    "\n",
    "# View the dataframe\n",
    "change = no2[no2['change'] > 0]"
   ]
  },
  {
   "cell_type": "code",
   "execution_count": 42,
   "metadata": {
    "collapsed": false
   },
   "outputs": [
    {
     "data": {
      "text/plain": [
       "(20, 13)"
      ]
     },
     "execution_count": 42,
     "metadata": {},
     "output_type": "execute_result"
    }
   ],
   "source": [
    "change.shape"
   ]
  },
  {
   "cell_type": "code",
   "execution_count": 43,
   "metadata": {
    "collapsed": false
   },
   "outputs": [
    {
     "data": {
      "text/plain": [
       "0.15384615384615385"
      ]
     },
     "execution_count": 43,
     "metadata": {},
     "output_type": "execute_result"
    }
   ],
   "source": [
    "# In 20 von ca 130 Messstationen sind Werte gestiegen \n",
    "20/130"
   ]
  },
  {
   "cell_type": "code",
   "execution_count": 47,
   "metadata": {
    "collapsed": false
   },
   "outputs": [
    {
     "data": {
      "text/html": [
       "<div>\n",
       "<table border=\"1\" class=\"dataframe\">\n",
       "  <thead>\n",
       "    <tr style=\"text-align: right;\">\n",
       "      <th></th>\n",
       "      <th>name</th>\n",
       "      <th>stadt</th>\n",
       "      <th>stoff</th>\n",
       "      <th>einheit</th>\n",
       "      <th>jahr_2014</th>\n",
       "      <th>jahr_2015</th>\n",
       "      <th>typ</th>\n",
       "      <th>gebiet</th>\n",
       "      <th>x</th>\n",
       "      <th>y</th>\n",
       "      <th>id</th>\n",
       "      <th>ueberschritten</th>\n",
       "      <th>change</th>\n",
       "    </tr>\n",
       "  </thead>\n",
       "  <tbody>\n",
       "    <tr>\n",
       "      <th>75</th>\n",
       "      <td>Köln Clevischer Ring 3</td>\n",
       "      <td>Köln</td>\n",
       "      <td>Stickstoffdioxid</td>\n",
       "      <td>µg/m³</td>\n",
       "      <td>63.3006</td>\n",
       "      <td>66.2804</td>\n",
       "      <td>Verkehr</td>\n",
       "      <td>städtisches Gebiet</td>\n",
       "      <td>7.004590</td>\n",
       "      <td>50.962857</td>\n",
       "      <td>75</td>\n",
       "      <td>True</td>\n",
       "      <td>2.9798</td>\n",
       "    </tr>\n",
       "    <tr>\n",
       "      <th>29</th>\n",
       "      <td>Düsseldorf Corneliusstraße</td>\n",
       "      <td>Düsseldorf</td>\n",
       "      <td>Stickstoffdioxid</td>\n",
       "      <td>µg/m³</td>\n",
       "      <td>63.3449</td>\n",
       "      <td>61.5074</td>\n",
       "      <td>Verkehr</td>\n",
       "      <td>städtisches Gebiet</td>\n",
       "      <td>6.782565</td>\n",
       "      <td>51.213110</td>\n",
       "      <td>29</td>\n",
       "      <td>True</td>\n",
       "      <td>-1.8375</td>\n",
       "    </tr>\n",
       "  </tbody>\n",
       "</table>\n",
       "</div>"
      ],
      "text/plain": [
       "                          name       stadt             stoff einheit  \\\n",
       "75      Köln Clevischer Ring 3        Köln  Stickstoffdioxid   µg/m³   \n",
       "29  Düsseldorf Corneliusstraße  Düsseldorf  Stickstoffdioxid   µg/m³   \n",
       "\n",
       "    jahr_2014  jahr_2015      typ              gebiet         x          y  \\\n",
       "75    63.3006    66.2804  Verkehr  städtisches Gebiet  7.004590  50.962857   \n",
       "29    63.3449    61.5074  Verkehr  städtisches Gebiet  6.782565  51.213110   \n",
       "\n",
       "    id ueberschritten  change  \n",
       "75  75           True  2.9798  \n",
       "29  29           True -1.8375  "
      ]
     },
     "execution_count": 47,
     "metadata": {},
     "output_type": "execute_result"
    }
   ],
   "source": [
    "### Output für FNA und Bubble Chart vorbereiten \n",
    "no2.head(2)"
   ]
  },
  {
   "cell_type": "code",
   "execution_count": 48,
   "metadata": {
    "collapsed": false
   },
   "outputs": [],
   "source": []
  },
  {
   "cell_type": "markdown",
   "metadata": {},
   "source": [
    "### File ausgeben: "
   ]
  },
  {
   "cell_type": "code",
   "execution_count": 45,
   "metadata": {
    "collapsed": true
   },
   "outputs": [],
   "source": [
    "no2.to_csv('no2_marker.csv')"
   ]
  },
  {
   "cell_type": "code",
   "execution_count": null,
   "metadata": {
    "collapsed": true
   },
   "outputs": [],
   "source": []
  },
  {
   "cell_type": "code",
   "execution_count": null,
   "metadata": {
    "collapsed": true
   },
   "outputs": [],
   "source": [
    "change_s = no2.sort_values(by='change', ascending=False)"
   ]
  },
  {
   "cell_type": "markdown",
   "metadata": {},
   "source": [
    "### Bubble Chart ! "
   ]
  },
  {
   "cell_type": "markdown",
   "metadata": {},
   "source": [
    "- On the x-axis: 2014 - (“income”)\n",
    "- On the y-axis: 2015 - (“health”). \n",
    "- Size of the bubbles: Change - (population) \n",
    "- Some tools call that a scatterplot, some call it a bubble chart."
   ]
  },
  {
   "cell_type": "markdown",
   "metadata": {},
   "source": [
    "#### Matplotlib"
   ]
  },
  {
   "cell_type": "code",
   "execution_count": 132,
   "metadata": {
    "collapsed": false
   },
   "outputs": [
    {
     "data": {
      "image/png": "[encoded data removed]",
      "text/plain": [
       "<matplotlib.figure.Figure at 0xa09e8a8c>"
      ]
     },
     "metadata": {},
     "output_type": "display_data"
    }
   ],
   "source": [
    "#import libraries\n",
    "import numpy as np\n",
    "import pandas as pd\n",
    "import matplotlib.pyplot as plt\n",
    "import matplotlib\n",
    "\n",
    "%matplotlib inline\n",
    "\n",
    "#read data\n",
    "data = pd.read_csv(\"no2_marker.csv\")\n",
    "\n",
    "#plot chart\n",
    "# plt.scatter(np.log(no2['jahr_2015']), no2['jahr_2014'], s=no2['change']*200, c='blue')\n",
    "# plt.xlim(xmin=0) #set origin for x axis to zero\n",
    "# plt.show()\n",
    "\n",
    "matplotlib.rcParams['figure.figsize'] = (15.0, 15.0)\n",
    "\n",
    "plt.scatter(no2['jahr_2014'], no2['jahr_2015'], s=70)\n",
    "plt.title('2014 > 2015', loc='left', size=25)\n",
    "plt.xlabel('2014', size=18)\n",
    "plt.ylabel('2015', size=18)\n",
    "\n",
    "x = range(0,70)\n",
    "# plt.xticks(x)\n",
    "# plt.yticks(x)"
   ]
  },
  {
   "cell_type": "code",
   "execution_count": 131,
   "metadata": {
    "collapsed": false
   },
   "outputs": [
    {
     "data": {
      "text/plain": [
       "<matplotlib.collections.PathCollection at 0xa724cfec>"
      ]
     },
     "execution_count": 131,
     "metadata": {},
     "output_type": "execute_result"
    },
    {
     "data": {
      "image/png": "[encoded data removed]",
      "text/plain": [
       "<matplotlib.figure.Figure at 0xa10a70ec>"
      ]
     },
     "metadata": {},
     "output_type": "display_data"
    }
   ],
   "source": [
    "# Bubble chart mit s=change bedeutet, dass alle Werte unter 0 nicht angezeigt werden\n",
    "matplotlib.rcParams['figure.figsize'] = (10.0, 10.0)\n",
    "plt.scatter(no2['jahr_2014'], no2['jahr_2015'], s=no2['change']*700)"
   ]
  },
  {
   "cell_type": "markdown",
   "metadata": {},
   "source": [
    "#### Seaborn"
   ]
  },
  {
   "cell_type": "code",
   "execution_count": 154,
   "metadata": {
    "collapsed": false
   },
   "outputs": [
    {
     "data": {
      "image/png": "[encoded data removed]",
      "text/plain": [
       "<matplotlib.figure.Figure at 0x9dce1dac>"
      ]
     },
     "metadata": {},
     "output_type": "display_data"
    }
   ],
   "source": [
    "#import libraries\n",
    "import pandas as pd\n",
    "import matplotlib.pyplot as plt\n",
    "import seaborn as sns\n",
    "\n",
    "#read data\n",
    "data = pd.read_csv(\"no2_marker.csv\")\n",
    "\n",
    "#plot chart\n",
    "g = sns.regplot('jahr_2015', 'jahr_2014', data=data, color='r',fit_reg=False)\n",
    "# g.set_xscale('log')\n",
    "name=\"x_var\"\n",
    "plt.show()"
   ]
  },
  {
   "cell_type": "markdown",
   "metadata": {},
   "source": [
    "#### Bokeh"
   ]
  },
  {
   "cell_type": "code",
   "execution_count": 159,
   "metadata": {
    "collapsed": false
   },
   "outputs": [],
   "source": [
    "#import libraries\n",
    "import pandas as pd\n",
    "from bokeh.plotting import figure, show, output_file\n",
    "\n",
    "#read data\n",
    "data = pd.read_csv(\"no2_marker.csv\")\n",
    "\n",
    "#plot chart\n",
    "p = figure()\n",
    "p.scatter(no2['jahr_2014'], no2['jahr_2015'], radius=no2['change'],\n",
    "          fill_color='blue', fill_alpha=0.4, line_color=None)\n",
    "\n",
    "#write as html file and open in browser\n",
    "output_file(\"scatterplot.html\")\n",
    "show(p)\n",
    "\n"
   ]
  },
  {
   "cell_type": "code",
   "execution_count": null,
   "metadata": {
    "collapsed": true
   },
   "outputs": [],
   "source": []
  }
 ],
 "metadata": {
  "kernelspec": {
   "display_name": "Python 3",
   "language": "python",
   "name": "python3"
  },
  "language_info": {
   "codemirror_mode": {
    "name": "ipython",
    "version": 3
   },
   "file_extension": ".py",
   "mimetype": "text/x-python",
   "name": "python",
   "nbconvert_exporter": "python",
   "pygments_lexer": "ipython3",
   "version": "3.4.2"
  }
 },
 "nbformat": 4,
 "nbformat_minor": 0
}
