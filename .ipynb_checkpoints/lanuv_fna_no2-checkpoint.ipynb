{
 "cells": [
  {
   "cell_type": "markdown",
   "metadata": {},
   "source": [
    "# Lanuv: Excel into Pandas \n",
    "[http://hayd.github.io/2013/pandas-json/]"
   ]
  },
  {
   "cell_type": "code",
   "execution_count": 1,
   "metadata": {
    "collapsed": true
   },
   "outputs": [],
   "source": [
    "import pandas as pd\n",
    "import numpy as np\n",
    "import re\n",
    "import json\n",
    "import requests"
   ]
  },
  {
   "cell_type": "code",
   "execution_count": 2,
   "metadata": {
    "collapsed": false
   },
   "outputs": [
    {
     "data": {
      "text/plain": [
       "(153, 11)"
      ]
     },
     "execution_count": 2,
     "metadata": {},
     "output_type": "execute_result"
    }
   ],
   "source": [
    "f = 'Anfrage_Rentmeister.xlsx'\n",
    "df = pd.read_excel(f, sheetname='NO2_JMW')\n",
    "df.shape"
   ]
  },
  {
   "cell_type": "code",
   "execution_count": 3,
   "metadata": {
    "collapsed": false
   },
   "outputs": [
    {
     "data": {
      "text/plain": [
       "Index([   'Stationscode',    'Stationsname',      'Schadstoff',\n",
       "               'Einheit',       'dataGroup',              2014,\n",
       "                    2015, 'TYPE_OF_STATION',    'TYPE_OF_AREA',\n",
       "                 'Länge',          'Breite'],\n",
       "      dtype='object')"
      ]
     },
     "execution_count": 3,
     "metadata": {},
     "output_type": "execute_result"
    }
   ],
   "source": [
    "df.columns\n",
    "# df.sort_values(by='2014')"
   ]
  },
  {
   "cell_type": "code",
   "execution_count": null,
   "metadata": {
    "collapsed": false
   },
   "outputs": [],
   "source": []
  },
  {
   "cell_type": "code",
   "execution_count": 4,
   "metadata": {
    "collapsed": false
   },
   "outputs": [
    {
     "data": {
      "text/html": [
       "<div>\n",
       "<table border=\"1\" class=\"dataframe\">\n",
       "  <thead>\n",
       "    <tr style=\"text-align: right;\">\n",
       "      <th></th>\n",
       "      <th>Stationscode</th>\n",
       "      <th>Stationsname</th>\n",
       "      <th>Schadstoff</th>\n",
       "      <th>Einheit</th>\n",
       "      <th>dataGroup</th>\n",
       "      <th>2014</th>\n",
       "      <th>2015</th>\n",
       "      <th>TYPE_OF_STATION</th>\n",
       "      <th>TYPE_OF_AREA</th>\n",
       "      <th>Länge</th>\n",
       "      <th>Breite</th>\n",
       "    </tr>\n",
       "  </thead>\n",
       "  <tbody>\n",
       "    <tr>\n",
       "      <th>0</th>\n",
       "      <td>DENW002</td>\n",
       "      <td>Datteln-Hagem</td>\n",
       "      <td>Stickstoffdioxid</td>\n",
       "      <td>µg/m³</td>\n",
       "      <td>halb- oder stündliche Messung</td>\n",
       "      <td>21.1261</td>\n",
       "      <td>20.3173</td>\n",
       "      <td>Hintergrund</td>\n",
       "      <td>vorstädtisches Gebiet</td>\n",
       "      <td>7.331405</td>\n",
       "      <td>51.641383</td>\n",
       "    </tr>\n",
       "  </tbody>\n",
       "</table>\n",
       "</div>"
      ],
      "text/plain": [
       "  Stationscode   Stationsname        Schadstoff Einheit  \\\n",
       "0      DENW002  Datteln-Hagem  Stickstoffdioxid   µg/m³   \n",
       "\n",
       "                       dataGroup     2014     2015 TYPE_OF_STATION  \\\n",
       "0  halb- oder stündliche Messung  21.1261  20.3173     Hintergrund   \n",
       "\n",
       "            TYPE_OF_AREA     Länge     Breite  \n",
       "0  vorstädtisches Gebiet  7.331405  51.641383  "
      ]
     },
     "execution_count": 4,
     "metadata": {},
     "output_type": "execute_result"
    }
   ],
   "source": [
    "df.head(1)"
   ]
  },
  {
   "cell_type": "code",
   "execution_count": 5,
   "metadata": {
    "collapsed": false
   },
   "outputs": [
    {
     "data": {
      "text/plain": [
       "148    Düsseldorf\n",
       "149     Paderborn\n",
       "150       Bottrop\n",
       "151      Schwerte\n",
       "152         Herne\n",
       "Name: Stadt, dtype: object"
      ]
     },
     "execution_count": 5,
     "metadata": {},
     "output_type": "execute_result"
    }
   ],
   "source": [
    "# Städte rausziehen \n",
    "\n",
    "stadt = df['Stationsname'].str.split(' ').str.get(0)\n",
    "stadt2 = stadt.str.split('-').str.get(0)\n",
    "\n",
    "df['Stadt'] = stadt2\n",
    "df['Stadt'].tail()"
   ]
  },
  {
   "cell_type": "code",
   "execution_count": 6,
   "metadata": {
    "collapsed": false
   },
   "outputs": [
    {
     "data": {
      "text/plain": [
       "Index([   'Stationscode',    'Stationsname',      'Schadstoff',\n",
       "               'Einheit',       'dataGroup',              2014,\n",
       "                    2015, 'TYPE_OF_STATION',    'TYPE_OF_AREA',\n",
       "                 'Länge',          'Breite',           'Stadt'],\n",
       "      dtype='object')"
      ]
     },
     "execution_count": 6,
     "metadata": {},
     "output_type": "execute_result"
    }
   ],
   "source": [
    "df.columns"
   ]
  },
  {
   "cell_type": "code",
   "execution_count": 7,
   "metadata": {
    "collapsed": false
   },
   "outputs": [],
   "source": [
    "df.columns = ['Stationscode', 'Stationsname','Schadstoff', 'Einheit', 'dataGroup', 'Jahr-2014', 'Jahr-2015', 'TYPE_OF_STATION', 'TYPE_OF_AREA', 'Länge', 'Breite', 'Stadt']"
   ]
  },
  {
   "cell_type": "code",
   "execution_count": 8,
   "metadata": {
    "collapsed": false
   },
   "outputs": [
    {
     "data": {
      "text/html": [
       "<div>\n",
       "<table border=\"1\" class=\"dataframe\">\n",
       "  <thead>\n",
       "    <tr style=\"text-align: right;\">\n",
       "      <th></th>\n",
       "      <th>Stationscode</th>\n",
       "      <th>Stationsname</th>\n",
       "      <th>Schadstoff</th>\n",
       "      <th>Einheit</th>\n",
       "      <th>dataGroup</th>\n",
       "      <th>Jahr-2014</th>\n",
       "      <th>Jahr-2015</th>\n",
       "      <th>TYPE_OF_STATION</th>\n",
       "      <th>TYPE_OF_AREA</th>\n",
       "      <th>Länge</th>\n",
       "      <th>Breite</th>\n",
       "      <th>Stadt</th>\n",
       "    </tr>\n",
       "  </thead>\n",
       "  <tbody>\n",
       "    <tr>\n",
       "      <th>0</th>\n",
       "      <td>DENW002</td>\n",
       "      <td>Datteln-Hagem</td>\n",
       "      <td>Stickstoffdioxid</td>\n",
       "      <td>µg/m³</td>\n",
       "      <td>halb- oder stündliche Messung</td>\n",
       "      <td>21.1261</td>\n",
       "      <td>20.3173</td>\n",
       "      <td>Hintergrund</td>\n",
       "      <td>vorstädtisches Gebiet</td>\n",
       "      <td>7.331405</td>\n",
       "      <td>51.641383</td>\n",
       "      <td>Datteln</td>\n",
       "    </tr>\n",
       "    <tr>\n",
       "      <th>1</th>\n",
       "      <td>DENW006</td>\n",
       "      <td>Lünen-Niederaden</td>\n",
       "      <td>Stickstoffdioxid</td>\n",
       "      <td>µg/m³</td>\n",
       "      <td>halb- oder stündliche Messung</td>\n",
       "      <td>27.438</td>\n",
       "      <td>24.3654</td>\n",
       "      <td>Hintergrund</td>\n",
       "      <td>vorstädtisches Gebiet</td>\n",
       "      <td>7.569838</td>\n",
       "      <td>51.592206</td>\n",
       "      <td>Lünen</td>\n",
       "    </tr>\n",
       "  </tbody>\n",
       "</table>\n",
       "</div>"
      ],
      "text/plain": [
       "  Stationscode      Stationsname        Schadstoff Einheit  \\\n",
       "0      DENW002     Datteln-Hagem  Stickstoffdioxid   µg/m³   \n",
       "1      DENW006  Lünen-Niederaden  Stickstoffdioxid   µg/m³   \n",
       "\n",
       "                       dataGroup Jahr-2014 Jahr-2015 TYPE_OF_STATION  \\\n",
       "0  halb- oder stündliche Messung   21.1261   20.3173     Hintergrund   \n",
       "1  halb- oder stündliche Messung    27.438   24.3654     Hintergrund   \n",
       "\n",
       "            TYPE_OF_AREA     Länge     Breite    Stadt  \n",
       "0  vorstädtisches Gebiet  7.331405  51.641383  Datteln  \n",
       "1  vorstädtisches Gebiet  7.569838  51.592206    Lünen  "
      ]
     },
     "execution_count": 8,
     "metadata": {},
     "output_type": "execute_result"
    }
   ],
   "source": [
    "df.head(2)"
   ]
  },
  {
   "cell_type": "code",
   "execution_count": 9,
   "metadata": {
    "collapsed": false
   },
   "outputs": [
    {
     "data": {
      "text/html": [
       "<div>\n",
       "<table border=\"1\" class=\"dataframe\">\n",
       "  <thead>\n",
       "    <tr style=\"text-align: right;\">\n",
       "      <th></th>\n",
       "      <th>Stationscode</th>\n",
       "      <th>Stationsname</th>\n",
       "      <th>Schadstoff</th>\n",
       "      <th>Einheit</th>\n",
       "      <th>dataGroup</th>\n",
       "      <th>Jahr-2014</th>\n",
       "      <th>Jahr-2015</th>\n",
       "      <th>TYPE_OF_STATION</th>\n",
       "      <th>TYPE_OF_AREA</th>\n",
       "      <th>Länge</th>\n",
       "      <th>Breite</th>\n",
       "      <th>Stadt</th>\n",
       "    </tr>\n",
       "  </thead>\n",
       "  <tbody>\n",
       "    <tr>\n",
       "      <th>0</th>\n",
       "      <td>DENW002</td>\n",
       "      <td>Datteln-Hagem</td>\n",
       "      <td>Stickstoffdioxid</td>\n",
       "      <td>µg/m³</td>\n",
       "      <td>halb- oder stündliche Messung</td>\n",
       "      <td>21.1261</td>\n",
       "      <td>20.3173</td>\n",
       "      <td>Hintergrund</td>\n",
       "      <td>vorstädtisches Gebiet</td>\n",
       "      <td>7.331405</td>\n",
       "      <td>51.641383</td>\n",
       "      <td>Datteln</td>\n",
       "    </tr>\n",
       "    <tr>\n",
       "      <th>1</th>\n",
       "      <td>DENW006</td>\n",
       "      <td>Lünen-Niederaden</td>\n",
       "      <td>Stickstoffdioxid</td>\n",
       "      <td>µg/m³</td>\n",
       "      <td>halb- oder stündliche Messung</td>\n",
       "      <td>27.438</td>\n",
       "      <td>24.3654</td>\n",
       "      <td>Hintergrund</td>\n",
       "      <td>vorstädtisches Gebiet</td>\n",
       "      <td>7.569838</td>\n",
       "      <td>51.592206</td>\n",
       "      <td>Lünen</td>\n",
       "    </tr>\n",
       "    <tr>\n",
       "      <th>2</th>\n",
       "      <td>DENW008</td>\n",
       "      <td>Dortmund-Eving</td>\n",
       "      <td>Stickstoffdioxid</td>\n",
       "      <td>µg/m³</td>\n",
       "      <td>halb- oder stündliche Messung</td>\n",
       "      <td>27.6639</td>\n",
       "      <td>26.5309</td>\n",
       "      <td>Hintergrund</td>\n",
       "      <td>städtisches Gebiet</td>\n",
       "      <td>7.457463</td>\n",
       "      <td>51.536911</td>\n",
       "      <td>Dortmund</td>\n",
       "    </tr>\n",
       "    <tr>\n",
       "      <th>3</th>\n",
       "      <td>DENW010</td>\n",
       "      <td>Unna-Königsborn</td>\n",
       "      <td>Stickstoffdioxid</td>\n",
       "      <td>µg/m³</td>\n",
       "      <td>halb- oder stündliche Messung</td>\n",
       "      <td>20.9525</td>\n",
       "      <td>20.9618</td>\n",
       "      <td>Hintergrund</td>\n",
       "      <td>vorstädtisches Gebiet</td>\n",
       "      <td>7.693835</td>\n",
       "      <td>51.547495</td>\n",
       "      <td>Unna</td>\n",
       "    </tr>\n",
       "    <tr>\n",
       "      <th>4</th>\n",
       "      <td>DENW021</td>\n",
       "      <td>Bottrop-Welheim</td>\n",
       "      <td>Stickstoffdioxid</td>\n",
       "      <td>µg/m³</td>\n",
       "      <td>halb- oder stündliche Messung</td>\n",
       "      <td>27.3434</td>\n",
       "      <td>26.3245</td>\n",
       "      <td>Industrie</td>\n",
       "      <td>städtisches Gebiet</td>\n",
       "      <td>6.976908</td>\n",
       "      <td>51.525963</td>\n",
       "      <td>Bottrop</td>\n",
       "    </tr>\n",
       "  </tbody>\n",
       "</table>\n",
       "</div>"
      ],
      "text/plain": [
       "  Stationscode      Stationsname        Schadstoff Einheit  \\\n",
       "0      DENW002     Datteln-Hagem  Stickstoffdioxid   µg/m³   \n",
       "1      DENW006  Lünen-Niederaden  Stickstoffdioxid   µg/m³   \n",
       "2      DENW008    Dortmund-Eving  Stickstoffdioxid   µg/m³   \n",
       "3      DENW010   Unna-Königsborn  Stickstoffdioxid   µg/m³   \n",
       "4      DENW021   Bottrop-Welheim  Stickstoffdioxid   µg/m³   \n",
       "\n",
       "                       dataGroup Jahr-2014 Jahr-2015 TYPE_OF_STATION  \\\n",
       "0  halb- oder stündliche Messung   21.1261   20.3173     Hintergrund   \n",
       "1  halb- oder stündliche Messung    27.438   24.3654     Hintergrund   \n",
       "2  halb- oder stündliche Messung   27.6639   26.5309     Hintergrund   \n",
       "3  halb- oder stündliche Messung   20.9525   20.9618     Hintergrund   \n",
       "4  halb- oder stündliche Messung   27.3434   26.3245       Industrie   \n",
       "\n",
       "            TYPE_OF_AREA     Länge     Breite     Stadt  \n",
       "0  vorstädtisches Gebiet  7.331405  51.641383   Datteln  \n",
       "1  vorstädtisches Gebiet  7.569838  51.592206     Lünen  \n",
       "2     städtisches Gebiet  7.457463  51.536911  Dortmund  \n",
       "3  vorstädtisches Gebiet  7.693835  51.547495      Unna  \n",
       "4     städtisches Gebiet  6.976908  51.525963   Bottrop  "
      ]
     },
     "execution_count": 9,
     "metadata": {},
     "output_type": "execute_result"
    }
   ],
   "source": [
    "# df.columns\n",
    "# df = df.drop(['Stationscode','Stationsname', 'Schadstoff', 'Einheit', 'dataGroup', 'Jahr-2014', 'Jahr-2015', 'TYPE_OF_STATION', 'TYPE_OF_AREA', ] , axis=1)\n",
    "df.head()"
   ]
  },
  {
   "cell_type": "code",
   "execution_count": 10,
   "metadata": {
    "collapsed": false
   },
   "outputs": [
    {
     "data": {
      "text/plain": [
       "(13, 12)"
      ]
     },
     "execution_count": 10,
     "metadata": {},
     "output_type": "execute_result"
    }
   ],
   "source": [
    "bindestrich_2014 = df[df['Jahr-2014']== '-']\n",
    "bindestrich_2014.shape\n",
    "# 2014 13 Stationen mit '-'"
   ]
  },
  {
   "cell_type": "code",
   "execution_count": 11,
   "metadata": {
    "collapsed": false
   },
   "outputs": [
    {
     "data": {
      "text/plain": [
       "(11, 12)"
      ]
     },
     "execution_count": 11,
     "metadata": {},
     "output_type": "execute_result"
    }
   ],
   "source": [
    "bindestrich_2015 = df[df['Jahr-2015']== '-']\n",
    "bindestrich_2015.shape\n",
    "\n",
    "# 2015 11 Stationen mit '-'"
   ]
  },
  {
   "cell_type": "code",
   "execution_count": 12,
   "metadata": {
    "collapsed": false
   },
   "outputs": [
    {
     "data": {
      "text/html": [
       "<div>\n",
       "<table border=\"1\" class=\"dataframe\">\n",
       "  <thead>\n",
       "    <tr style=\"text-align: right;\">\n",
       "      <th></th>\n",
       "      <th>Stationscode</th>\n",
       "      <th>Stationsname</th>\n",
       "      <th>Schadstoff</th>\n",
       "      <th>Einheit</th>\n",
       "      <th>dataGroup</th>\n",
       "      <th>Jahr-2014</th>\n",
       "      <th>Jahr-2015</th>\n",
       "      <th>TYPE_OF_STATION</th>\n",
       "      <th>TYPE_OF_AREA</th>\n",
       "      <th>Länge</th>\n",
       "      <th>Breite</th>\n",
       "      <th>Stadt</th>\n",
       "    </tr>\n",
       "  </thead>\n",
       "  <tbody>\n",
       "  </tbody>\n",
       "</table>\n",
       "</div>"
      ],
      "text/plain": [
       "Empty DataFrame\n",
       "Columns: [Stationscode, Stationsname, Schadstoff, Einheit, dataGroup, Jahr-2014, Jahr-2015, TYPE_OF_STATION, TYPE_OF_AREA, Länge, Breite, Stadt]\n",
       "Index: []"
      ]
     },
     "execution_count": 12,
     "metadata": {},
     "output_type": "execute_result"
    }
   ],
   "source": [
    "df[(df['Jahr-2014'] == '-') & (df['Jahr-2015'] == '-')]\n",
    "# Keine Station 2014 und 2015 mit '-'"
   ]
  },
  {
   "cell_type": "code",
   "execution_count": 13,
   "metadata": {
    "collapsed": false
   },
   "outputs": [],
   "source": [
    "clean_year = df[['Jahr-2014', 'Jahr-2015']]"
   ]
  },
  {
   "cell_type": "code",
   "execution_count": 14,
   "metadata": {
    "collapsed": false
   },
   "outputs": [
    {
     "name": "stderr",
     "output_type": "stream",
     "text": [
      "/usr/local/lib/python3.4/dist-packages/ipykernel/__main__.py:1: SettingWithCopyWarning: \n",
      "A value is trying to be set on a copy of a slice from a DataFrame.\n",
      "Try using .loc[row_indexer,col_indexer] = value instead\n",
      "\n",
      "See the caveats in the documentation: http://pandas.pydata.org/pandas-docs/stable/indexing.html#indexing-view-versus-copy\n",
      "  if __name__ == '__main__':\n"
     ]
    }
   ],
   "source": [
    "clean_year['Jahr-2014'] = pd.to_numeric(clean_year['Jahr-2014'], errors='coerce')"
   ]
  },
  {
   "cell_type": "code",
   "execution_count": 15,
   "metadata": {
    "collapsed": false
   },
   "outputs": [
    {
     "name": "stderr",
     "output_type": "stream",
     "text": [
      "/usr/local/lib/python3.4/dist-packages/ipykernel/__main__.py:1: SettingWithCopyWarning: \n",
      "A value is trying to be set on a copy of a slice from a DataFrame.\n",
      "Try using .loc[row_indexer,col_indexer] = value instead\n",
      "\n",
      "See the caveats in the documentation: http://pandas.pydata.org/pandas-docs/stable/indexing.html#indexing-view-versus-copy\n",
      "  if __name__ == '__main__':\n"
     ]
    }
   ],
   "source": [
    "clean_year['Jahr-2015'] = pd.to_numeric(clean_year['Jahr-2015'], errors='coerce')\n",
    "# clean_year.applymap(lambda x: isinstance(x, (int, float)))clean_year = pd.to_numeric(clean_year['Jahr-2015'], errors='coerce')\n",
    "# clean_year.applymap(lambda x: isinstance(x, (int, float)))"
   ]
  },
  {
   "cell_type": "code",
   "execution_count": 16,
   "metadata": {
    "collapsed": false
   },
   "outputs": [
    {
     "data": {
      "text/plain": [
       "Jahr-2014    float64\n",
       "Jahr-2015    float64\n",
       "dtype: object"
      ]
     },
     "execution_count": 16,
     "metadata": {},
     "output_type": "execute_result"
    }
   ],
   "source": [
    "clean_year.dtypes"
   ]
  },
  {
   "cell_type": "code",
   "execution_count": null,
   "metadata": {
    "collapsed": true
   },
   "outputs": [],
   "source": []
  },
  {
   "cell_type": "code",
   "execution_count": null,
   "metadata": {
    "collapsed": true
   },
   "outputs": [],
   "source": []
  },
  {
   "cell_type": "code",
   "execution_count": 17,
   "metadata": {
    "collapsed": false
   },
   "outputs": [
    {
     "name": "stderr",
     "output_type": "stream",
     "text": [
      "/usr/local/lib/python3.4/dist-packages/ipykernel/__main__.py:1: SettingWithCopyWarning: \n",
      "A value is trying to be set on a copy of a slice from a DataFrame.\n",
      "Try using .loc[row_indexer,col_indexer] = value instead\n",
      "\n",
      "See the caveats in the documentation: http://pandas.pydata.org/pandas-docs/stable/indexing.html#indexing-view-versus-copy\n",
      "  if __name__ == '__main__':\n"
     ]
    },
    {
     "data": {
      "text/plain": [
       "21.126100000000001"
      ]
     },
     "execution_count": 17,
     "metadata": {},
     "output_type": "execute_result"
    }
   ],
   "source": [
    "clean_year['Jahr-2014'] = clean_year['Jahr-2014'].where(clean_year['Jahr-2014'] > 0, np.nan)\n",
    "clean_year['Jahr-2014'][0]"
   ]
  },
  {
   "cell_type": "code",
   "execution_count": 18,
   "metadata": {
    "collapsed": false
   },
   "outputs": [
    {
     "name": "stderr",
     "output_type": "stream",
     "text": [
      "/usr/local/lib/python3.4/dist-packages/ipykernel/__main__.py:1: SettingWithCopyWarning: \n",
      "A value is trying to be set on a copy of a slice from a DataFrame.\n",
      "Try using .loc[row_indexer,col_indexer] = value instead\n",
      "\n",
      "See the caveats in the documentation: http://pandas.pydata.org/pandas-docs/stable/indexing.html#indexing-view-versus-copy\n",
      "  if __name__ == '__main__':\n"
     ]
    },
    {
     "data": {
      "text/plain": [
       "20.317299999999999"
      ]
     },
     "execution_count": 18,
     "metadata": {},
     "output_type": "execute_result"
    }
   ],
   "source": [
    "clean_year['Jahr-2015'] = clean_year['Jahr-2015'].where(clean_year['Jahr-2015'] > 0, np.nan)\n",
    "clean_year['Jahr-2015'][0]"
   ]
  },
  {
   "cell_type": "code",
   "execution_count": null,
   "metadata": {
    "collapsed": true
   },
   "outputs": [],
   "source": []
  },
  {
   "cell_type": "code",
   "execution_count": 19,
   "metadata": {
    "collapsed": false
   },
   "outputs": [],
   "source": [
    "df['c-2014'] = clean_year['Jahr-2014']\n",
    "df['c-2015'] = clean_year['Jahr-2015']"
   ]
  },
  {
   "cell_type": "code",
   "execution_count": 20,
   "metadata": {
    "collapsed": true
   },
   "outputs": [],
   "source": [
    "df['id'] = df.index\n",
    "# df.index = df['Stationsname']"
   ]
  },
  {
   "cell_type": "code",
   "execution_count": 21,
   "metadata": {
    "collapsed": false
   },
   "outputs": [
    {
     "data": {
      "text/plain": [
       "(64, 15)"
      ]
     },
     "execution_count": 21,
     "metadata": {},
     "output_type": "execute_result"
    }
   ],
   "source": [
    "# Grenzwert 40 überschritten?\n",
    "\n",
    "drueber = df[df['c-2014'] >40]\n",
    "drueber.shape\n",
    "\n",
    "# 2014 wurde der Grenzwert an 64 Messstationen überschritten "
   ]
  },
  {
   "cell_type": "code",
   "execution_count": 22,
   "metadata": {
    "collapsed": false
   },
   "outputs": [],
   "source": [
    "# Welches sind die Stationen mit den höchsten Messwerten?\n",
    "drueber_s = drueber.sort_values(by='c-2014', ascending = False)\n"
   ]
  },
  {
   "cell_type": "code",
   "execution_count": 23,
   "metadata": {
    "collapsed": false
   },
   "outputs": [
    {
     "data": {
      "text/html": [
       "<div>\n",
       "<table border=\"1\" class=\"dataframe\">\n",
       "  <thead>\n",
       "    <tr>\n",
       "      <th></th>\n",
       "      <th>Stationscode</th>\n",
       "      <th>Stationsname</th>\n",
       "      <th>Schadstoff</th>\n",
       "      <th>Einheit</th>\n",
       "      <th>dataGroup</th>\n",
       "      <th>Jahr-2014</th>\n",
       "      <th>Jahr-2015</th>\n",
       "      <th>TYPE_OF_STATION</th>\n",
       "      <th>TYPE_OF_AREA</th>\n",
       "      <th>Länge</th>\n",
       "      <th>Breite</th>\n",
       "      <th>c-2014</th>\n",
       "      <th>c-2015</th>\n",
       "      <th>id</th>\n",
       "    </tr>\n",
       "    <tr>\n",
       "      <th></th>\n",
       "      <th>count</th>\n",
       "      <th>count</th>\n",
       "      <th>count</th>\n",
       "      <th>count</th>\n",
       "      <th>count</th>\n",
       "      <th>count</th>\n",
       "      <th>count</th>\n",
       "      <th>count</th>\n",
       "      <th>count</th>\n",
       "      <th>count</th>\n",
       "      <th>count</th>\n",
       "      <th>count</th>\n",
       "      <th>count</th>\n",
       "      <th>count</th>\n",
       "    </tr>\n",
       "    <tr>\n",
       "      <th>Stadt</th>\n",
       "      <th></th>\n",
       "      <th></th>\n",
       "      <th></th>\n",
       "      <th></th>\n",
       "      <th></th>\n",
       "      <th></th>\n",
       "      <th></th>\n",
       "      <th></th>\n",
       "      <th></th>\n",
       "      <th></th>\n",
       "      <th></th>\n",
       "      <th></th>\n",
       "      <th></th>\n",
       "      <th></th>\n",
       "    </tr>\n",
       "  </thead>\n",
       "  <tbody>\n",
       "    <tr>\n",
       "      <th>Köln</th>\n",
       "      <td>10</td>\n",
       "      <td>10</td>\n",
       "      <td>10</td>\n",
       "      <td>10</td>\n",
       "      <td>10</td>\n",
       "      <td>10</td>\n",
       "      <td>10</td>\n",
       "      <td>10</td>\n",
       "      <td>10</td>\n",
       "      <td>10</td>\n",
       "      <td>10</td>\n",
       "      <td>9</td>\n",
       "      <td>10</td>\n",
       "      <td>10</td>\n",
       "    </tr>\n",
       "    <tr>\n",
       "      <th>Essen</th>\n",
       "      <td>6</td>\n",
       "      <td>6</td>\n",
       "      <td>6</td>\n",
       "      <td>6</td>\n",
       "      <td>6</td>\n",
       "      <td>6</td>\n",
       "      <td>6</td>\n",
       "      <td>6</td>\n",
       "      <td>6</td>\n",
       "      <td>6</td>\n",
       "      <td>6</td>\n",
       "      <td>6</td>\n",
       "      <td>6</td>\n",
       "      <td>6</td>\n",
       "    </tr>\n",
       "    <tr>\n",
       "      <th>Düsseldorf</th>\n",
       "      <td>4</td>\n",
       "      <td>4</td>\n",
       "      <td>4</td>\n",
       "      <td>4</td>\n",
       "      <td>4</td>\n",
       "      <td>4</td>\n",
       "      <td>4</td>\n",
       "      <td>4</td>\n",
       "      <td>4</td>\n",
       "      <td>4</td>\n",
       "      <td>4</td>\n",
       "      <td>4</td>\n",
       "      <td>4</td>\n",
       "      <td>4</td>\n",
       "    </tr>\n",
       "    <tr>\n",
       "      <th>Dortmund</th>\n",
       "      <td>4</td>\n",
       "      <td>4</td>\n",
       "      <td>4</td>\n",
       "      <td>4</td>\n",
       "      <td>4</td>\n",
       "      <td>4</td>\n",
       "      <td>4</td>\n",
       "      <td>4</td>\n",
       "      <td>4</td>\n",
       "      <td>4</td>\n",
       "      <td>4</td>\n",
       "      <td>4</td>\n",
       "      <td>4</td>\n",
       "      <td>4</td>\n",
       "    </tr>\n",
       "    <tr>\n",
       "      <th>Paderborn</th>\n",
       "      <td>3</td>\n",
       "      <td>3</td>\n",
       "      <td>3</td>\n",
       "      <td>3</td>\n",
       "      <td>3</td>\n",
       "      <td>3</td>\n",
       "      <td>3</td>\n",
       "      <td>3</td>\n",
       "      <td>3</td>\n",
       "      <td>3</td>\n",
       "      <td>3</td>\n",
       "      <td>2</td>\n",
       "      <td>3</td>\n",
       "      <td>3</td>\n",
       "    </tr>\n",
       "  </tbody>\n",
       "</table>\n",
       "</div>"
      ],
      "text/plain": [
       "           Stationscode Stationsname Schadstoff Einheit dataGroup Jahr-2014  \\\n",
       "                  count        count      count   count     count     count   \n",
       "Stadt                                                                         \n",
       "Köln                 10           10         10      10        10        10   \n",
       "Essen                 6            6          6       6         6         6   \n",
       "Düsseldorf            4            4          4       4         4         4   \n",
       "Dortmund              4            4          4       4         4         4   \n",
       "Paderborn             3            3          3       3         3         3   \n",
       "\n",
       "           Jahr-2015 TYPE_OF_STATION TYPE_OF_AREA Länge Breite c-2014 c-2015  \\\n",
       "               count           count        count count  count  count  count   \n",
       "Stadt                                                                          \n",
       "Köln              10              10           10    10     10      9     10   \n",
       "Essen              6               6            6     6      6      6      6   \n",
       "Düsseldorf         4               4            4     4      4      4      4   \n",
       "Dortmund           4               4            4     4      4      4      4   \n",
       "Paderborn          3               3            3     3      3      2      3   \n",
       "\n",
       "              id  \n",
       "           count  \n",
       "Stadt             \n",
       "Köln          10  \n",
       "Essen          6  \n",
       "Düsseldorf     4  \n",
       "Dortmund       4  \n",
       "Paderborn      3  "
      ]
     },
     "execution_count": 23,
     "metadata": {},
     "output_type": "execute_result"
    }
   ],
   "source": [
    "# 2015 Höchste Grenzwerte?\n",
    "top_2015 = df.sort_values(by='c-2015', ascending=False)\n",
    "drueber_2015 = top_2015[top_2015['c-2015'] >40]\n",
    "drueber_2015_staedte = drueber_2015.groupby('Stadt').agg(['count'])\n",
    "drueber_2015_staedte.sort_values(by=[('Stationsname','count')], ascending=False).head(5)"
   ]
  },
  {
   "cell_type": "code",
   "execution_count": 24,
   "metadata": {
    "collapsed": false
   },
   "outputs": [
    {
     "data": {
      "text/html": [
       "<div>\n",
       "<table border=\"1\" class=\"dataframe\">\n",
       "  <thead>\n",
       "    <tr>\n",
       "      <th></th>\n",
       "      <th>Stationscode</th>\n",
       "      <th>Stationsname</th>\n",
       "      <th>Schadstoff</th>\n",
       "      <th>Einheit</th>\n",
       "      <th>dataGroup</th>\n",
       "      <th>Jahr-2014</th>\n",
       "      <th>Jahr-2015</th>\n",
       "      <th>TYPE_OF_STATION</th>\n",
       "      <th>TYPE_OF_AREA</th>\n",
       "      <th>Länge</th>\n",
       "      <th>Breite</th>\n",
       "      <th>c-2014</th>\n",
       "      <th>c-2015</th>\n",
       "      <th>id</th>\n",
       "    </tr>\n",
       "    <tr>\n",
       "      <th></th>\n",
       "      <th>count</th>\n",
       "      <th>count</th>\n",
       "      <th>count</th>\n",
       "      <th>count</th>\n",
       "      <th>count</th>\n",
       "      <th>count</th>\n",
       "      <th>count</th>\n",
       "      <th>count</th>\n",
       "      <th>count</th>\n",
       "      <th>count</th>\n",
       "      <th>count</th>\n",
       "      <th>count</th>\n",
       "      <th>count</th>\n",
       "      <th>count</th>\n",
       "    </tr>\n",
       "    <tr>\n",
       "      <th>Stadt</th>\n",
       "      <th></th>\n",
       "      <th></th>\n",
       "      <th></th>\n",
       "      <th></th>\n",
       "      <th></th>\n",
       "      <th></th>\n",
       "      <th></th>\n",
       "      <th></th>\n",
       "      <th></th>\n",
       "      <th></th>\n",
       "      <th></th>\n",
       "      <th></th>\n",
       "      <th></th>\n",
       "      <th></th>\n",
       "    </tr>\n",
       "  </thead>\n",
       "  <tbody>\n",
       "    <tr>\n",
       "      <th>Düsseldorf</th>\n",
       "      <td>17</td>\n",
       "      <td>17</td>\n",
       "      <td>17</td>\n",
       "      <td>17</td>\n",
       "      <td>17</td>\n",
       "      <td>17</td>\n",
       "      <td>17</td>\n",
       "      <td>17</td>\n",
       "      <td>17</td>\n",
       "      <td>17</td>\n",
       "      <td>17</td>\n",
       "      <td>7</td>\n",
       "      <td>7</td>\n",
       "      <td>17</td>\n",
       "    </tr>\n",
       "    <tr>\n",
       "      <th>Köln</th>\n",
       "      <td>15</td>\n",
       "      <td>15</td>\n",
       "      <td>15</td>\n",
       "      <td>15</td>\n",
       "      <td>15</td>\n",
       "      <td>15</td>\n",
       "      <td>15</td>\n",
       "      <td>15</td>\n",
       "      <td>15</td>\n",
       "      <td>15</td>\n",
       "      <td>15</td>\n",
       "      <td>14</td>\n",
       "      <td>14</td>\n",
       "      <td>15</td>\n",
       "    </tr>\n",
       "    <tr>\n",
       "      <th>Essen</th>\n",
       "      <td>13</td>\n",
       "      <td>13</td>\n",
       "      <td>13</td>\n",
       "      <td>13</td>\n",
       "      <td>13</td>\n",
       "      <td>13</td>\n",
       "      <td>13</td>\n",
       "      <td>13</td>\n",
       "      <td>13</td>\n",
       "      <td>13</td>\n",
       "      <td>13</td>\n",
       "      <td>13</td>\n",
       "      <td>12</td>\n",
       "      <td>13</td>\n",
       "    </tr>\n",
       "    <tr>\n",
       "      <th>Dortmund</th>\n",
       "      <td>6</td>\n",
       "      <td>6</td>\n",
       "      <td>6</td>\n",
       "      <td>6</td>\n",
       "      <td>6</td>\n",
       "      <td>6</td>\n",
       "      <td>6</td>\n",
       "      <td>6</td>\n",
       "      <td>6</td>\n",
       "      <td>6</td>\n",
       "      <td>6</td>\n",
       "      <td>6</td>\n",
       "      <td>6</td>\n",
       "      <td>6</td>\n",
       "    </tr>\n",
       "    <tr>\n",
       "      <th>Duisburg</th>\n",
       "      <td>6</td>\n",
       "      <td>6</td>\n",
       "      <td>6</td>\n",
       "      <td>6</td>\n",
       "      <td>6</td>\n",
       "      <td>6</td>\n",
       "      <td>6</td>\n",
       "      <td>6</td>\n",
       "      <td>6</td>\n",
       "      <td>6</td>\n",
       "      <td>6</td>\n",
       "      <td>6</td>\n",
       "      <td>6</td>\n",
       "      <td>6</td>\n",
       "    </tr>\n",
       "  </tbody>\n",
       "</table>\n",
       "</div>"
      ],
      "text/plain": [
       "           Stationscode Stationsname Schadstoff Einheit dataGroup Jahr-2014  \\\n",
       "                  count        count      count   count     count     count   \n",
       "Stadt                                                                         \n",
       "Düsseldorf           17           17         17      17        17        17   \n",
       "Köln                 15           15         15      15        15        15   \n",
       "Essen                13           13         13      13        13        13   \n",
       "Dortmund              6            6          6       6         6         6   \n",
       "Duisburg              6            6          6       6         6         6   \n",
       "\n",
       "           Jahr-2015 TYPE_OF_STATION TYPE_OF_AREA Länge Breite c-2014 c-2015  \\\n",
       "               count           count        count count  count  count  count   \n",
       "Stadt                                                                          \n",
       "Düsseldorf        17              17           17    17     17      7      7   \n",
       "Köln              15              15           15    15     15     14     14   \n",
       "Essen             13              13           13    13     13     13     12   \n",
       "Dortmund           6               6            6     6      6      6      6   \n",
       "Duisburg           6               6            6     6      6      6      6   \n",
       "\n",
       "              id  \n",
       "           count  \n",
       "Stadt             \n",
       "Düsseldorf    17  \n",
       "Köln          15  \n",
       "Essen         13  \n",
       "Dortmund       6  \n",
       "Duisburg       6  "
      ]
     },
     "execution_count": 24,
     "metadata": {},
     "output_type": "execute_result"
    }
   ],
   "source": [
    "# Wie viele Messstellen wo? \n",
    "\n",
    "mess = df.groupby('Stadt').agg(['count'])\n",
    "mess.sort_values(by=[('Stationsname','count')], ascending=False).head(5)\n"
   ]
  },
  {
   "cell_type": "code",
   "execution_count": 25,
   "metadata": {
    "collapsed": true
   },
   "outputs": [],
   "source": [
    "# Next step: Anteil der Stationen mit überschrittenem Grenzwert an der Anzahl der Stationen berechnen"
   ]
  },
  {
   "cell_type": "code",
   "execution_count": 26,
   "metadata": {
    "collapsed": false
   },
   "outputs": [],
   "source": [
    "# df = df.drop(['year_2014','year_2015'], axis=1)"
   ]
  },
  {
   "cell_type": "code",
   "execution_count": 27,
   "metadata": {
    "collapsed": false
   },
   "outputs": [
    {
     "data": {
      "text/plain": [
       "Index(['Stationsname', 'Stadt', 'Schadstoff', 'Einheit', 'c-2014', 'c-2015',\n",
       "       'TYPE_OF_STATION', 'TYPE_OF_AREA', 'Länge', 'Breite', 'id'],\n",
       "      dtype='object')"
      ]
     },
     "execution_count": 27,
     "metadata": {},
     "output_type": "execute_result"
    }
   ],
   "source": [
    "no2 = df[['Stationsname', 'Stadt', 'Schadstoff', 'Einheit', 'c-2014', 'c-2015', 'TYPE_OF_STATION', 'TYPE_OF_AREA', 'Länge', 'Breite', 'id']]\n",
    "no2.columns"
   ]
  },
  {
   "cell_type": "code",
   "execution_count": 28,
   "metadata": {
    "collapsed": false
   },
   "outputs": [
    {
     "data": {
      "text/html": [
       "<div>\n",
       "<table border=\"1\" class=\"dataframe\">\n",
       "  <thead>\n",
       "    <tr style=\"text-align: right;\">\n",
       "      <th></th>\n",
       "      <th>Stationsname</th>\n",
       "      <th>Stadt</th>\n",
       "      <th>Schadstoff</th>\n",
       "      <th>Einheit</th>\n",
       "      <th>c-2014</th>\n",
       "      <th>c-2015</th>\n",
       "      <th>TYPE_OF_STATION</th>\n",
       "      <th>TYPE_OF_AREA</th>\n",
       "      <th>Länge</th>\n",
       "      <th>Breite</th>\n",
       "      <th>id</th>\n",
       "    </tr>\n",
       "  </thead>\n",
       "  <tbody>\n",
       "    <tr>\n",
       "      <th>0</th>\n",
       "      <td>Datteln-Hagem</td>\n",
       "      <td>Datteln</td>\n",
       "      <td>Stickstoffdioxid</td>\n",
       "      <td>µg/m³</td>\n",
       "      <td>21.1261</td>\n",
       "      <td>20.3173</td>\n",
       "      <td>Hintergrund</td>\n",
       "      <td>vorstädtisches Gebiet</td>\n",
       "      <td>7.331405</td>\n",
       "      <td>51.641383</td>\n",
       "      <td>0</td>\n",
       "    </tr>\n",
       "    <tr>\n",
       "      <th>1</th>\n",
       "      <td>Lünen-Niederaden</td>\n",
       "      <td>Lünen</td>\n",
       "      <td>Stickstoffdioxid</td>\n",
       "      <td>µg/m³</td>\n",
       "      <td>27.4380</td>\n",
       "      <td>24.3654</td>\n",
       "      <td>Hintergrund</td>\n",
       "      <td>vorstädtisches Gebiet</td>\n",
       "      <td>7.569838</td>\n",
       "      <td>51.592206</td>\n",
       "      <td>1</td>\n",
       "    </tr>\n",
       "    <tr>\n",
       "      <th>2</th>\n",
       "      <td>Dortmund-Eving</td>\n",
       "      <td>Dortmund</td>\n",
       "      <td>Stickstoffdioxid</td>\n",
       "      <td>µg/m³</td>\n",
       "      <td>27.6639</td>\n",
       "      <td>26.5309</td>\n",
       "      <td>Hintergrund</td>\n",
       "      <td>städtisches Gebiet</td>\n",
       "      <td>7.457463</td>\n",
       "      <td>51.536911</td>\n",
       "      <td>2</td>\n",
       "    </tr>\n",
       "    <tr>\n",
       "      <th>3</th>\n",
       "      <td>Unna-Königsborn</td>\n",
       "      <td>Unna</td>\n",
       "      <td>Stickstoffdioxid</td>\n",
       "      <td>µg/m³</td>\n",
       "      <td>20.9525</td>\n",
       "      <td>20.9618</td>\n",
       "      <td>Hintergrund</td>\n",
       "      <td>vorstädtisches Gebiet</td>\n",
       "      <td>7.693835</td>\n",
       "      <td>51.547495</td>\n",
       "      <td>3</td>\n",
       "    </tr>\n",
       "    <tr>\n",
       "      <th>4</th>\n",
       "      <td>Bottrop-Welheim</td>\n",
       "      <td>Bottrop</td>\n",
       "      <td>Stickstoffdioxid</td>\n",
       "      <td>µg/m³</td>\n",
       "      <td>27.3434</td>\n",
       "      <td>26.3245</td>\n",
       "      <td>Industrie</td>\n",
       "      <td>städtisches Gebiet</td>\n",
       "      <td>6.976908</td>\n",
       "      <td>51.525963</td>\n",
       "      <td>4</td>\n",
       "    </tr>\n",
       "  </tbody>\n",
       "</table>\n",
       "</div>"
      ],
      "text/plain": [
       "       Stationsname     Stadt        Schadstoff Einheit   c-2014   c-2015  \\\n",
       "0     Datteln-Hagem   Datteln  Stickstoffdioxid   µg/m³  21.1261  20.3173   \n",
       "1  Lünen-Niederaden     Lünen  Stickstoffdioxid   µg/m³  27.4380  24.3654   \n",
       "2    Dortmund-Eving  Dortmund  Stickstoffdioxid   µg/m³  27.6639  26.5309   \n",
       "3   Unna-Königsborn      Unna  Stickstoffdioxid   µg/m³  20.9525  20.9618   \n",
       "4   Bottrop-Welheim   Bottrop  Stickstoffdioxid   µg/m³  27.3434  26.3245   \n",
       "\n",
       "  TYPE_OF_STATION           TYPE_OF_AREA     Länge     Breite  id  \n",
       "0     Hintergrund  vorstädtisches Gebiet  7.331405  51.641383   0  \n",
       "1     Hintergrund  vorstädtisches Gebiet  7.569838  51.592206   1  \n",
       "2     Hintergrund     städtisches Gebiet  7.457463  51.536911   2  \n",
       "3     Hintergrund  vorstädtisches Gebiet  7.693835  51.547495   3  \n",
       "4       Industrie     städtisches Gebiet  6.976908  51.525963   4  "
      ]
     },
     "execution_count": 28,
     "metadata": {},
     "output_type": "execute_result"
    }
   ],
   "source": [
    "no2.head()"
   ]
  },
  {
   "cell_type": "code",
   "execution_count": 29,
   "metadata": {
    "collapsed": false
   },
   "outputs": [
    {
     "data": {
      "text/html": [
       "<div>\n",
       "<table border=\"1\" class=\"dataframe\">\n",
       "  <thead>\n",
       "    <tr style=\"text-align: right;\">\n",
       "      <th></th>\n",
       "      <th>name</th>\n",
       "      <th>stadt</th>\n",
       "      <th>stoff</th>\n",
       "      <th>einheit</th>\n",
       "      <th>jahr_2014</th>\n",
       "      <th>jahr_2015</th>\n",
       "      <th>typ</th>\n",
       "      <th>gebiet</th>\n",
       "      <th>x</th>\n",
       "      <th>y</th>\n",
       "      <th>id</th>\n",
       "    </tr>\n",
       "  </thead>\n",
       "  <tbody>\n",
       "    <tr>\n",
       "      <th>19</th>\n",
       "      <td>Netphen (Rothaargebirge)</td>\n",
       "      <td>Netphen</td>\n",
       "      <td>Stickstoffdioxid</td>\n",
       "      <td>µg/m³</td>\n",
       "      <td>4.8150</td>\n",
       "      <td>6.7267</td>\n",
       "      <td>Hintergrund</td>\n",
       "      <td>ländlich regional</td>\n",
       "      <td>8.191932</td>\n",
       "      <td>50.930328</td>\n",
       "      <td>19</td>\n",
       "    </tr>\n",
       "    <tr>\n",
       "      <th>18</th>\n",
       "      <td>Simmerath (Eifel)</td>\n",
       "      <td>Simmerath</td>\n",
       "      <td>Stickstoffdioxid</td>\n",
       "      <td>µg/m³</td>\n",
       "      <td>5.7294</td>\n",
       "      <td>5.9522</td>\n",
       "      <td>Hintergrund</td>\n",
       "      <td>ländlich regional</td>\n",
       "      <td>6.281069</td>\n",
       "      <td>50.653236</td>\n",
       "      <td>18</td>\n",
       "    </tr>\n",
       "    <tr>\n",
       "      <th>53</th>\n",
       "      <td>Essen Hombrucher Straße 21/23</td>\n",
       "      <td>Essen</td>\n",
       "      <td>Stickstoffdioxid</td>\n",
       "      <td>µg/m³</td>\n",
       "      <td>55.3510</td>\n",
       "      <td>NaN</td>\n",
       "      <td>Verkehr</td>\n",
       "      <td>städtisches Gebiet</td>\n",
       "      <td>7.047134</td>\n",
       "      <td>51.457314</td>\n",
       "      <td>53</td>\n",
       "    </tr>\n",
       "    <tr>\n",
       "      <th>62</th>\n",
       "      <td>Bielefeld Stapenhorststraße 59</td>\n",
       "      <td>Bielefeld</td>\n",
       "      <td>Stickstoffdioxid</td>\n",
       "      <td>µg/m³</td>\n",
       "      <td>37.4714</td>\n",
       "      <td>NaN</td>\n",
       "      <td>Verkehr</td>\n",
       "      <td>städtisches Gebiet</td>\n",
       "      <td>8.521576</td>\n",
       "      <td>52.026236</td>\n",
       "      <td>62</td>\n",
       "    </tr>\n",
       "    <tr>\n",
       "      <th>68</th>\n",
       "      <td>Bottrop Peterstraße</td>\n",
       "      <td>Bottrop</td>\n",
       "      <td>Stickstoffdioxid</td>\n",
       "      <td>µg/m³</td>\n",
       "      <td>37.6842</td>\n",
       "      <td>NaN</td>\n",
       "      <td>Verkehr</td>\n",
       "      <td>städtisches Gebiet</td>\n",
       "      <td>6.924268</td>\n",
       "      <td>51.519262</td>\n",
       "      <td>68</td>\n",
       "    </tr>\n",
       "    <tr>\n",
       "      <th>90</th>\n",
       "      <td>Köln-Junkersdorf Jungbluthbrücke</td>\n",
       "      <td>Köln</td>\n",
       "      <td>Stickstoffdioxid</td>\n",
       "      <td>µg/m³</td>\n",
       "      <td>36.6912</td>\n",
       "      <td>NaN</td>\n",
       "      <td>Verkehr</td>\n",
       "      <td>städtisches Gebiet</td>\n",
       "      <td>6.850280</td>\n",
       "      <td>50.930950</td>\n",
       "      <td>90</td>\n",
       "    </tr>\n",
       "    <tr>\n",
       "      <th>106</th>\n",
       "      <td>Recklinghausen Kaiserwall</td>\n",
       "      <td>Recklinghausen</td>\n",
       "      <td>Stickstoffdioxid</td>\n",
       "      <td>µg/m³</td>\n",
       "      <td>NaN</td>\n",
       "      <td>NaN</td>\n",
       "      <td>Verkehr</td>\n",
       "      <td>städtisches Gebiet</td>\n",
       "      <td>7.201686</td>\n",
       "      <td>51.613624</td>\n",
       "      <td>106</td>\n",
       "    </tr>\n",
       "    <tr>\n",
       "      <th>112</th>\n",
       "      <td>Schwerte Hörder Straße</td>\n",
       "      <td>Schwerte</td>\n",
       "      <td>Stickstoffdioxid</td>\n",
       "      <td>µg/m³</td>\n",
       "      <td>45.4900</td>\n",
       "      <td>NaN</td>\n",
       "      <td>Verkehr</td>\n",
       "      <td>städtisches Gebiet</td>\n",
       "      <td>7.563630</td>\n",
       "      <td>51.446540</td>\n",
       "      <td>112</td>\n",
       "    </tr>\n",
       "    <tr>\n",
       "      <th>114</th>\n",
       "      <td>Emmerich-Elten Schmidtstraße 3</td>\n",
       "      <td>Emmerich</td>\n",
       "      <td>Stickstoffdioxid</td>\n",
       "      <td>µg/m³</td>\n",
       "      <td>36.3481</td>\n",
       "      <td>NaN</td>\n",
       "      <td>Verkehr</td>\n",
       "      <td>städtisches Gebiet</td>\n",
       "      <td>6.160480</td>\n",
       "      <td>51.872400</td>\n",
       "      <td>114</td>\n",
       "    </tr>\n",
       "    <tr>\n",
       "      <th>121</th>\n",
       "      <td>Düsseldorf-Lohausen</td>\n",
       "      <td>Düsseldorf</td>\n",
       "      <td>Stickstoffdioxid</td>\n",
       "      <td>µg/m³</td>\n",
       "      <td>33.1274</td>\n",
       "      <td>NaN</td>\n",
       "      <td>Hintergrund</td>\n",
       "      <td>städtisches Gebiet</td>\n",
       "      <td>6.753747</td>\n",
       "      <td>51.269503</td>\n",
       "      <td>121</td>\n",
       "    </tr>\n",
       "    <tr>\n",
       "      <th>129</th>\n",
       "      <td>Düsseldorf Volmerswerther Deich</td>\n",
       "      <td>Düsseldorf</td>\n",
       "      <td>Stickstoffdioxid</td>\n",
       "      <td>µg/m³</td>\n",
       "      <td>29.3290</td>\n",
       "      <td>NaN</td>\n",
       "      <td>Hintergrund</td>\n",
       "      <td>vorstädtisches Gebiet</td>\n",
       "      <td>6.759520</td>\n",
       "      <td>51.184426</td>\n",
       "      <td>129</td>\n",
       "    </tr>\n",
       "    <tr>\n",
       "      <th>132</th>\n",
       "      <td>Düsseldorf (Flughafen 1)</td>\n",
       "      <td>Düsseldorf</td>\n",
       "      <td>Stickstoffdioxid</td>\n",
       "      <td>µg/m³</td>\n",
       "      <td>NaN</td>\n",
       "      <td>NaN</td>\n",
       "      <td>Hintergrund</td>\n",
       "      <td>städtisches Gebiet</td>\n",
       "      <td>6.766450</td>\n",
       "      <td>51.271822</td>\n",
       "      <td>132</td>\n",
       "    </tr>\n",
       "    <tr>\n",
       "      <th>133</th>\n",
       "      <td>Düsseldorf (Flughafen 2)</td>\n",
       "      <td>Düsseldorf</td>\n",
       "      <td>Stickstoffdioxid</td>\n",
       "      <td>µg/m³</td>\n",
       "      <td>NaN</td>\n",
       "      <td>NaN</td>\n",
       "      <td>Hintergrund</td>\n",
       "      <td>städtisches Gebiet</td>\n",
       "      <td>6.763922</td>\n",
       "      <td>51.269125</td>\n",
       "      <td>133</td>\n",
       "    </tr>\n",
       "    <tr>\n",
       "      <th>134</th>\n",
       "      <td>Düsseldorf (Flughafen 3)</td>\n",
       "      <td>Düsseldorf</td>\n",
       "      <td>Stickstoffdioxid</td>\n",
       "      <td>µg/m³</td>\n",
       "      <td>NaN</td>\n",
       "      <td>NaN</td>\n",
       "      <td>Hintergrund</td>\n",
       "      <td>städtisches Gebiet</td>\n",
       "      <td>6.753858</td>\n",
       "      <td>51.269567</td>\n",
       "      <td>134</td>\n",
       "    </tr>\n",
       "    <tr>\n",
       "      <th>135</th>\n",
       "      <td>Düsseldorf (Flughafen 4)</td>\n",
       "      <td>Düsseldorf</td>\n",
       "      <td>Stickstoffdioxid</td>\n",
       "      <td>µg/m³</td>\n",
       "      <td>NaN</td>\n",
       "      <td>NaN</td>\n",
       "      <td>Hintergrund</td>\n",
       "      <td>vorstädtisches Gebiet</td>\n",
       "      <td>6.769639</td>\n",
       "      <td>51.262039</td>\n",
       "      <td>135</td>\n",
       "    </tr>\n",
       "    <tr>\n",
       "      <th>136</th>\n",
       "      <td>Düsseldorf (Flughafen 5)</td>\n",
       "      <td>Düsseldorf</td>\n",
       "      <td>Stickstoffdioxid</td>\n",
       "      <td>µg/m³</td>\n",
       "      <td>NaN</td>\n",
       "      <td>NaN</td>\n",
       "      <td>Hintergrund</td>\n",
       "      <td>vorstädtisches Gebiet</td>\n",
       "      <td>6.810644</td>\n",
       "      <td>51.315067</td>\n",
       "      <td>136</td>\n",
       "    </tr>\n",
       "    <tr>\n",
       "      <th>137</th>\n",
       "      <td>Düsseldorf (Flughafen 6)</td>\n",
       "      <td>Düsseldorf</td>\n",
       "      <td>Stickstoffdioxid</td>\n",
       "      <td>µg/m³</td>\n",
       "      <td>NaN</td>\n",
       "      <td>NaN</td>\n",
       "      <td>Hintergrund</td>\n",
       "      <td>vorstädtisches Gebiet</td>\n",
       "      <td>6.824336</td>\n",
       "      <td>51.315061</td>\n",
       "      <td>137</td>\n",
       "    </tr>\n",
       "    <tr>\n",
       "      <th>138</th>\n",
       "      <td>Düsseldorf (Flughafen 7)</td>\n",
       "      <td>Düsseldorf</td>\n",
       "      <td>Stickstoffdioxid</td>\n",
       "      <td>µg/m³</td>\n",
       "      <td>NaN</td>\n",
       "      <td>NaN</td>\n",
       "      <td>Hintergrund</td>\n",
       "      <td>städtisches Gebiet</td>\n",
       "      <td>6.809969</td>\n",
       "      <td>51.289739</td>\n",
       "      <td>138</td>\n",
       "    </tr>\n",
       "    <tr>\n",
       "      <th>139</th>\n",
       "      <td>Düsseldorf (Flughafen 8)</td>\n",
       "      <td>Düsseldorf</td>\n",
       "      <td>Stickstoffdioxid</td>\n",
       "      <td>µg/m³</td>\n",
       "      <td>NaN</td>\n",
       "      <td>NaN</td>\n",
       "      <td>Hintergrund</td>\n",
       "      <td>städtisches Gebiet</td>\n",
       "      <td>6.786350</td>\n",
       "      <td>51.301569</td>\n",
       "      <td>139</td>\n",
       "    </tr>\n",
       "    <tr>\n",
       "      <th>152</th>\n",
       "      <td>Herne Recklinghauser Straße 4/6</td>\n",
       "      <td>Herne</td>\n",
       "      <td>Stickstoffdioxid</td>\n",
       "      <td>µg/m³</td>\n",
       "      <td>NaN</td>\n",
       "      <td>NaN</td>\n",
       "      <td>Verkehr</td>\n",
       "      <td>städtisches Gebiet</td>\n",
       "      <td>7.150192</td>\n",
       "      <td>51.543008</td>\n",
       "      <td>152</td>\n",
       "    </tr>\n",
       "  </tbody>\n",
       "</table>\n",
       "</div>"
      ],
      "text/plain": [
       "                                 name           stadt             stoff  \\\n",
       "19           Netphen (Rothaargebirge)         Netphen  Stickstoffdioxid   \n",
       "18                  Simmerath (Eifel)       Simmerath  Stickstoffdioxid   \n",
       "53      Essen Hombrucher Straße 21/23           Essen  Stickstoffdioxid   \n",
       "62     Bielefeld Stapenhorststraße 59       Bielefeld  Stickstoffdioxid   \n",
       "68                Bottrop Peterstraße         Bottrop  Stickstoffdioxid   \n",
       "90   Köln-Junkersdorf Jungbluthbrücke            Köln  Stickstoffdioxid   \n",
       "106         Recklinghausen Kaiserwall  Recklinghausen  Stickstoffdioxid   \n",
       "112            Schwerte Hörder Straße        Schwerte  Stickstoffdioxid   \n",
       "114    Emmerich-Elten Schmidtstraße 3        Emmerich  Stickstoffdioxid   \n",
       "121               Düsseldorf-Lohausen      Düsseldorf  Stickstoffdioxid   \n",
       "129   Düsseldorf Volmerswerther Deich      Düsseldorf  Stickstoffdioxid   \n",
       "132          Düsseldorf (Flughafen 1)      Düsseldorf  Stickstoffdioxid   \n",
       "133          Düsseldorf (Flughafen 2)      Düsseldorf  Stickstoffdioxid   \n",
       "134          Düsseldorf (Flughafen 3)      Düsseldorf  Stickstoffdioxid   \n",
       "135          Düsseldorf (Flughafen 4)      Düsseldorf  Stickstoffdioxid   \n",
       "136          Düsseldorf (Flughafen 5)      Düsseldorf  Stickstoffdioxid   \n",
       "137          Düsseldorf (Flughafen 6)      Düsseldorf  Stickstoffdioxid   \n",
       "138          Düsseldorf (Flughafen 7)      Düsseldorf  Stickstoffdioxid   \n",
       "139          Düsseldorf (Flughafen 8)      Düsseldorf  Stickstoffdioxid   \n",
       "152   Herne Recklinghauser Straße 4/6           Herne  Stickstoffdioxid   \n",
       "\n",
       "    einheit  jahr_2014  jahr_2015          typ                 gebiet  \\\n",
       "19    µg/m³     4.8150     6.7267  Hintergrund      ländlich regional   \n",
       "18    µg/m³     5.7294     5.9522  Hintergrund      ländlich regional   \n",
       "53    µg/m³    55.3510        NaN      Verkehr     städtisches Gebiet   \n",
       "62    µg/m³    37.4714        NaN      Verkehr     städtisches Gebiet   \n",
       "68    µg/m³    37.6842        NaN      Verkehr     städtisches Gebiet   \n",
       "90    µg/m³    36.6912        NaN      Verkehr     städtisches Gebiet   \n",
       "106   µg/m³        NaN        NaN      Verkehr     städtisches Gebiet   \n",
       "112   µg/m³    45.4900        NaN      Verkehr     städtisches Gebiet   \n",
       "114   µg/m³    36.3481        NaN      Verkehr     städtisches Gebiet   \n",
       "121   µg/m³    33.1274        NaN  Hintergrund     städtisches Gebiet   \n",
       "129   µg/m³    29.3290        NaN  Hintergrund  vorstädtisches Gebiet   \n",
       "132   µg/m³        NaN        NaN  Hintergrund     städtisches Gebiet   \n",
       "133   µg/m³        NaN        NaN  Hintergrund     städtisches Gebiet   \n",
       "134   µg/m³        NaN        NaN  Hintergrund     städtisches Gebiet   \n",
       "135   µg/m³        NaN        NaN  Hintergrund  vorstädtisches Gebiet   \n",
       "136   µg/m³        NaN        NaN  Hintergrund  vorstädtisches Gebiet   \n",
       "137   µg/m³        NaN        NaN  Hintergrund  vorstädtisches Gebiet   \n",
       "138   µg/m³        NaN        NaN  Hintergrund     städtisches Gebiet   \n",
       "139   µg/m³        NaN        NaN  Hintergrund     städtisches Gebiet   \n",
       "152   µg/m³        NaN        NaN      Verkehr     städtisches Gebiet   \n",
       "\n",
       "            x          y   id  \n",
       "19   8.191932  50.930328   19  \n",
       "18   6.281069  50.653236   18  \n",
       "53   7.047134  51.457314   53  \n",
       "62   8.521576  52.026236   62  \n",
       "68   6.924268  51.519262   68  \n",
       "90   6.850280  50.930950   90  \n",
       "106  7.201686  51.613624  106  \n",
       "112  7.563630  51.446540  112  \n",
       "114  6.160480  51.872400  114  \n",
       "121  6.753747  51.269503  121  \n",
       "129  6.759520  51.184426  129  \n",
       "132  6.766450  51.271822  132  \n",
       "133  6.763922  51.269125  133  \n",
       "134  6.753858  51.269567  134  \n",
       "135  6.769639  51.262039  135  \n",
       "136  6.810644  51.315067  136  \n",
       "137  6.824336  51.315061  137  \n",
       "138  6.809969  51.289739  138  \n",
       "139  6.786350  51.301569  139  \n",
       "152  7.150192  51.543008  152  "
      ]
     },
     "execution_count": 29,
     "metadata": {},
     "output_type": "execute_result"
    }
   ],
   "source": [
    "no2.columns = ['name', 'stadt', 'stoff', 'einheit', 'jahr_2014', 'jahr_2015', 'typ','gebiet', 'x', 'y', 'id']\n",
    "no2 = no2.sort_values(by='jahr_2015', ascending=False)\n",
    "no2.tail(20)"
   ]
  },
  {
   "cell_type": "code",
   "execution_count": 31,
   "metadata": {
    "collapsed": true
   },
   "outputs": [],
   "source": [
    "no2.to_csv('no2_c.csv')"
   ]
  },
  {
   "cell_type": "code",
   "execution_count": null,
   "metadata": {
    "collapsed": true
   },
   "outputs": [],
   "source": []
  }
 ],
 "metadata": {
  "kernelspec": {
   "display_name": "Python 3",
   "language": "python",
   "name": "python3"
  },
  "language_info": {
   "codemirror_mode": {
    "name": "ipython",
    "version": 3
   },
   "file_extension": ".py",
   "mimetype": "text/x-python",
   "name": "python",
   "nbconvert_exporter": "python",
   "pygments_lexer": "ipython3",
   "version": "3.4.2"
  }
 },
 "nbformat": 4,
 "nbformat_minor": 0
}
