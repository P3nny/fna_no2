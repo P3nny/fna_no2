{
 "cells": [
  {
   "cell_type": "markdown",
   "metadata": {},
   "source": [
    "# Lanuv: Excel into Pandas "
   ]
  },
  {
   "cell_type": "markdown",
   "metadata": {},
   "source": [
    "### Daten einlesen "
   ]
  },
  {
   "cell_type": "code",
   "execution_count": 1,
   "metadata": {
    "collapsed": true
   },
   "outputs": [],
   "source": [
    "# Benötigte Pakete installieren \n",
    "import pandas as pd\n",
    "import numpy as np\n",
    "import json\n",
    "import requests"
   ]
  },
  {
   "cell_type": "code",
   "execution_count": 2,
   "metadata": {
    "collapsed": false
   },
   "outputs": [],
   "source": [
    "# Excel einlesen  \n",
    "f = 'Anfrage_Rentmeister.xlsx'\n",
    "df = pd.read_excel(f, sheetname='NO2_JMW')\n"
   ]
  },
  {
   "cell_type": "code",
   "execution_count": 3,
   "metadata": {
    "collapsed": false
   },
   "outputs": [
    {
     "data": {
      "text/plain": [
       "(153, 11)"
      ]
     },
     "execution_count": 3,
     "metadata": {},
     "output_type": "execute_result"
    }
   ],
   "source": [
    "# Wie groß ist der Data Frame ?\n",
    "df.shape"
   ]
  },
  {
   "cell_type": "code",
   "execution_count": 4,
   "metadata": {
    "collapsed": false
   },
   "outputs": [
    {
     "data": {
      "text/plain": [
       "Index(['Stationscode', 'Stationsname', 'Schadstoff', 'Einheit', 'dataGroup', 2014, 2015, 'TYPE_OF_STATION', 'TYPE_OF_AREA', 'Länge', 'Breite'], dtype='object')"
      ]
     },
     "execution_count": 4,
     "metadata": {},
     "output_type": "execute_result"
    }
   ],
   "source": [
    "# Welche Spaltennamen gibt es? \n",
    "df.columns\n",
    "# df.sort_values(by='2014')"
   ]
  },
  {
   "cell_type": "code",
   "execution_count": 5,
   "metadata": {
    "collapsed": false
   },
   "outputs": [
    {
     "data": {
      "text/html": [
       "<div style=\"max-height:1000px;max-width:1500px;overflow:auto;\">\n",
       "<table border=\"1\" class=\"dataframe\">\n",
       "  <thead>\n",
       "    <tr style=\"text-align: right;\">\n",
       "      <th></th>\n",
       "      <th>Stationscode</th>\n",
       "      <th>Stationsname</th>\n",
       "      <th>Schadstoff</th>\n",
       "      <th>Einheit</th>\n",
       "      <th>dataGroup</th>\n",
       "      <th>2014</th>\n",
       "      <th>2015</th>\n",
       "      <th>TYPE_OF_STATION</th>\n",
       "      <th>TYPE_OF_AREA</th>\n",
       "      <th>Länge</th>\n",
       "      <th>Breite</th>\n",
       "    </tr>\n",
       "  </thead>\n",
       "  <tbody>\n",
       "    <tr>\n",
       "      <th>0</th>\n",
       "      <td> DENW002</td>\n",
       "      <td>    Datteln-Hagem</td>\n",
       "      <td> Stickstoffdioxid</td>\n",
       "      <td> µg/m³</td>\n",
       "      <td> halb- oder stündliche Messung</td>\n",
       "      <td> 21.1261</td>\n",
       "      <td> 20.3173</td>\n",
       "      <td> Hintergrund</td>\n",
       "      <td> vorstädtisches Gebiet</td>\n",
       "      <td> 7.331405</td>\n",
       "      <td> 51.641383</td>\n",
       "    </tr>\n",
       "    <tr>\n",
       "      <th>1</th>\n",
       "      <td> DENW006</td>\n",
       "      <td> Lünen-Niederaden</td>\n",
       "      <td> Stickstoffdioxid</td>\n",
       "      <td> µg/m³</td>\n",
       "      <td> halb- oder stündliche Messung</td>\n",
       "      <td>  27.438</td>\n",
       "      <td> 24.3654</td>\n",
       "      <td> Hintergrund</td>\n",
       "      <td> vorstädtisches Gebiet</td>\n",
       "      <td> 7.569838</td>\n",
       "      <td> 51.592206</td>\n",
       "    </tr>\n",
       "    <tr>\n",
       "      <th>2</th>\n",
       "      <td> DENW008</td>\n",
       "      <td>   Dortmund-Eving</td>\n",
       "      <td> Stickstoffdioxid</td>\n",
       "      <td> µg/m³</td>\n",
       "      <td> halb- oder stündliche Messung</td>\n",
       "      <td> 27.6639</td>\n",
       "      <td> 26.5309</td>\n",
       "      <td> Hintergrund</td>\n",
       "      <td>    städtisches Gebiet</td>\n",
       "      <td> 7.457463</td>\n",
       "      <td> 51.536911</td>\n",
       "    </tr>\n",
       "    <tr>\n",
       "      <th>3</th>\n",
       "      <td> DENW010</td>\n",
       "      <td>  Unna-Königsborn</td>\n",
       "      <td> Stickstoffdioxid</td>\n",
       "      <td> µg/m³</td>\n",
       "      <td> halb- oder stündliche Messung</td>\n",
       "      <td> 20.9525</td>\n",
       "      <td> 20.9618</td>\n",
       "      <td> Hintergrund</td>\n",
       "      <td> vorstädtisches Gebiet</td>\n",
       "      <td> 7.693835</td>\n",
       "      <td> 51.547495</td>\n",
       "    </tr>\n",
       "    <tr>\n",
       "      <th>4</th>\n",
       "      <td> DENW021</td>\n",
       "      <td>  Bottrop-Welheim</td>\n",
       "      <td> Stickstoffdioxid</td>\n",
       "      <td> µg/m³</td>\n",
       "      <td> halb- oder stündliche Messung</td>\n",
       "      <td> 27.3434</td>\n",
       "      <td> 26.3245</td>\n",
       "      <td>   Industrie</td>\n",
       "      <td>    städtisches Gebiet</td>\n",
       "      <td> 6.976908</td>\n",
       "      <td> 51.525963</td>\n",
       "    </tr>\n",
       "  </tbody>\n",
       "</table>\n",
       "</div>"
      ],
      "text/plain": [
       "  Stationscode      Stationsname        Schadstoff Einheit  \\\n",
       "0      DENW002     Datteln-Hagem  Stickstoffdioxid   µg/m³   \n",
       "1      DENW006  Lünen-Niederaden  Stickstoffdioxid   µg/m³   \n",
       "2      DENW008    Dortmund-Eving  Stickstoffdioxid   µg/m³   \n",
       "3      DENW010   Unna-Königsborn  Stickstoffdioxid   µg/m³   \n",
       "4      DENW021   Bottrop-Welheim  Stickstoffdioxid   µg/m³   \n",
       "\n",
       "                       dataGroup     2014     2015 TYPE_OF_STATION  \\\n",
       "0  halb- oder stündliche Messung  21.1261  20.3173     Hintergrund   \n",
       "1  halb- oder stündliche Messung   27.438  24.3654     Hintergrund   \n",
       "2  halb- oder stündliche Messung  27.6639  26.5309     Hintergrund   \n",
       "3  halb- oder stündliche Messung  20.9525  20.9618     Hintergrund   \n",
       "4  halb- oder stündliche Messung  27.3434  26.3245       Industrie   \n",
       "\n",
       "            TYPE_OF_AREA     Länge     Breite  \n",
       "0  vorstädtisches Gebiet  7.331405  51.641383  \n",
       "1  vorstädtisches Gebiet  7.569838  51.592206  \n",
       "2     städtisches Gebiet  7.457463  51.536911  \n",
       "3  vorstädtisches Gebiet  7.693835  51.547495  \n",
       "4     städtisches Gebiet  6.976908  51.525963  "
      ]
     },
     "execution_count": 5,
     "metadata": {},
     "output_type": "execute_result"
    }
   ],
   "source": [
    "# Erste 5 Zeilen anzeigen \n",
    "df.head()"
   ]
  },
  {
   "cell_type": "code",
   "execution_count": null,
   "metadata": {
    "collapsed": false
   },
   "outputs": [],
   "source": []
  },
  {
   "cell_type": "markdown",
   "metadata": {},
   "source": [
    "### Daten bereinigen / umbauen / Spalten hinzufügen"
   ]
  },
  {
   "cell_type": "code",
   "execution_count": 6,
   "metadata": {
    "collapsed": false
   },
   "outputs": [
    {
     "data": {
      "text/plain": [
       "148    Düsseldorf\n",
       "149     Paderborn\n",
       "150       Bottrop\n",
       "151      Schwerte\n",
       "152         Herne\n",
       "Name: Stadt, dtype: object"
      ]
     },
     "execution_count": 6,
     "metadata": {},
     "output_type": "execute_result"
    }
   ],
   "source": [
    "# Städte rausziehen, Spalte Stadt hinzufügen\n",
    "\n",
    "stadt = df['Stationsname'].str.split(' ').str.get(0)\n",
    "stadt2 = stadt.str.split('-').str.get(0)\n",
    "\n",
    "df['Stadt'] = stadt2\n",
    "df['Stadt'].tail()"
   ]
  },
  {
   "cell_type": "code",
   "execution_count": 7,
   "metadata": {
    "collapsed": false
   },
   "outputs": [],
   "source": [
    "# 2014 und 2015 machen als Spaltenbeschriftung Probleme, deshalb werden die umbenannt\n",
    "df.columns = ['Stationscode', 'Stationsname','Schadstoff', 'Einheit', 'dataGroup', 'Jahr-2014', 'Jahr-2015', 'TYPE_OF_STATION', 'TYPE_OF_AREA', 'Länge', 'Breite', 'Stadt']"
   ]
  },
  {
   "cell_type": "code",
   "execution_count": 8,
   "metadata": {
    "collapsed": false
   },
   "outputs": [
    {
     "data": {
      "text/html": [
       "<div style=\"max-height:1000px;max-width:1500px;overflow:auto;\">\n",
       "<table border=\"1\" class=\"dataframe\">\n",
       "  <thead>\n",
       "    <tr style=\"text-align: right;\">\n",
       "      <th></th>\n",
       "      <th>Stationscode</th>\n",
       "      <th>Stationsname</th>\n",
       "      <th>Schadstoff</th>\n",
       "      <th>Einheit</th>\n",
       "      <th>dataGroup</th>\n",
       "      <th>Jahr-2014</th>\n",
       "      <th>Jahr-2015</th>\n",
       "      <th>TYPE_OF_STATION</th>\n",
       "      <th>TYPE_OF_AREA</th>\n",
       "      <th>Länge</th>\n",
       "      <th>Breite</th>\n",
       "      <th>Stadt</th>\n",
       "    </tr>\n",
       "  </thead>\n",
       "  <tbody>\n",
       "    <tr>\n",
       "      <th>0</th>\n",
       "      <td> DENW002</td>\n",
       "      <td>    Datteln-Hagem</td>\n",
       "      <td> Stickstoffdioxid</td>\n",
       "      <td> µg/m³</td>\n",
       "      <td> halb- oder stündliche Messung</td>\n",
       "      <td> 21.1261</td>\n",
       "      <td> 20.3173</td>\n",
       "      <td> Hintergrund</td>\n",
       "      <td> vorstädtisches Gebiet</td>\n",
       "      <td> 7.331405</td>\n",
       "      <td> 51.641383</td>\n",
       "      <td> Datteln</td>\n",
       "    </tr>\n",
       "    <tr>\n",
       "      <th>1</th>\n",
       "      <td> DENW006</td>\n",
       "      <td> Lünen-Niederaden</td>\n",
       "      <td> Stickstoffdioxid</td>\n",
       "      <td> µg/m³</td>\n",
       "      <td> halb- oder stündliche Messung</td>\n",
       "      <td>  27.438</td>\n",
       "      <td> 24.3654</td>\n",
       "      <td> Hintergrund</td>\n",
       "      <td> vorstädtisches Gebiet</td>\n",
       "      <td> 7.569838</td>\n",
       "      <td> 51.592206</td>\n",
       "      <td>   Lünen</td>\n",
       "    </tr>\n",
       "  </tbody>\n",
       "</table>\n",
       "</div>"
      ],
      "text/plain": [
       "  Stationscode      Stationsname        Schadstoff Einheit  \\\n",
       "0      DENW002     Datteln-Hagem  Stickstoffdioxid   µg/m³   \n",
       "1      DENW006  Lünen-Niederaden  Stickstoffdioxid   µg/m³   \n",
       "\n",
       "                       dataGroup Jahr-2014 Jahr-2015 TYPE_OF_STATION  \\\n",
       "0  halb- oder stündliche Messung   21.1261   20.3173     Hintergrund   \n",
       "1  halb- oder stündliche Messung    27.438   24.3654     Hintergrund   \n",
       "\n",
       "            TYPE_OF_AREA     Länge     Breite    Stadt  \n",
       "0  vorstädtisches Gebiet  7.331405  51.641383  Datteln  \n",
       "1  vorstädtisches Gebiet  7.569838  51.592206    Lünen  "
      ]
     },
     "execution_count": 8,
     "metadata": {},
     "output_type": "execute_result"
    }
   ],
   "source": [
    "# Geklappt?\n",
    "df.head(2)"
   ]
  },
  {
   "cell_type": "code",
   "execution_count": 9,
   "metadata": {
    "collapsed": false
   },
   "outputs": [
    {
     "data": {
      "text/html": [
       "<div style=\"max-height:1000px;max-width:1500px;overflow:auto;\">\n",
       "<table border=\"1\" class=\"dataframe\">\n",
       "  <thead>\n",
       "    <tr style=\"text-align: right;\">\n",
       "      <th></th>\n",
       "      <th>Stationscode</th>\n",
       "      <th>Stationsname</th>\n",
       "      <th>Schadstoff</th>\n",
       "      <th>Einheit</th>\n",
       "      <th>dataGroup</th>\n",
       "      <th>Jahr-2014</th>\n",
       "      <th>Jahr-2015</th>\n",
       "      <th>TYPE_OF_STATION</th>\n",
       "      <th>TYPE_OF_AREA</th>\n",
       "      <th>Länge</th>\n",
       "      <th>Breite</th>\n",
       "      <th>Stadt</th>\n",
       "    </tr>\n",
       "  </thead>\n",
       "  <tbody>\n",
       "    <tr>\n",
       "      <th>0</th>\n",
       "      <td> DENW002</td>\n",
       "      <td> Datteln-Hagem</td>\n",
       "      <td> Stickstoffdioxid</td>\n",
       "      <td> µg/m³</td>\n",
       "      <td> halb- oder stündliche Messung</td>\n",
       "      <td> 21.1261</td>\n",
       "      <td> 20.3173</td>\n",
       "      <td> Hintergrund</td>\n",
       "      <td> vorstädtisches Gebiet</td>\n",
       "      <td> 7.331405</td>\n",
       "      <td> 51.641383</td>\n",
       "      <td> Datteln</td>\n",
       "    </tr>\n",
       "  </tbody>\n",
       "</table>\n",
       "</div>"
      ],
      "text/plain": [
       "  Stationscode   Stationsname        Schadstoff Einheit  \\\n",
       "0      DENW002  Datteln-Hagem  Stickstoffdioxid   µg/m³   \n",
       "\n",
       "                       dataGroup Jahr-2014 Jahr-2015 TYPE_OF_STATION  \\\n",
       "0  halb- oder stündliche Messung   21.1261   20.3173     Hintergrund   \n",
       "\n",
       "            TYPE_OF_AREA     Länge     Breite    Stadt  \n",
       "0  vorstädtisches Gebiet  7.331405  51.641383  Datteln  "
      ]
     },
     "execution_count": 9,
     "metadata": {},
     "output_type": "execute_result"
    }
   ],
   "source": [
    "df.head(1)"
   ]
  },
  {
   "cell_type": "code",
   "execution_count": 10,
   "metadata": {
    "collapsed": false
   },
   "outputs": [
    {
     "data": {
      "text/plain": [
       "Stationscode        object\n",
       "Stationsname        object\n",
       "Schadstoff          object\n",
       "Einheit             object\n",
       "dataGroup           object\n",
       "Jahr-2014           object\n",
       "Jahr-2015           object\n",
       "TYPE_OF_STATION     object\n",
       "TYPE_OF_AREA        object\n",
       "Länge              float64\n",
       "Breite             float64\n",
       "Stadt               object\n",
       "dtype: object"
      ]
     },
     "execution_count": 10,
     "metadata": {},
     "output_type": "execute_result"
    }
   ],
   "source": [
    "# Ausgeben, welche Datentypen in den Spalten sind. Bis auf Länge und Breite werden die Werte nicht als numerisch erkannt. \n",
    "df.dtypes"
   ]
  },
  {
   "cell_type": "code",
   "execution_count": 14,
   "metadata": {
    "collapsed": false
   },
   "outputs": [
    {
     "data": {
      "text/html": [
       "<div style=\"max-height:1000px;max-width:1500px;overflow:auto;\">\n",
       "<table border=\"1\" class=\"dataframe\">\n",
       "  <thead>\n",
       "    <tr style=\"text-align: right;\">\n",
       "      <th></th>\n",
       "      <th>Stationscode</th>\n",
       "      <th>Stationsname</th>\n",
       "      <th>Stadt</th>\n",
       "    </tr>\n",
       "  </thead>\n",
       "  <tbody>\n",
       "    <tr>\n",
       "      <th>0  </th>\n",
       "      <td> DENW002</td>\n",
       "      <td>                    Datteln-Hagem</td>\n",
       "      <td>       Datteln</td>\n",
       "    </tr>\n",
       "    <tr>\n",
       "      <th>1  </th>\n",
       "      <td> DENW006</td>\n",
       "      <td>                 Lünen-Niederaden</td>\n",
       "      <td>         Lünen</td>\n",
       "    </tr>\n",
       "    <tr>\n",
       "      <th>2  </th>\n",
       "      <td> DENW008</td>\n",
       "      <td>                   Dortmund-Eving</td>\n",
       "      <td>      Dortmund</td>\n",
       "    </tr>\n",
       "    <tr>\n",
       "      <th>3  </th>\n",
       "      <td> DENW010</td>\n",
       "      <td>                  Unna-Königsborn</td>\n",
       "      <td>          Unna</td>\n",
       "    </tr>\n",
       "    <tr>\n",
       "      <th>4  </th>\n",
       "      <td> DENW021</td>\n",
       "      <td>                  Bottrop-Welheim</td>\n",
       "      <td>       Bottrop</td>\n",
       "    </tr>\n",
       "    <tr>\n",
       "      <th>5  </th>\n",
       "      <td> DENW022</td>\n",
       "      <td>           Gelsenkirchen-Bismarck</td>\n",
       "      <td> Gelsenkirchen</td>\n",
       "    </tr>\n",
       "    <tr>\n",
       "      <th>6  </th>\n",
       "      <td> DENW024</td>\n",
       "      <td>                  Essen-Vogelheim</td>\n",
       "      <td>         Essen</td>\n",
       "    </tr>\n",
       "    <tr>\n",
       "      <th>7  </th>\n",
       "      <td> DENW029</td>\n",
       "      <td>           Hattingen-Blankenstein</td>\n",
       "      <td>     Hattingen</td>\n",
       "    </tr>\n",
       "    <tr>\n",
       "      <th>8  </th>\n",
       "      <td> DENW030</td>\n",
       "      <td>                   Wesel-Feldmark</td>\n",
       "      <td>         Wesel</td>\n",
       "    </tr>\n",
       "    <tr>\n",
       "      <th>9  </th>\n",
       "      <td> DENW034</td>\n",
       "      <td>                  Duisburg-Walsum</td>\n",
       "      <td>      Duisburg</td>\n",
       "    </tr>\n",
       "    <tr>\n",
       "      <th>10 </th>\n",
       "      <td> DENW034</td>\n",
       "      <td>                  Duisburg-Walsum</td>\n",
       "      <td>      Duisburg</td>\n",
       "    </tr>\n",
       "    <tr>\n",
       "      <th>11 </th>\n",
       "      <td> DENW038</td>\n",
       "      <td>                   Mülheim-Styrum</td>\n",
       "      <td>       Mülheim</td>\n",
       "    </tr>\n",
       "    <tr>\n",
       "      <th>12 </th>\n",
       "      <td> DENW043</td>\n",
       "      <td>         Essen-Ost Steeler Straße</td>\n",
       "      <td>         Essen</td>\n",
       "    </tr>\n",
       "    <tr>\n",
       "      <th>13 </th>\n",
       "      <td> DENW043</td>\n",
       "      <td>         Essen-Ost Steeler Straße</td>\n",
       "      <td>         Essen</td>\n",
       "    </tr>\n",
       "    <tr>\n",
       "      <th>14 </th>\n",
       "      <td> DENW053</td>\n",
       "      <td>                  Köln-Chorweiler</td>\n",
       "      <td>          Köln</td>\n",
       "    </tr>\n",
       "    <tr>\n",
       "      <th>15 </th>\n",
       "      <td> DENW058</td>\n",
       "      <td>                            Hürth</td>\n",
       "      <td>         Hürth</td>\n",
       "    </tr>\n",
       "    <tr>\n",
       "      <th>16 </th>\n",
       "      <td> DENW059</td>\n",
       "      <td>                Köln-Rodenkirchen</td>\n",
       "      <td>          Köln</td>\n",
       "    </tr>\n",
       "    <tr>\n",
       "      <th>17 </th>\n",
       "      <td> DENW062</td>\n",
       "      <td>                    Bonn-Auerberg</td>\n",
       "      <td>          Bonn</td>\n",
       "    </tr>\n",
       "    <tr>\n",
       "      <th>18 </th>\n",
       "      <td> DENW064</td>\n",
       "      <td>                Simmerath (Eifel)</td>\n",
       "      <td>     Simmerath</td>\n",
       "    </tr>\n",
       "    <tr>\n",
       "      <th>19 </th>\n",
       "      <td> DENW065</td>\n",
       "      <td>         Netphen (Rothaargebirge)</td>\n",
       "      <td>       Netphen</td>\n",
       "    </tr>\n",
       "    <tr>\n",
       "      <th>20 </th>\n",
       "      <td> DENW066</td>\n",
       "      <td>           Nettetal-Kaldenkirchen</td>\n",
       "      <td>      Nettetal</td>\n",
       "    </tr>\n",
       "    <tr>\n",
       "      <th>21 </th>\n",
       "      <td> DENW067</td>\n",
       "      <td>                    Bielefeld-Ost</td>\n",
       "      <td>     Bielefeld</td>\n",
       "    </tr>\n",
       "    <tr>\n",
       "      <th>22 </th>\n",
       "      <td> DENW068</td>\n",
       "      <td>                        Soest-Ost</td>\n",
       "      <td>         Soest</td>\n",
       "    </tr>\n",
       "    <tr>\n",
       "      <th>23 </th>\n",
       "      <td> DENW071</td>\n",
       "      <td>                Düsseldorf-Lörick</td>\n",
       "      <td>    Düsseldorf</td>\n",
       "    </tr>\n",
       "    <tr>\n",
       "      <th>24 </th>\n",
       "      <td> DENW078</td>\n",
       "      <td>            Ratingen-Tiefenbroich</td>\n",
       "      <td>      Ratingen</td>\n",
       "    </tr>\n",
       "    <tr>\n",
       "      <th>25 </th>\n",
       "      <td> DENW079</td>\n",
       "      <td>               Leverkusen-Manfort</td>\n",
       "      <td>    Leverkusen</td>\n",
       "    </tr>\n",
       "    <tr>\n",
       "      <th>26 </th>\n",
       "      <td> DENW080</td>\n",
       "      <td>                    Solingen-Wald</td>\n",
       "      <td>      Solingen</td>\n",
       "    </tr>\n",
       "    <tr>\n",
       "      <th>27 </th>\n",
       "      <td> DENW081</td>\n",
       "      <td>                     Borken-Gemen</td>\n",
       "      <td>        Borken</td>\n",
       "    </tr>\n",
       "    <tr>\n",
       "      <th>28 </th>\n",
       "      <td> DENW082</td>\n",
       "      <td>       Düsseldorf Corneliusstraße</td>\n",
       "      <td>    Düsseldorf</td>\n",
       "    </tr>\n",
       "    <tr>\n",
       "      <th>29 </th>\n",
       "      <td> DENW082</td>\n",
       "      <td>       Düsseldorf Corneliusstraße</td>\n",
       "      <td>    Düsseldorf</td>\n",
       "    </tr>\n",
       "    <tr>\n",
       "      <th>...</th>\n",
       "      <td>...</td>\n",
       "      <td>...</td>\n",
       "      <td>...</td>\n",
       "    </tr>\n",
       "    <tr>\n",
       "      <th>123</th>\n",
       "      <td> DENW332</td>\n",
       "      <td>                 Köln Hauptstraße</td>\n",
       "      <td>          Köln</td>\n",
       "    </tr>\n",
       "    <tr>\n",
       "      <th>124</th>\n",
       "      <td> DENW334</td>\n",
       "      <td>           Kamen Bahnhofstraße 21</td>\n",
       "      <td>         Kamen</td>\n",
       "    </tr>\n",
       "    <tr>\n",
       "      <th>125</th>\n",
       "      <td> DENW335</td>\n",
       "      <td>     Meerbusch Meerbuscher Straße</td>\n",
       "      <td>     Meerbusch</td>\n",
       "    </tr>\n",
       "    <tr>\n",
       "      <th>126</th>\n",
       "      <td> DENW336</td>\n",
       "      <td>          Köln Luxemburger Straße</td>\n",
       "      <td>          Köln</td>\n",
       "    </tr>\n",
       "    <tr>\n",
       "      <th>127</th>\n",
       "      <td> DENW337</td>\n",
       "      <td>              Jüchen-Hochneukirch</td>\n",
       "      <td>        Jüchen</td>\n",
       "    </tr>\n",
       "    <tr>\n",
       "      <th>128</th>\n",
       "      <td> DENW338</td>\n",
       "      <td>             Duisburg-Bruckhausen</td>\n",
       "      <td>      Duisburg</td>\n",
       "    </tr>\n",
       "    <tr>\n",
       "      <th>129</th>\n",
       "      <td> DENW339</td>\n",
       "      <td>  Düsseldorf Volmerswerther Deich</td>\n",
       "      <td>    Düsseldorf</td>\n",
       "    </tr>\n",
       "    <tr>\n",
       "      <th>130</th>\n",
       "      <td> DENW340</td>\n",
       "      <td>    Düsseldorf Ludenberger Straße</td>\n",
       "      <td>    Düsseldorf</td>\n",
       "    </tr>\n",
       "    <tr>\n",
       "      <th>131</th>\n",
       "      <td> DENW342</td>\n",
       "      <td>             Siegen Sandstraße 18</td>\n",
       "      <td>        Siegen</td>\n",
       "    </tr>\n",
       "    <tr>\n",
       "      <th>132</th>\n",
       "      <td> DENW343</td>\n",
       "      <td>         Düsseldorf (Flughafen 1)</td>\n",
       "      <td>    Düsseldorf</td>\n",
       "    </tr>\n",
       "    <tr>\n",
       "      <th>133</th>\n",
       "      <td> DENW344</td>\n",
       "      <td>         Düsseldorf (Flughafen 2)</td>\n",
       "      <td>    Düsseldorf</td>\n",
       "    </tr>\n",
       "    <tr>\n",
       "      <th>134</th>\n",
       "      <td> DENW345</td>\n",
       "      <td>         Düsseldorf (Flughafen 3)</td>\n",
       "      <td>    Düsseldorf</td>\n",
       "    </tr>\n",
       "    <tr>\n",
       "      <th>135</th>\n",
       "      <td> DENW346</td>\n",
       "      <td>         Düsseldorf (Flughafen 4)</td>\n",
       "      <td>    Düsseldorf</td>\n",
       "    </tr>\n",
       "    <tr>\n",
       "      <th>136</th>\n",
       "      <td> DENW347</td>\n",
       "      <td>         Düsseldorf (Flughafen 5)</td>\n",
       "      <td>    Düsseldorf</td>\n",
       "    </tr>\n",
       "    <tr>\n",
       "      <th>137</th>\n",
       "      <td> DENW348</td>\n",
       "      <td>         Düsseldorf (Flughafen 6)</td>\n",
       "      <td>    Düsseldorf</td>\n",
       "    </tr>\n",
       "    <tr>\n",
       "      <th>138</th>\n",
       "      <td> DENW349</td>\n",
       "      <td>         Düsseldorf (Flughafen 7)</td>\n",
       "      <td>    Düsseldorf</td>\n",
       "    </tr>\n",
       "    <tr>\n",
       "      <th>139</th>\n",
       "      <td> DENW350</td>\n",
       "      <td>         Düsseldorf (Flughafen 8)</td>\n",
       "      <td>    Düsseldorf</td>\n",
       "    </tr>\n",
       "    <tr>\n",
       "      <th>140</th>\n",
       "      <td> DENW351</td>\n",
       "      <td>      Gelsenkirchen Grothusstraße</td>\n",
       "      <td> Gelsenkirchen</td>\n",
       "    </tr>\n",
       "    <tr>\n",
       "      <th>141</th>\n",
       "      <td> DENW353</td>\n",
       "      <td>           Köln Lindweilerweg 144</td>\n",
       "      <td>          Köln</td>\n",
       "    </tr>\n",
       "    <tr>\n",
       "      <th>142</th>\n",
       "      <td> DENW354</td>\n",
       "      <td>               Düsseldorf Südring</td>\n",
       "      <td>    Düsseldorf</td>\n",
       "    </tr>\n",
       "    <tr>\n",
       "      <th>143</th>\n",
       "      <td> DENW355</td>\n",
       "      <td> Leverkusen Gustav-Heinemann-Str.</td>\n",
       "      <td>    Leverkusen</td>\n",
       "    </tr>\n",
       "    <tr>\n",
       "      <th>144</th>\n",
       "      <td> DENW356</td>\n",
       "      <td>          Lüdenscheid Lennestraße</td>\n",
       "      <td>   Lüdenscheid</td>\n",
       "    </tr>\n",
       "    <tr>\n",
       "      <th>145</th>\n",
       "      <td> DENW358</td>\n",
       "      <td>  Köln Bergisch Gladbacher Straße</td>\n",
       "      <td>          Köln</td>\n",
       "    </tr>\n",
       "    <tr>\n",
       "      <th>146</th>\n",
       "      <td> DENW360</td>\n",
       "      <td>             Siegen Sandstraße 15</td>\n",
       "      <td>        Siegen</td>\n",
       "    </tr>\n",
       "    <tr>\n",
       "      <th>147</th>\n",
       "      <td> DENW361</td>\n",
       "      <td>             Bielefeld-Innenstadt</td>\n",
       "      <td>     Bielefeld</td>\n",
       "    </tr>\n",
       "    <tr>\n",
       "      <th>148</th>\n",
       "      <td> DENW362</td>\n",
       "      <td>         Düsseldorf Norfer Straße</td>\n",
       "      <td>    Düsseldorf</td>\n",
       "    </tr>\n",
       "    <tr>\n",
       "      <th>149</th>\n",
       "      <td> DENW363</td>\n",
       "      <td>        Paderborn-Schloss Neuhaus</td>\n",
       "      <td>     Paderborn</td>\n",
       "    </tr>\n",
       "    <tr>\n",
       "      <th>150</th>\n",
       "      <td> DENW364</td>\n",
       "      <td>            Bottrop Peterstraße 9</td>\n",
       "      <td>       Bottrop</td>\n",
       "    </tr>\n",
       "    <tr>\n",
       "      <th>151</th>\n",
       "      <td> DENW365</td>\n",
       "      <td>        Schwerte Hörder Straße 13</td>\n",
       "      <td>      Schwerte</td>\n",
       "    </tr>\n",
       "    <tr>\n",
       "      <th>152</th>\n",
       "      <td> DENW369</td>\n",
       "      <td>  Herne Recklinghauser Straße 4/6</td>\n",
       "      <td>         Herne</td>\n",
       "    </tr>\n",
       "  </tbody>\n",
       "</table>\n",
       "<p>153 rows × 3 columns</p>\n",
       "</div>"
      ],
      "text/plain": [
       "    Stationscode                      Stationsname          Stadt\n",
       "0        DENW002                     Datteln-Hagem        Datteln\n",
       "1        DENW006                  Lünen-Niederaden          Lünen\n",
       "2        DENW008                    Dortmund-Eving       Dortmund\n",
       "3        DENW010                   Unna-Königsborn           Unna\n",
       "4        DENW021                   Bottrop-Welheim        Bottrop\n",
       "5        DENW022            Gelsenkirchen-Bismarck  Gelsenkirchen\n",
       "6        DENW024                   Essen-Vogelheim          Essen\n",
       "7        DENW029            Hattingen-Blankenstein      Hattingen\n",
       "8        DENW030                    Wesel-Feldmark          Wesel\n",
       "9        DENW034                   Duisburg-Walsum       Duisburg\n",
       "10       DENW034                   Duisburg-Walsum       Duisburg\n",
       "11       DENW038                    Mülheim-Styrum        Mülheim\n",
       "12       DENW043          Essen-Ost Steeler Straße          Essen\n",
       "13       DENW043          Essen-Ost Steeler Straße          Essen\n",
       "14       DENW053                   Köln-Chorweiler           Köln\n",
       "15       DENW058                             Hürth          Hürth\n",
       "16       DENW059                 Köln-Rodenkirchen           Köln\n",
       "17       DENW062                     Bonn-Auerberg           Bonn\n",
       "18       DENW064                 Simmerath (Eifel)      Simmerath\n",
       "19       DENW065          Netphen (Rothaargebirge)        Netphen\n",
       "20       DENW066            Nettetal-Kaldenkirchen       Nettetal\n",
       "21       DENW067                     Bielefeld-Ost      Bielefeld\n",
       "22       DENW068                         Soest-Ost          Soest\n",
       "23       DENW071                 Düsseldorf-Lörick     Düsseldorf\n",
       "24       DENW078             Ratingen-Tiefenbroich       Ratingen\n",
       "25       DENW079                Leverkusen-Manfort     Leverkusen\n",
       "26       DENW080                     Solingen-Wald       Solingen\n",
       "27       DENW081                      Borken-Gemen         Borken\n",
       "28       DENW082        Düsseldorf Corneliusstraße     Düsseldorf\n",
       "29       DENW082        Düsseldorf Corneliusstraße     Düsseldorf\n",
       "..           ...                               ...            ...\n",
       "123      DENW332                  Köln Hauptstraße           Köln\n",
       "124      DENW334            Kamen Bahnhofstraße 21          Kamen\n",
       "125      DENW335      Meerbusch Meerbuscher Straße      Meerbusch\n",
       "126      DENW336           Köln Luxemburger Straße           Köln\n",
       "127      DENW337               Jüchen-Hochneukirch         Jüchen\n",
       "128      DENW338              Duisburg-Bruckhausen       Duisburg\n",
       "129      DENW339   Düsseldorf Volmerswerther Deich     Düsseldorf\n",
       "130      DENW340     Düsseldorf Ludenberger Straße     Düsseldorf\n",
       "131      DENW342              Siegen Sandstraße 18         Siegen\n",
       "132      DENW343          Düsseldorf (Flughafen 1)     Düsseldorf\n",
       "133      DENW344          Düsseldorf (Flughafen 2)     Düsseldorf\n",
       "134      DENW345          Düsseldorf (Flughafen 3)     Düsseldorf\n",
       "135      DENW346          Düsseldorf (Flughafen 4)     Düsseldorf\n",
       "136      DENW347          Düsseldorf (Flughafen 5)     Düsseldorf\n",
       "137      DENW348          Düsseldorf (Flughafen 6)     Düsseldorf\n",
       "138      DENW349          Düsseldorf (Flughafen 7)     Düsseldorf\n",
       "139      DENW350          Düsseldorf (Flughafen 8)     Düsseldorf\n",
       "140      DENW351       Gelsenkirchen Grothusstraße  Gelsenkirchen\n",
       "141      DENW353            Köln Lindweilerweg 144           Köln\n",
       "142      DENW354                Düsseldorf Südring     Düsseldorf\n",
       "143      DENW355  Leverkusen Gustav-Heinemann-Str.     Leverkusen\n",
       "144      DENW356           Lüdenscheid Lennestraße    Lüdenscheid\n",
       "145      DENW358   Köln Bergisch Gladbacher Straße           Köln\n",
       "146      DENW360              Siegen Sandstraße 15         Siegen\n",
       "147      DENW361              Bielefeld-Innenstadt      Bielefeld\n",
       "148      DENW362          Düsseldorf Norfer Straße     Düsseldorf\n",
       "149      DENW363         Paderborn-Schloss Neuhaus      Paderborn\n",
       "150      DENW364             Bottrop Peterstraße 9        Bottrop\n",
       "151      DENW365         Schwerte Hörder Straße 13       Schwerte\n",
       "152      DENW369   Herne Recklinghauser Straße 4/6          Herne\n",
       "\n",
       "[153 rows x 3 columns]"
      ]
     },
     "execution_count": 14,
     "metadata": {},
     "output_type": "execute_result"
    }
   ],
   "source": [
    "# Liste mit Stationsnamen erzeugen für merge mit Rohdaten\n",
    "stationsnamen = df[['Stationscode', 'Stationsname', 'Stadt']]\n",
    "stationsnamen"
   ]
  },
  {
   "cell_type": "code",
   "execution_count": 15,
   "metadata": {
    "collapsed": true
   },
   "outputs": [],
   "source": [
    "stationsnamen.to_csv('stationsnamen', encoding='latin-1')"
   ]
  },
  {
   "cell_type": "code",
   "execution_count": null,
   "metadata": {
    "collapsed": false
   },
   "outputs": [],
   "source": [
    "### Einige Zeilen enthalten für 2014 und 2015 seltsame oder keine Werte: '-' oder '-777.000'. \n",
    "# Pandas zählt diese Werte als Strings, deshalb der dtype 'object', weil Zahlen und Strings gemischt vorkommen. \n",
    "\n",
    "# Wie viele Bindestriche gibt es in den 2014er Werten? \n",
    "bindestrich_2014 = df[df['Jahr-2014']== '-']\n",
    "bindestrich_2014.shape\n",
    "# 2014 13 Stationen mit '-'"
   ]
  },
  {
   "cell_type": "code",
   "execution_count": null,
   "metadata": {
    "collapsed": false
   },
   "outputs": [],
   "source": [
    "# Wie viele Bindestriche gibt es in den 2015er Werten? \n",
    "bindestrich_2015 = df[df['Jahr-2015']== '-']\n",
    "bindestrich_2015.shape\n",
    "\n",
    "# 2015 11 Stationen mit '-'"
   ]
  },
  {
   "cell_type": "code",
   "execution_count": null,
   "metadata": {
    "collapsed": false
   },
   "outputs": [],
   "source": [
    "df[(df['Jahr-2014'] == '-') & (df['Jahr-2015'] == '-')]\n",
    "# Keine Station 2014 und 2015 mit '-'"
   ]
  },
  {
   "cell_type": "code",
   "execution_count": null,
   "metadata": {
    "collapsed": false
   },
   "outputs": [],
   "source": [
    "# Neuen DF clean_year erstellen\n",
    "clean_year = df[['Jahr-2014', 'Jahr-2015']]"
   ]
  },
  {
   "cell_type": "code",
   "execution_count": null,
   "metadata": {
    "collapsed": false
   },
   "outputs": [],
   "source": [
    "# Werte auf 'numerisch' setzen, wenn das nicht klappt, NAN eingeben\n",
    "clean_year['Jahr-2014'] = pd.to_numeric(clean_year['Jahr-2014'], errors='coerce')"
   ]
  },
  {
   "cell_type": "code",
   "execution_count": null,
   "metadata": {
    "collapsed": false
   },
   "outputs": [],
   "source": [
    "clean_year['Jahr-2015'] = pd.to_numeric(clean_year['Jahr-2015'], errors='coerce')\n",
    "# clean_year.applymap(lambda x: isinstance(x, (int, float)))clean_year = pd.to_numeric(clean_year['Jahr-2015'], errors='coerce')\n",
    "# clean_year.applymap(lambda x: isinstance(x, (int, float)))"
   ]
  },
  {
   "cell_type": "code",
   "execution_count": null,
   "metadata": {
    "collapsed": false
   },
   "outputs": [],
   "source": [
    "clean_year.dtypes"
   ]
  },
  {
   "cell_type": "code",
   "execution_count": null,
   "metadata": {
    "collapsed": false
   },
   "outputs": [],
   "source": [
    "# Ergebnis: Bindestriche sind weg, aber es bleiben Werte wie '-777.000'\n",
    "clean_year.tail()"
   ]
  },
  {
   "cell_type": "code",
   "execution_count": null,
   "metadata": {
    "collapsed": false
   },
   "outputs": [],
   "source": [
    "# Werte kleiner 0 auf Nan setzen \n",
    "clean_year['Jahr-2014'] = clean_year['Jahr-2014'].where(clean_year['Jahr-2014'] > 0, np.nan)\n",
    "clean_year['Jahr-2014'][100:110]"
   ]
  },
  {
   "cell_type": "code",
   "execution_count": null,
   "metadata": {
    "collapsed": false
   },
   "outputs": [],
   "source": [
    "clean_year['Jahr-2015'] = clean_year['Jahr-2015'].where(clean_year['Jahr-2015'] > 0, np.nan)\n",
    "clean_year['Jahr-2015'][7]"
   ]
  },
  {
   "cell_type": "code",
   "execution_count": null,
   "metadata": {
    "collapsed": false
   },
   "outputs": [],
   "source": [
    "# saubere Spalten zum DF hinzufügen \n",
    "df['c-2014'] = clean_year['Jahr-2014']\n",
    "df['c-2015'] = clean_year['Jahr-2015']"
   ]
  },
  {
   "cell_type": "code",
   "execution_count": null,
   "metadata": {
    "collapsed": true
   },
   "outputs": [],
   "source": [
    "# Für die App ist eine Spalte 'id' nötig, die Zeilen durchzählt:\n",
    "df['id'] = df.index"
   ]
  },
  {
   "cell_type": "code",
   "execution_count": null,
   "metadata": {
    "collapsed": false
   },
   "outputs": [],
   "source": [
    "# Neuen DF mit ausgewählten Spalten erstellen\n",
    "no2 = df[['Stationsname', 'Stadt', 'Schadstoff', 'Einheit', 'c-2014', 'c-2015', 'TYPE_OF_STATION', 'TYPE_OF_AREA', 'Länge', 'Breite', 'id']]\n",
    "no2.columns"
   ]
  },
  {
   "cell_type": "code",
   "execution_count": null,
   "metadata": {
    "collapsed": false
   },
   "outputs": [],
   "source": [
    "# Geklappt? \n",
    "no2.head()"
   ]
  },
  {
   "cell_type": "code",
   "execution_count": null,
   "metadata": {
    "collapsed": false
   },
   "outputs": [],
   "source": [
    "# Bezeichnung für 2014 und 2015 noch mal ändern \n",
    "no2.columns = ['name', 'stadt', 'stoff', 'einheit', 'jahr_2014', 'jahr_2015', 'typ','gebiet', 'x', 'y', 'id']\n",
    "no2 = no2.sort_values(by='jahr_2015', ascending=False)\n",
    "no2.tail(20)"
   ]
  },
  {
   "cell_type": "code",
   "execution_count": null,
   "metadata": {
    "collapsed": true
   },
   "outputs": [],
   "source": [
    "# Als CSV rausgeben\n",
    "### no2.to_csv('no2_c.csv')\n",
    "# Obacht: Wenn Dateiname nicht ge#ndert wird, wird Datei immer wieder überschrieben"
   ]
  },
  {
   "cell_type": "code",
   "execution_count": null,
   "metadata": {
    "collapsed": true
   },
   "outputs": [],
   "source": [
    "### _Ab hier sammele ich Codes, die ich geschrieben, aber dann doch nicht verwendet habe, \n",
    "# die aber vielleicht noch nützlich sein können:_\n",
    "\n",
    "# Spalten rausschmeißen: \n",
    "# df = df.drop(['Stationscode','Stationsname', 'Schadstoff', 'Einheit', 'dataGroup', 'Jahr-2014', 'Jahr-2015', 'TYPE_OF_STATION', 'TYPE_OF_AREA', ] , axis=1)\n",
    "# df = df.drop(['year_2014','year_2015'], axis=1)\n",
    "\n",
    "# Index auf Stationsname setzen \n",
    "# df.index = df['Stationsname']"
   ]
  },
  {
   "cell_type": "markdown",
   "metadata": {},
   "source": [
    "### Informationen zu Grenzwerten hinzufügen \n",
    "\n"
   ]
  },
  {
   "cell_type": "code",
   "execution_count": null,
   "metadata": {
    "collapsed": false
   },
   "outputs": [],
   "source": [
    "# Grenzwert 40 überschritten in 2015?\n",
    "\n",
    "drueber = no2[no2['jahr_2015'] > 40]\n",
    "drueber.shape\n",
    "drueber.head(1)\n",
    "\n",
    "# 2014 wurde der Grenzwert an 64 Messstationen überschritten "
   ]
  },
  {
   "cell_type": "code",
   "execution_count": null,
   "metadata": {
    "collapsed": false
   },
   "outputs": [],
   "source": [
    "# Welches sind die Stationen mit den höchsten Messwerten?\n",
    "drueber_s = drueber.sort_values(by='jahr_2015', ascending = False)\n",
    "drueber_s.head(1)"
   ]
  },
  {
   "cell_type": "code",
   "execution_count": null,
   "metadata": {
    "collapsed": false
   },
   "outputs": [],
   "source": [
    "# 2015: Welche Städte hatten die meisten überschrittenen Grenzwerte?\n",
    "top_2015 = df.sort_values(by='c-2015', ascending=False)\n",
    "drueber_2015 = top_2015[top_2015['c-2015'] >40]\n",
    "drueber_2015_staedte = drueber_2015.groupby('Stadt').agg(['count'])\n",
    "drueber_2015_staedte.sort_values(by=[('Stationsname','count')], ascending=False).head(5)"
   ]
  },
  {
   "cell_type": "code",
   "execution_count": null,
   "metadata": {
    "collapsed": false
   },
   "outputs": [],
   "source": [
    "# Wie viele Messstellen wo? \n",
    "\n",
    "mess = df.groupby('Stadt').agg(['count'])\n",
    "mess.sort_values(by=[('Stationsname','count')], ascending=False).head(5)"
   ]
  },
  {
   "cell_type": "code",
   "execution_count": null,
   "metadata": {
    "collapsed": true
   },
   "outputs": [],
   "source": [
    "# Next step: Anteil der Stationen mit überschrittenem Grenzwert an der Anzahl der Stationen berechnen"
   ]
  },
  {
   "cell_type": "code",
   "execution_count": null,
   "metadata": {
    "collapsed": false
   },
   "outputs": [],
   "source": [
    "# Spalte 'ueberschritten' hinzufügen\n",
    "no2.head()\n",
    "no2['ueberschritten'] = no2['jahr_2015'] > 40\n",
    "test = no2[no2['ueberschritten'] == True]\n",
    "test.shape"
   ]
  },
  {
   "cell_type": "code",
   "execution_count": null,
   "metadata": {
    "collapsed": false
   },
   "outputs": [],
   "source": [
    "no2.describe()"
   ]
  },
  {
   "cell_type": "markdown",
   "metadata": {},
   "source": [
    "Unterschied 2014 und 2015 berechnen \n",
    "http://chrisalbon.com/python/pandas_make_new_columns_using_functions.html"
   ]
  },
  {
   "cell_type": "code",
   "execution_count": null,
   "metadata": {
    "collapsed": false
   },
   "outputs": [],
   "source": [
    "# Create a function that takes two inputs, pre and post\n",
    "def pre_post_difference(pre, post):\n",
    "    # returns the difference between post and pre\n",
    "    return post - pre"
   ]
  },
  {
   "cell_type": "code",
   "execution_count": null,
   "metadata": {
    "collapsed": false
   },
   "outputs": [],
   "source": [
    "# Create a variable that is the output of the function\n",
    "no2['change'] = pre_post_difference(no2['jahr_2014'], no2['jahr_2015'])\n",
    "\n",
    "# View the dataframe\n",
    "change = no2[no2['change'] > 0]"
   ]
  },
  {
   "cell_type": "code",
   "execution_count": null,
   "metadata": {
    "collapsed": false
   },
   "outputs": [],
   "source": [
    "change.shape"
   ]
  },
  {
   "cell_type": "code",
   "execution_count": null,
   "metadata": {
    "collapsed": false
   },
   "outputs": [],
   "source": [
    "# In 20 von ca 130 Messstationen sind Werte gestiegen \n",
    "20/130"
   ]
  },
  {
   "cell_type": "code",
   "execution_count": null,
   "metadata": {
    "collapsed": false
   },
   "outputs": [],
   "source": [
    "### Output für FNA und Bubble Chart vorbereiten \n",
    "no2.head(2)"
   ]
  },
  {
   "cell_type": "code",
   "execution_count": null,
   "metadata": {
    "collapsed": false
   },
   "outputs": [],
   "source": []
  },
  {
   "cell_type": "markdown",
   "metadata": {},
   "source": [
    "### File ausgeben: "
   ]
  },
  {
   "cell_type": "code",
   "execution_count": null,
   "metadata": {
    "collapsed": true
   },
   "outputs": [],
   "source": [
    "no2.to_csv('no2_marker.csv')"
   ]
  },
  {
   "cell_type": "code",
   "execution_count": null,
   "metadata": {
    "collapsed": true
   },
   "outputs": [],
   "source": []
  },
  {
   "cell_type": "code",
   "execution_count": null,
   "metadata": {
    "collapsed": true
   },
   "outputs": [],
   "source": [
    "change_s = no2.sort_values(by='change', ascending=False)"
   ]
  },
  {
   "cell_type": "markdown",
   "metadata": {},
   "source": [
    "### Bubble Chart ! "
   ]
  },
  {
   "cell_type": "markdown",
   "metadata": {},
   "source": [
    "- On the x-axis: 2014 - (“income”)\n",
    "- On the y-axis: 2015 - (“health”). \n",
    "- Size of the bubbles: Change - (population) \n",
    "- Some tools call that a scatterplot, some call it a bubble chart."
   ]
  },
  {
   "cell_type": "markdown",
   "metadata": {},
   "source": [
    "#### Matplotlib"
   ]
  },
  {
   "cell_type": "code",
   "execution_count": null,
   "metadata": {
    "collapsed": false
   },
   "outputs": [],
   "source": [
    "#import libraries\n",
    "import numpy as np\n",
    "import pandas as pd\n",
    "import matplotlib.pyplot as plt\n",
    "import matplotlib\n",
    "\n",
    "%matplotlib inline\n",
    "\n",
    "#read data\n",
    "data = pd.read_csv(\"no2_marker.csv\")\n",
    "\n",
    "#plot chart\n",
    "# plt.scatter(np.log(no2['jahr_2015']), no2['jahr_2014'], s=no2['change']*200, c='blue')\n",
    "# plt.xlim(xmin=0) #set origin for x axis to zero\n",
    "# plt.show()\n",
    "\n",
    "matplotlib.rcParams['figure.figsize'] = (15.0, 15.0)\n",
    "\n",
    "plt.scatter(no2['jahr_2014'], no2['jahr_2015'], s=70)\n",
    "plt.title('2014 > 2015', loc='left', size=25)\n",
    "plt.xlabel('2014', size=18)\n",
    "plt.ylabel('2015', size=18)\n",
    "\n",
    "x = range(0,70)\n",
    "# plt.xticks(x)\n",
    "# plt.yticks(x)"
   ]
  },
  {
   "cell_type": "code",
   "execution_count": null,
   "metadata": {
    "collapsed": false
   },
   "outputs": [],
   "source": [
    "# Bubble chart mit s=change bedeutet, dass alle Werte unter 0 nicht angezeigt werden\n",
    "matplotlib.rcParams['figure.figsize'] = (10.0, 10.0)\n",
    "plt.scatter(no2['jahr_2014'], no2['jahr_2015'], s=no2['change']*700)"
   ]
  },
  {
   "cell_type": "markdown",
   "metadata": {},
   "source": [
    "#### Seaborn"
   ]
  },
  {
   "cell_type": "code",
   "execution_count": null,
   "metadata": {
    "collapsed": false
   },
   "outputs": [],
   "source": [
    "#import libraries\n",
    "import pandas as pd\n",
    "import matplotlib.pyplot as plt\n",
    "import seaborn as sns\n",
    "\n",
    "#read data\n",
    "data = pd.read_csv(\"no2_marker.csv\")\n",
    "\n",
    "#plot chart\n",
    "g = sns.regplot('jahr_2015', 'jahr_2014', data=data, color='r',fit_reg=False)\n",
    "# g.set_xscale('log')\n",
    "name=\"x_var\"\n",
    "plt.show()"
   ]
  },
  {
   "cell_type": "markdown",
   "metadata": {},
   "source": [
    "#### Bokeh"
   ]
  },
  {
   "cell_type": "code",
   "execution_count": null,
   "metadata": {
    "collapsed": false
   },
   "outputs": [],
   "source": [
    "#import libraries\n",
    "import pandas as pd\n",
    "from bokeh.plotting import figure, show, output_file\n",
    "\n",
    "#read data\n",
    "data = pd.read_csv(\"no2_marker.csv\")\n",
    "\n",
    "#plot chart\n",
    "p = figure()\n",
    "p.scatter(no2['jahr_2014'], no2['jahr_2015'], radius=no2['change'],\n",
    "          fill_color='blue', fill_alpha=0.4, line_color=None)\n",
    "\n",
    "#write as html file and open in browser\n",
    "output_file(\"scatterplot.html\")\n",
    "show(p)\n",
    "\n"
   ]
  },
  {
   "cell_type": "code",
   "execution_count": null,
   "metadata": {
    "collapsed": true
   },
   "outputs": [],
   "source": []
  }
 ],
 "metadata": {
  "kernelspec": {
   "display_name": "Python 3",
   "language": "python",
   "name": "python3"
  },
  "language_info": {
   "codemirror_mode": {
    "name": "ipython",
    "version": 3
   },
   "file_extension": ".py",
   "mimetype": "text/x-python",
   "name": "python",
   "nbconvert_exporter": "python",
   "pygments_lexer": "ipython3",
   "version": "3.4.2"
  }
 },
 "nbformat": 4,
 "nbformat_minor": 0
}
