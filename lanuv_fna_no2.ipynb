{
 "cells": [
  {
   "cell_type": "markdown",
   "metadata": {},
   "source": [
    "# Lanuv: Excel into Pandas "
   ]
  },
  {
   "cell_type": "markdown",
   "metadata": {},
   "source": [
    "### Daten einlesen "
   ]
  },
  {
   "cell_type": "code",
   "execution_count": 2,
   "metadata": {
    "collapsed": true
   },
   "outputs": [],
   "source": [
    "# Benötigte Pakete installieren \n",
    "import pandas as pd\n",
    "import numpy as np\n",
    "import json\n",
    "import requests"
   ]
  },
  {
   "cell_type": "code",
   "execution_count": 3,
   "metadata": {
    "collapsed": false
   },
   "outputs": [],
   "source": [
    "# Excel einlesen  \n",
    "f = 'Anfrage_Rentmeister.xlsx'\n",
    "df = pd.read_excel(f, sheetname='NO2_JMW')\n"
   ]
  },
  {
   "cell_type": "code",
   "execution_count": 4,
   "metadata": {
    "collapsed": false
   },
   "outputs": [
    {
     "data": {
      "text/plain": [
       "(153, 11)"
      ]
     },
     "execution_count": 4,
     "metadata": {},
     "output_type": "execute_result"
    }
   ],
   "source": [
    "# Wie groß ist der Data Frame ?\n",
    "df.shape"
   ]
  },
  {
   "cell_type": "code",
   "execution_count": 5,
   "metadata": {
    "collapsed": false
   },
   "outputs": [
    {
     "data": {
      "text/plain": [
       "Index(['Stationscode', 'Stationsname', 'Schadstoff', 'Einheit', 'dataGroup', 2014, 2015, 'TYPE_OF_STATION', 'TYPE_OF_AREA', 'Länge', 'Breite'], dtype='object')"
      ]
     },
     "execution_count": 5,
     "metadata": {},
     "output_type": "execute_result"
    }
   ],
   "source": [
    "# Welche Spaltennamen gibt es? \n",
    "df.columns\n",
    "# df.sort_values(by='2014')"
   ]
  },
  {
   "cell_type": "code",
   "execution_count": 6,
   "metadata": {
    "collapsed": false
   },
   "outputs": [
    {
     "data": {
      "text/html": [
       "<div style=\"max-height:1000px;max-width:1500px;overflow:auto;\">\n",
       "<table border=\"1\" class=\"dataframe\">\n",
       "  <thead>\n",
       "    <tr style=\"text-align: right;\">\n",
       "      <th></th>\n",
       "      <th>Stationscode</th>\n",
       "      <th>Stationsname</th>\n",
       "      <th>Schadstoff</th>\n",
       "      <th>Einheit</th>\n",
       "      <th>dataGroup</th>\n",
       "      <th>2014</th>\n",
       "      <th>2015</th>\n",
       "      <th>TYPE_OF_STATION</th>\n",
       "      <th>TYPE_OF_AREA</th>\n",
       "      <th>Länge</th>\n",
       "      <th>Breite</th>\n",
       "    </tr>\n",
       "  </thead>\n",
       "  <tbody>\n",
       "    <tr>\n",
       "      <th>0</th>\n",
       "      <td> DENW002</td>\n",
       "      <td>    Datteln-Hagem</td>\n",
       "      <td> Stickstoffdioxid</td>\n",
       "      <td> µg/m³</td>\n",
       "      <td> halb- oder stündliche Messung</td>\n",
       "      <td> 21.1261</td>\n",
       "      <td> 20.3173</td>\n",
       "      <td> Hintergrund</td>\n",
       "      <td> vorstädtisches Gebiet</td>\n",
       "      <td> 7.331405</td>\n",
       "      <td> 51.641383</td>\n",
       "    </tr>\n",
       "    <tr>\n",
       "      <th>1</th>\n",
       "      <td> DENW006</td>\n",
       "      <td> Lünen-Niederaden</td>\n",
       "      <td> Stickstoffdioxid</td>\n",
       "      <td> µg/m³</td>\n",
       "      <td> halb- oder stündliche Messung</td>\n",
       "      <td>  27.438</td>\n",
       "      <td> 24.3654</td>\n",
       "      <td> Hintergrund</td>\n",
       "      <td> vorstädtisches Gebiet</td>\n",
       "      <td> 7.569838</td>\n",
       "      <td> 51.592206</td>\n",
       "    </tr>\n",
       "    <tr>\n",
       "      <th>2</th>\n",
       "      <td> DENW008</td>\n",
       "      <td>   Dortmund-Eving</td>\n",
       "      <td> Stickstoffdioxid</td>\n",
       "      <td> µg/m³</td>\n",
       "      <td> halb- oder stündliche Messung</td>\n",
       "      <td> 27.6639</td>\n",
       "      <td> 26.5309</td>\n",
       "      <td> Hintergrund</td>\n",
       "      <td>    städtisches Gebiet</td>\n",
       "      <td> 7.457463</td>\n",
       "      <td> 51.536911</td>\n",
       "    </tr>\n",
       "    <tr>\n",
       "      <th>3</th>\n",
       "      <td> DENW010</td>\n",
       "      <td>  Unna-Königsborn</td>\n",
       "      <td> Stickstoffdioxid</td>\n",
       "      <td> µg/m³</td>\n",
       "      <td> halb- oder stündliche Messung</td>\n",
       "      <td> 20.9525</td>\n",
       "      <td> 20.9618</td>\n",
       "      <td> Hintergrund</td>\n",
       "      <td> vorstädtisches Gebiet</td>\n",
       "      <td> 7.693835</td>\n",
       "      <td> 51.547495</td>\n",
       "    </tr>\n",
       "    <tr>\n",
       "      <th>4</th>\n",
       "      <td> DENW021</td>\n",
       "      <td>  Bottrop-Welheim</td>\n",
       "      <td> Stickstoffdioxid</td>\n",
       "      <td> µg/m³</td>\n",
       "      <td> halb- oder stündliche Messung</td>\n",
       "      <td> 27.3434</td>\n",
       "      <td> 26.3245</td>\n",
       "      <td>   Industrie</td>\n",
       "      <td>    städtisches Gebiet</td>\n",
       "      <td> 6.976908</td>\n",
       "      <td> 51.525963</td>\n",
       "    </tr>\n",
       "  </tbody>\n",
       "</table>\n",
       "</div>"
      ],
      "text/plain": [
       "  Stationscode      Stationsname        Schadstoff Einheit  \\\n",
       "0      DENW002     Datteln-Hagem  Stickstoffdioxid   µg/m³   \n",
       "1      DENW006  Lünen-Niederaden  Stickstoffdioxid   µg/m³   \n",
       "2      DENW008    Dortmund-Eving  Stickstoffdioxid   µg/m³   \n",
       "3      DENW010   Unna-Königsborn  Stickstoffdioxid   µg/m³   \n",
       "4      DENW021   Bottrop-Welheim  Stickstoffdioxid   µg/m³   \n",
       "\n",
       "                       dataGroup     2014     2015 TYPE_OF_STATION  \\\n",
       "0  halb- oder stündliche Messung  21.1261  20.3173     Hintergrund   \n",
       "1  halb- oder stündliche Messung   27.438  24.3654     Hintergrund   \n",
       "2  halb- oder stündliche Messung  27.6639  26.5309     Hintergrund   \n",
       "3  halb- oder stündliche Messung  20.9525  20.9618     Hintergrund   \n",
       "4  halb- oder stündliche Messung  27.3434  26.3245       Industrie   \n",
       "\n",
       "            TYPE_OF_AREA     Länge     Breite  \n",
       "0  vorstädtisches Gebiet  7.331405  51.641383  \n",
       "1  vorstädtisches Gebiet  7.569838  51.592206  \n",
       "2     städtisches Gebiet  7.457463  51.536911  \n",
       "3  vorstädtisches Gebiet  7.693835  51.547495  \n",
       "4     städtisches Gebiet  6.976908  51.525963  "
      ]
     },
     "execution_count": 6,
     "metadata": {},
     "output_type": "execute_result"
    }
   ],
   "source": [
    "# Erste 5 Zeilen anzeigen \n",
    "df.head()"
   ]
  },
  {
   "cell_type": "code",
   "execution_count": null,
   "metadata": {
    "collapsed": false
   },
   "outputs": [],
   "source": []
  },
  {
   "cell_type": "markdown",
   "metadata": {},
   "source": [
    "### Daten bereinigen / umbauen / Spalten hinzufügen"
   ]
  },
  {
   "cell_type": "code",
   "execution_count": 7,
   "metadata": {
    "collapsed": false
   },
   "outputs": [
    {
     "data": {
      "text/plain": [
       "148    Düsseldorf\n",
       "149     Paderborn\n",
       "150       Bottrop\n",
       "151      Schwerte\n",
       "152         Herne\n",
       "Name: Stadt, dtype: object"
      ]
     },
     "execution_count": 7,
     "metadata": {},
     "output_type": "execute_result"
    }
   ],
   "source": [
    "# Städte rausziehen, Spalte Stadt hinzufügen\n",
    "\n",
    "stadt = df['Stationsname'].str.split(' ').str.get(0)\n",
    "stadt2 = stadt.str.split('-').str.get(0)\n",
    "\n",
    "df['Stadt'] = stadt2\n",
    "df['Stadt'].tail()"
   ]
  },
  {
   "cell_type": "code",
   "execution_count": 8,
   "metadata": {
    "collapsed": false
   },
   "outputs": [],
   "source": [
    "# 2014 und 2015 machen als Spaltenbeschriftung Probleme, deshalb werden die umbenannt\n",
    "df.columns = ['Stationscode', 'Stationsname','Schadstoff', 'Einheit', 'dataGroup', 'Jahr-2014', 'Jahr-2015', 'TYPE_OF_STATION', 'TYPE_OF_AREA', 'Länge', 'Breite', 'Stadt']"
   ]
  },
  {
   "cell_type": "code",
   "execution_count": 9,
   "metadata": {
    "collapsed": false
   },
   "outputs": [
    {
     "data": {
      "text/html": [
       "<div style=\"max-height:1000px;max-width:1500px;overflow:auto;\">\n",
       "<table border=\"1\" class=\"dataframe\">\n",
       "  <thead>\n",
       "    <tr style=\"text-align: right;\">\n",
       "      <th></th>\n",
       "      <th>Stationscode</th>\n",
       "      <th>Stationsname</th>\n",
       "      <th>Schadstoff</th>\n",
       "      <th>Einheit</th>\n",
       "      <th>dataGroup</th>\n",
       "      <th>Jahr-2014</th>\n",
       "      <th>Jahr-2015</th>\n",
       "      <th>TYPE_OF_STATION</th>\n",
       "      <th>TYPE_OF_AREA</th>\n",
       "      <th>Länge</th>\n",
       "      <th>Breite</th>\n",
       "      <th>Stadt</th>\n",
       "    </tr>\n",
       "  </thead>\n",
       "  <tbody>\n",
       "    <tr>\n",
       "      <th>0</th>\n",
       "      <td> DENW002</td>\n",
       "      <td>    Datteln-Hagem</td>\n",
       "      <td> Stickstoffdioxid</td>\n",
       "      <td> µg/m³</td>\n",
       "      <td> halb- oder stündliche Messung</td>\n",
       "      <td> 21.1261</td>\n",
       "      <td> 20.3173</td>\n",
       "      <td> Hintergrund</td>\n",
       "      <td> vorstädtisches Gebiet</td>\n",
       "      <td> 7.331405</td>\n",
       "      <td> 51.641383</td>\n",
       "      <td> Datteln</td>\n",
       "    </tr>\n",
       "    <tr>\n",
       "      <th>1</th>\n",
       "      <td> DENW006</td>\n",
       "      <td> Lünen-Niederaden</td>\n",
       "      <td> Stickstoffdioxid</td>\n",
       "      <td> µg/m³</td>\n",
       "      <td> halb- oder stündliche Messung</td>\n",
       "      <td>  27.438</td>\n",
       "      <td> 24.3654</td>\n",
       "      <td> Hintergrund</td>\n",
       "      <td> vorstädtisches Gebiet</td>\n",
       "      <td> 7.569838</td>\n",
       "      <td> 51.592206</td>\n",
       "      <td>   Lünen</td>\n",
       "    </tr>\n",
       "  </tbody>\n",
       "</table>\n",
       "</div>"
      ],
      "text/plain": [
       "  Stationscode      Stationsname        Schadstoff Einheit  \\\n",
       "0      DENW002     Datteln-Hagem  Stickstoffdioxid   µg/m³   \n",
       "1      DENW006  Lünen-Niederaden  Stickstoffdioxid   µg/m³   \n",
       "\n",
       "                       dataGroup Jahr-2014 Jahr-2015 TYPE_OF_STATION  \\\n",
       "0  halb- oder stündliche Messung   21.1261   20.3173     Hintergrund   \n",
       "1  halb- oder stündliche Messung    27.438   24.3654     Hintergrund   \n",
       "\n",
       "            TYPE_OF_AREA     Länge     Breite    Stadt  \n",
       "0  vorstädtisches Gebiet  7.331405  51.641383  Datteln  \n",
       "1  vorstädtisches Gebiet  7.569838  51.592206    Lünen  "
      ]
     },
     "execution_count": 9,
     "metadata": {},
     "output_type": "execute_result"
    }
   ],
   "source": [
    "# Geklappt?\n",
    "df.head(2)"
   ]
  },
  {
   "cell_type": "code",
   "execution_count": 10,
   "metadata": {
    "collapsed": false
   },
   "outputs": [
    {
     "data": {
      "text/html": [
       "<div style=\"max-height:1000px;max-width:1500px;overflow:auto;\">\n",
       "<table border=\"1\" class=\"dataframe\">\n",
       "  <thead>\n",
       "    <tr style=\"text-align: right;\">\n",
       "      <th></th>\n",
       "      <th>Stationscode</th>\n",
       "      <th>Stationsname</th>\n",
       "      <th>Schadstoff</th>\n",
       "      <th>Einheit</th>\n",
       "      <th>dataGroup</th>\n",
       "      <th>Jahr-2014</th>\n",
       "      <th>Jahr-2015</th>\n",
       "      <th>TYPE_OF_STATION</th>\n",
       "      <th>TYPE_OF_AREA</th>\n",
       "      <th>Länge</th>\n",
       "      <th>Breite</th>\n",
       "      <th>Stadt</th>\n",
       "    </tr>\n",
       "  </thead>\n",
       "  <tbody>\n",
       "    <tr>\n",
       "      <th>0</th>\n",
       "      <td> DENW002</td>\n",
       "      <td> Datteln-Hagem</td>\n",
       "      <td> Stickstoffdioxid</td>\n",
       "      <td> µg/m³</td>\n",
       "      <td> halb- oder stündliche Messung</td>\n",
       "      <td> 21.1261</td>\n",
       "      <td> 20.3173</td>\n",
       "      <td> Hintergrund</td>\n",
       "      <td> vorstädtisches Gebiet</td>\n",
       "      <td> 7.331405</td>\n",
       "      <td> 51.641383</td>\n",
       "      <td> Datteln</td>\n",
       "    </tr>\n",
       "  </tbody>\n",
       "</table>\n",
       "</div>"
      ],
      "text/plain": [
       "  Stationscode   Stationsname        Schadstoff Einheit  \\\n",
       "0      DENW002  Datteln-Hagem  Stickstoffdioxid   µg/m³   \n",
       "\n",
       "                       dataGroup Jahr-2014 Jahr-2015 TYPE_OF_STATION  \\\n",
       "0  halb- oder stündliche Messung   21.1261   20.3173     Hintergrund   \n",
       "\n",
       "            TYPE_OF_AREA     Länge     Breite    Stadt  \n",
       "0  vorstädtisches Gebiet  7.331405  51.641383  Datteln  "
      ]
     },
     "execution_count": 10,
     "metadata": {},
     "output_type": "execute_result"
    }
   ],
   "source": [
    "df.head(1)"
   ]
  },
  {
   "cell_type": "code",
   "execution_count": 11,
   "metadata": {
    "collapsed": false
   },
   "outputs": [
    {
     "data": {
      "text/plain": [
       "Stationscode        object\n",
       "Stationsname        object\n",
       "Schadstoff          object\n",
       "Einheit             object\n",
       "dataGroup           object\n",
       "Jahr-2014           object\n",
       "Jahr-2015           object\n",
       "TYPE_OF_STATION     object\n",
       "TYPE_OF_AREA        object\n",
       "Länge              float64\n",
       "Breite             float64\n",
       "Stadt               object\n",
       "dtype: object"
      ]
     },
     "execution_count": 11,
     "metadata": {},
     "output_type": "execute_result"
    }
   ],
   "source": [
    "# Ausgeben, welche Datentypen in den Spalten sind. Bis auf Länge und Breite werden die Werte nicht als numerisch erkannt. \n",
    "df.dtypes"
   ]
  },
  {
   "cell_type": "code",
   "execution_count": 12,
   "metadata": {
    "collapsed": false
   },
   "outputs": [
    {
     "data": {
      "text/html": [
       "<div style=\"max-height:1000px;max-width:1500px;overflow:auto;\">\n",
       "<table border=\"1\" class=\"dataframe\">\n",
       "  <thead>\n",
       "    <tr style=\"text-align: right;\">\n",
       "      <th></th>\n",
       "      <th>Stationscode</th>\n",
       "      <th>Stationsname</th>\n",
       "      <th>Stadt</th>\n",
       "      <th>Länge</th>\n",
       "      <th>Breite</th>\n",
       "    </tr>\n",
       "  </thead>\n",
       "  <tbody>\n",
       "    <tr>\n",
       "      <th>0</th>\n",
       "      <td> DENW002</td>\n",
       "      <td>    Datteln-Hagem</td>\n",
       "      <td>  Datteln</td>\n",
       "      <td> 7.331405</td>\n",
       "      <td> 51.641383</td>\n",
       "    </tr>\n",
       "    <tr>\n",
       "      <th>1</th>\n",
       "      <td> DENW006</td>\n",
       "      <td> Lünen-Niederaden</td>\n",
       "      <td>    Lünen</td>\n",
       "      <td> 7.569838</td>\n",
       "      <td> 51.592206</td>\n",
       "    </tr>\n",
       "    <tr>\n",
       "      <th>2</th>\n",
       "      <td> DENW008</td>\n",
       "      <td>   Dortmund-Eving</td>\n",
       "      <td> Dortmund</td>\n",
       "      <td> 7.457463</td>\n",
       "      <td> 51.536911</td>\n",
       "    </tr>\n",
       "    <tr>\n",
       "      <th>3</th>\n",
       "      <td> DENW010</td>\n",
       "      <td>  Unna-Königsborn</td>\n",
       "      <td>     Unna</td>\n",
       "      <td> 7.693835</td>\n",
       "      <td> 51.547495</td>\n",
       "    </tr>\n",
       "    <tr>\n",
       "      <th>4</th>\n",
       "      <td> DENW021</td>\n",
       "      <td>  Bottrop-Welheim</td>\n",
       "      <td>  Bottrop</td>\n",
       "      <td> 6.976908</td>\n",
       "      <td> 51.525963</td>\n",
       "    </tr>\n",
       "  </tbody>\n",
       "</table>\n",
       "</div>"
      ],
      "text/plain": [
       "  Stationscode      Stationsname     Stadt     Länge     Breite\n",
       "0      DENW002     Datteln-Hagem   Datteln  7.331405  51.641383\n",
       "1      DENW006  Lünen-Niederaden     Lünen  7.569838  51.592206\n",
       "2      DENW008    Dortmund-Eving  Dortmund  7.457463  51.536911\n",
       "3      DENW010   Unna-Königsborn      Unna  7.693835  51.547495\n",
       "4      DENW021   Bottrop-Welheim   Bottrop  6.976908  51.525963"
      ]
     },
     "execution_count": 12,
     "metadata": {},
     "output_type": "execute_result"
    }
   ],
   "source": [
    "# Liste mit Stationsnamen erzeugen für merge mit Rohdaten\n",
    "stationsnamen = df[['Stationscode', 'Stationsname', 'Stadt', 'Länge', 'Breite']]\n",
    "stationsnamen.head()"
   ]
  },
  {
   "cell_type": "code",
   "execution_count": 13,
   "metadata": {
    "collapsed": false
   },
   "outputs": [],
   "source": [
    "pd.to_pickle(stationsnamen, './stationsnamen.pickle')"
   ]
  },
  {
   "cell_type": "code",
   "execution_count": 30,
   "metadata": {
    "collapsed": false
   },
   "outputs": [
    {
     "data": {
      "text/html": [
       "<div style=\"max-height:1000px;max-width:1500px;overflow:auto;\">\n",
       "<table border=\"1\" class=\"dataframe\">\n",
       "  <thead>\n",
       "    <tr style=\"text-align: right;\">\n",
       "      <th></th>\n",
       "      <th>Stationscode</th>\n",
       "      <th>Stationsname</th>\n",
       "      <th>Stadt</th>\n",
       "    </tr>\n",
       "  </thead>\n",
       "  <tbody>\n",
       "    <tr>\n",
       "      <th>41</th>\n",
       "      <td> DENW136</td>\n",
       "      <td> Dortmund Brackeler Straße</td>\n",
       "      <td> Dortmund</td>\n",
       "    </tr>\n",
       "    <tr>\n",
       "      <th>42</th>\n",
       "      <td> DENW136</td>\n",
       "      <td> Dortmund Brackeler Straße</td>\n",
       "      <td> Dortmund</td>\n",
       "    </tr>\n",
       "  </tbody>\n",
       "</table>\n",
       "</div>"
      ],
      "text/plain": [
       "   Stationscode               Stationsname     Stadt\n",
       "41      DENW136  Dortmund Brackeler Straße  Dortmund\n",
       "42      DENW136  Dortmund Brackeler Straße  Dortmund"
      ]
     },
     "execution_count": 30,
     "metadata": {},
     "output_type": "execute_result"
    }
   ],
   "source": [
    "stationsnamen[stationsnamen.Stationscode == 'DENW136']"
   ]
  },
  {
   "cell_type": "code",
   "execution_count": 31,
   "metadata": {
    "collapsed": false
   },
   "outputs": [
    {
     "data": {
      "text/html": [
       "<div style=\"max-height:1000px;max-width:1500px;overflow:auto;\">\n",
       "<table border=\"1\" class=\"dataframe\">\n",
       "  <thead>\n",
       "    <tr style=\"text-align: right;\">\n",
       "      <th></th>\n",
       "      <th>Stationscode</th>\n",
       "      <th>Stationsname</th>\n",
       "      <th>Stadt</th>\n",
       "    </tr>\n",
       "  </thead>\n",
       "  <tbody>\n",
       "    <tr>\n",
       "      <th>28</th>\n",
       "      <td> DENW082</td>\n",
       "      <td> Düsseldorf Corneliusstraße</td>\n",
       "      <td> Düsseldorf</td>\n",
       "    </tr>\n",
       "    <tr>\n",
       "      <th>29</th>\n",
       "      <td> DENW082</td>\n",
       "      <td> Düsseldorf Corneliusstraße</td>\n",
       "      <td> Düsseldorf</td>\n",
       "    </tr>\n",
       "  </tbody>\n",
       "</table>\n",
       "</div>"
      ],
      "text/plain": [
       "   Stationscode                Stationsname       Stadt\n",
       "28      DENW082  Düsseldorf Corneliusstraße  Düsseldorf\n",
       "29      DENW082  Düsseldorf Corneliusstraße  Düsseldorf"
      ]
     },
     "execution_count": 31,
     "metadata": {},
     "output_type": "execute_result"
    }
   ],
   "source": [
    "stationsnamen[stationsnamen.Stationscode == 'DENW082']"
   ]
  },
  {
   "cell_type": "code",
   "execution_count": 13,
   "metadata": {
    "collapsed": false
   },
   "outputs": [
    {
     "data": {
      "text/plain": [
       "(13, 12)"
      ]
     },
     "execution_count": 13,
     "metadata": {},
     "output_type": "execute_result"
    }
   ],
   "source": [
    "### Einige Zeilen enthalten für 2014 und 2015 seltsame oder keine Werte: '-' oder '-777.000'. \n",
    "# Pandas zählt diese Werte als Strings, deshalb der dtype 'object', weil Zahlen und Strings gemischt vorkommen. \n",
    "\n",
    "# Wie viele Bindestriche gibt es in den 2014er Werten? \n",
    "bindestrich_2014 = df[df['Jahr-2014']== '-']\n",
    "bindestrich_2014.shape\n",
    "# 2014 13 Stationen mit '-'"
   ]
  },
  {
   "cell_type": "code",
   "execution_count": 14,
   "metadata": {
    "collapsed": false
   },
   "outputs": [
    {
     "data": {
      "text/plain": [
       "(11, 12)"
      ]
     },
     "execution_count": 14,
     "metadata": {},
     "output_type": "execute_result"
    }
   ],
   "source": [
    "# Wie viele Bindestriche gibt es in den 2015er Werten? \n",
    "bindestrich_2015 = df[df['Jahr-2015']== '-']\n",
    "bindestrich_2015.shape\n",
    "\n",
    "# 2015 11 Stationen mit '-'"
   ]
  },
  {
   "cell_type": "code",
   "execution_count": 15,
   "metadata": {
    "collapsed": false
   },
   "outputs": [
    {
     "data": {
      "text/html": [
       "<div style=\"max-height:1000px;max-width:1500px;overflow:auto;\">\n",
       "<table border=\"1\" class=\"dataframe\">\n",
       "  <thead>\n",
       "    <tr style=\"text-align: right;\">\n",
       "      <th></th>\n",
       "      <th>Stationscode</th>\n",
       "      <th>Stationsname</th>\n",
       "      <th>Schadstoff</th>\n",
       "      <th>Einheit</th>\n",
       "      <th>dataGroup</th>\n",
       "      <th>Jahr-2014</th>\n",
       "      <th>Jahr-2015</th>\n",
       "      <th>TYPE_OF_STATION</th>\n",
       "      <th>TYPE_OF_AREA</th>\n",
       "      <th>Länge</th>\n",
       "      <th>Breite</th>\n",
       "      <th>Stadt</th>\n",
       "    </tr>\n",
       "  </thead>\n",
       "  <tbody>\n",
       "  </tbody>\n",
       "</table>\n",
       "</div>"
      ],
      "text/plain": [
       "Empty DataFrame\n",
       "Columns: [Stationscode, Stationsname, Schadstoff, Einheit, dataGroup, Jahr-2014, Jahr-2015, TYPE_OF_STATION, TYPE_OF_AREA, Länge, Breite, Stadt]\n",
       "Index: []"
      ]
     },
     "execution_count": 15,
     "metadata": {},
     "output_type": "execute_result"
    }
   ],
   "source": [
    "df[(df['Jahr-2014'] == '-') & (df['Jahr-2015'] == '-')]\n",
    "# Keine Station 2014 und 2015 mit '-'"
   ]
  },
  {
   "cell_type": "code",
   "execution_count": 16,
   "metadata": {
    "collapsed": false
   },
   "outputs": [],
   "source": [
    "# Neuen DF clean_year erstellen\n",
    "clean_year = df[['Jahr-2014', 'Jahr-2015']]"
   ]
  },
  {
   "cell_type": "code",
   "execution_count": 17,
   "metadata": {
    "collapsed": false
   },
   "outputs": [
    {
     "ename": "AttributeError",
     "evalue": "'module' object has no attribute 'to_numeric'",
     "output_type": "error",
     "traceback": [
      "\u001b[1;31m---------------------------------------------------------------------------\u001b[0m",
      "\u001b[1;31mAttributeError\u001b[0m                            Traceback (most recent call last)",
      "\u001b[1;32m<ipython-input-17-3a3385f47af3>\u001b[0m in \u001b[0;36m<module>\u001b[1;34m()\u001b[0m\n\u001b[0;32m      1\u001b[0m \u001b[1;31m# Werte auf 'numerisch' setzen, wenn das nicht klappt, NAN eingeben\u001b[0m\u001b[1;33m\u001b[0m\u001b[1;33m\u001b[0m\u001b[0m\n\u001b[1;32m----> 2\u001b[1;33m \u001b[0mclean_year\u001b[0m\u001b[1;33m[\u001b[0m\u001b[1;34m'Jahr-2014'\u001b[0m\u001b[1;33m]\u001b[0m \u001b[1;33m=\u001b[0m \u001b[0mpd\u001b[0m\u001b[1;33m.\u001b[0m\u001b[0mto_numeric\u001b[0m\u001b[1;33m(\u001b[0m\u001b[0mclean_year\u001b[0m\u001b[1;33m[\u001b[0m\u001b[1;34m'Jahr-2014'\u001b[0m\u001b[1;33m]\u001b[0m\u001b[1;33m,\u001b[0m \u001b[0merrors\u001b[0m\u001b[1;33m=\u001b[0m\u001b[1;34m'coerce'\u001b[0m\u001b[1;33m)\u001b[0m\u001b[1;33m\u001b[0m\u001b[0m\n\u001b[0m",
      "\u001b[1;31mAttributeError\u001b[0m: 'module' object has no attribute 'to_numeric'"
     ]
    }
   ],
   "source": [
    "# Werte auf 'numerisch' setzen, wenn das nicht klappt, NAN eingeben\n",
    "clean_year['Jahr-2014'] = pd.to_numeric(clean_year['Jahr-2014'], errors='coerce')"
   ]
  },
  {
   "cell_type": "code",
   "execution_count": null,
   "metadata": {
    "collapsed": false
   },
   "outputs": [],
   "source": [
    "clean_year['Jahr-2015'] = pd.to_numeric(clean_year['Jahr-2015'], errors='coerce')\n",
    "# clean_year.applymap(lambda x: isinstance(x, (int, float)))clean_year = pd.to_numeric(clean_year['Jahr-2015'], errors='coerce')\n",
    "# clean_year.applymap(lambda x: isinstance(x, (int, float)))"
   ]
  },
  {
   "cell_type": "code",
   "execution_count": null,
   "metadata": {
    "collapsed": false
   },
   "outputs": [],
   "source": [
    "clean_year.dtypes"
   ]
  },
  {
   "cell_type": "code",
   "execution_count": null,
   "metadata": {
    "collapsed": false
   },
   "outputs": [],
   "source": [
    "# Ergebnis: Bindestriche sind weg, aber es bleiben Werte wie '-777.000'\n",
    "clean_year.tail()"
   ]
  },
  {
   "cell_type": "code",
   "execution_count": null,
   "metadata": {
    "collapsed": false
   },
   "outputs": [],
   "source": [
    "# Werte kleiner 0 auf Nan setzen \n",
    "clean_year['Jahr-2014'] = clean_year['Jahr-2014'].where(clean_year['Jahr-2014'] > 0, np.nan)\n",
    "clean_year['Jahr-2014'][100:110]"
   ]
  },
  {
   "cell_type": "code",
   "execution_count": null,
   "metadata": {
    "collapsed": false
   },
   "outputs": [],
   "source": [
    "clean_year['Jahr-2015'] = clean_year['Jahr-2015'].where(clean_year['Jahr-2015'] > 0, np.nan)\n",
    "clean_year['Jahr-2015'][7]"
   ]
  },
  {
   "cell_type": "code",
   "execution_count": null,
   "metadata": {
    "collapsed": false
   },
   "outputs": [],
   "source": [
    "# saubere Spalten zum DF hinzufügen \n",
    "df['c-2014'] = clean_year['Jahr-2014']\n",
    "df['c-2015'] = clean_year['Jahr-2015']"
   ]
  },
  {
   "cell_type": "code",
   "execution_count": null,
   "metadata": {
    "collapsed": true
   },
   "outputs": [],
   "source": [
    "# Für die App ist eine Spalte 'id' nötig, die Zeilen durchzählt:\n",
    "df['id'] = df.index"
   ]
  },
  {
   "cell_type": "code",
   "execution_count": null,
   "metadata": {
    "collapsed": false
   },
   "outputs": [],
   "source": [
    "# Neuen DF mit ausgewählten Spalten erstellen\n",
    "no2 = df[['Stationsname', 'Stadt', 'Schadstoff', 'Einheit', 'c-2014', 'c-2015', 'TYPE_OF_STATION', 'TYPE_OF_AREA', 'Länge', 'Breite', 'id']]\n",
    "no2.columns"
   ]
  },
  {
   "cell_type": "code",
   "execution_count": null,
   "metadata": {
    "collapsed": false
   },
   "outputs": [],
   "source": [
    "# Geklappt? \n",
    "no2.head()"
   ]
  },
  {
   "cell_type": "code",
   "execution_count": null,
   "metadata": {
    "collapsed": false
   },
   "outputs": [],
   "source": [
    "# Bezeichnung für 2014 und 2015 noch mal ändern \n",
    "no2.columns = ['name', 'stadt', 'stoff', 'einheit', 'jahr_2014', 'jahr_2015', 'typ','gebiet', 'x', 'y', 'id']\n",
    "no2 = no2.sort_values(by='jahr_2015', ascending=False)\n",
    "no2.tail(20)"
   ]
  },
  {
   "cell_type": "code",
   "execution_count": null,
   "metadata": {
    "collapsed": true
   },
   "outputs": [],
   "source": [
    "# Als CSV rausgeben\n",
    "### no2.to_csv('no2_c.csv')\n",
    "# Obacht: Wenn Dateiname nicht ge#ndert wird, wird Datei immer wieder überschrieben"
   ]
  },
  {
   "cell_type": "code",
   "execution_count": null,
   "metadata": {
    "collapsed": true
   },
   "outputs": [],
   "source": [
    "### _Ab hier sammele ich Codes, die ich geschrieben, aber dann doch nicht verwendet habe, \n",
    "# die aber vielleicht noch nützlich sein können:_\n",
    "\n",
    "# Spalten rausschmeißen: \n",
    "# df = df.drop(['Stationscode','Stationsname', 'Schadstoff', 'Einheit', 'dataGroup', 'Jahr-2014', 'Jahr-2015', 'TYPE_OF_STATION', 'TYPE_OF_AREA', ] , axis=1)\n",
    "# df = df.drop(['year_2014','year_2015'], axis=1)\n",
    "\n",
    "# Index auf Stationsname setzen \n",
    "# df.index = df['Stationsname']"
   ]
  },
  {
   "cell_type": "markdown",
   "metadata": {},
   "source": [
    "### Informationen zu Grenzwerten hinzufügen \n",
    "\n"
   ]
  },
  {
   "cell_type": "code",
   "execution_count": null,
   "metadata": {
    "collapsed": false
   },
   "outputs": [],
   "source": [
    "# Grenzwert 40 überschritten in 2015?\n",
    "\n",
    "drueber = no2[no2['jahr_2015'] > 40]\n",
    "drueber.shape\n",
    "drueber.head(1)\n",
    "\n",
    "# 2014 wurde der Grenzwert an 64 Messstationen überschritten "
   ]
  },
  {
   "cell_type": "code",
   "execution_count": null,
   "metadata": {
    "collapsed": false
   },
   "outputs": [],
   "source": [
    "# Welches sind die Stationen mit den höchsten Messwerten?\n",
    "drueber_s = drueber.sort_values(by='jahr_2015', ascending = False)\n",
    "drueber_s.head(1)"
   ]
  },
  {
   "cell_type": "code",
   "execution_count": null,
   "metadata": {
    "collapsed": false
   },
   "outputs": [],
   "source": [
    "# 2015: Welche Städte hatten die meisten überschrittenen Grenzwerte?\n",
    "top_2015 = df.sort_values(by='c-2015', ascending=False)\n",
    "drueber_2015 = top_2015[top_2015['c-2015'] >40]\n",
    "drueber_2015_staedte = drueber_2015.groupby('Stadt').agg(['count'])\n",
    "drueber_2015_staedte.sort_values(by=[('Stationsname','count')], ascending=False).head(5)"
   ]
  },
  {
   "cell_type": "code",
   "execution_count": null,
   "metadata": {
    "collapsed": false
   },
   "outputs": [],
   "source": [
    "# Wie viele Messstellen wo? \n",
    "\n",
    "mess = df.groupby('Stadt').agg(['count'])\n",
    "mess.sort_values(by=[('Stationsname','count')], ascending=False).head(5)"
   ]
  },
  {
   "cell_type": "code",
   "execution_count": null,
   "metadata": {
    "collapsed": true
   },
   "outputs": [],
   "source": [
    "# Next step: Anteil der Stationen mit überschrittenem Grenzwert an der Anzahl der Stationen berechnen"
   ]
  },
  {
   "cell_type": "code",
   "execution_count": null,
   "metadata": {
    "collapsed": false
   },
   "outputs": [],
   "source": [
    "# Spalte 'ueberschritten' hinzufügen\n",
    "no2.head()\n",
    "no2['ueberschritten'] = no2['jahr_2015'] > 40\n",
    "test = no2[no2['ueberschritten'] == True]\n",
    "test.shape"
   ]
  },
  {
   "cell_type": "code",
   "execution_count": null,
   "metadata": {
    "collapsed": false
   },
   "outputs": [],
   "source": [
    "no2.describe()"
   ]
  },
  {
   "cell_type": "markdown",
   "metadata": {},
   "source": [
    "Unterschied 2014 und 2015 berechnen \n",
    "http://chrisalbon.com/python/pandas_make_new_columns_using_functions.html"
   ]
  },
  {
   "cell_type": "code",
   "execution_count": null,
   "metadata": {
    "collapsed": false
   },
   "outputs": [],
   "source": [
    "# Create a function that takes two inputs, pre and post\n",
    "def pre_post_difference(pre, post):\n",
    "    # returns the difference between post and pre\n",
    "    return post - pre"
   ]
  },
  {
   "cell_type": "code",
   "execution_count": null,
   "metadata": {
    "collapsed": false
   },
   "outputs": [],
   "source": [
    "# Create a variable that is the output of the function\n",
    "no2['change'] = pre_post_difference(no2['jahr_2014'], no2['jahr_2015'])\n",
    "\n",
    "# View the dataframe\n",
    "change = no2[no2['change'] > 0]"
   ]
  },
  {
   "cell_type": "code",
   "execution_count": null,
   "metadata": {
    "collapsed": false
   },
   "outputs": [],
   "source": [
    "change.shape"
   ]
  },
  {
   "cell_type": "code",
   "execution_count": null,
   "metadata": {
    "collapsed": false
   },
   "outputs": [],
   "source": [
    "# In 20 von ca 130 Messstationen sind Werte gestiegen \n",
    "20/130"
   ]
  },
  {
   "cell_type": "code",
   "execution_count": null,
   "metadata": {
    "collapsed": false
   },
   "outputs": [],
   "source": [
    "### Output für FNA und Bubble Chart vorbereiten \n",
    "no2.head(2)"
   ]
  },
  {
   "cell_type": "code",
   "execution_count": null,
   "metadata": {
    "collapsed": false
   },
   "outputs": [],
   "source": []
  },
  {
   "cell_type": "markdown",
   "metadata": {},
   "source": [
    "### File ausgeben: "
   ]
  },
  {
   "cell_type": "code",
   "execution_count": null,
   "metadata": {
    "collapsed": true
   },
   "outputs": [],
   "source": [
    "no2.to_csv('no2_marker.csv')"
   ]
  },
  {
   "cell_type": "code",
   "execution_count": null,
   "metadata": {
    "collapsed": true
   },
   "outputs": [],
   "source": []
  },
  {
   "cell_type": "code",
   "execution_count": null,
   "metadata": {
    "collapsed": true
   },
   "outputs": [],
   "source": [
    "change_s = no2.sort_values(by='change', ascending=False)"
   ]
  },
  {
   "cell_type": "markdown",
   "metadata": {},
   "source": [
    "### Bubble Chart ! "
   ]
  },
  {
   "cell_type": "markdown",
   "metadata": {},
   "source": [
    "- On the x-axis: 2014 - (“income”)\n",
    "- On the y-axis: 2015 - (“health”). \n",
    "- Size of the bubbles: Change - (population) \n",
    "- Some tools call that a scatterplot, some call it a bubble chart."
   ]
  },
  {
   "cell_type": "markdown",
   "metadata": {},
   "source": [
    "#### Matplotlib"
   ]
  },
  {
   "cell_type": "code",
   "execution_count": null,
   "metadata": {
    "collapsed": false
   },
   "outputs": [],
   "source": [
    "#import libraries\n",
    "import numpy as np\n",
    "import pandas as pd\n",
    "import matplotlib.pyplot as plt\n",
    "import matplotlib\n",
    "\n",
    "%matplotlib inline\n",
    "\n",
    "#read data\n",
    "data = pd.read_csv(\"no2_marker.csv\")\n",
    "\n",
    "#plot chart\n",
    "# plt.scatter(np.log(no2['jahr_2015']), no2['jahr_2014'], s=no2['change']*200, c='blue')\n",
    "# plt.xlim(xmin=0) #set origin for x axis to zero\n",
    "# plt.show()\n",
    "\n",
    "matplotlib.rcParams['figure.figsize'] = (15.0, 15.0)\n",
    "\n",
    "plt.scatter(no2['jahr_2014'], no2['jahr_2015'], s=70)\n",
    "plt.title('2014 > 2015', loc='left', size=25)\n",
    "plt.xlabel('2014', size=18)\n",
    "plt.ylabel('2015', size=18)\n",
    "\n",
    "x = range(0,70)\n",
    "# plt.xticks(x)\n",
    "# plt.yticks(x)"
   ]
  },
  {
   "cell_type": "code",
   "execution_count": null,
   "metadata": {
    "collapsed": false
   },
   "outputs": [],
   "source": [
    "# Bubble chart mit s=change bedeutet, dass alle Werte unter 0 nicht angezeigt werden\n",
    "matplotlib.rcParams['figure.figsize'] = (10.0, 10.0)\n",
    "plt.scatter(no2['jahr_2014'], no2['jahr_2015'], s=no2['change']*700)"
   ]
  },
  {
   "cell_type": "markdown",
   "metadata": {},
   "source": [
    "#### Seaborn"
   ]
  },
  {
   "cell_type": "code",
   "execution_count": null,
   "metadata": {
    "collapsed": false
   },
   "outputs": [],
   "source": [
    "#import libraries\n",
    "import pandas as pd\n",
    "import matplotlib.pyplot as plt\n",
    "import seaborn as sns\n",
    "\n",
    "#read data\n",
    "data = pd.read_csv(\"no2_marker.csv\")\n",
    "\n",
    "#plot chart\n",
    "g = sns.regplot('jahr_2015', 'jahr_2014', data=data, color='r',fit_reg=False)\n",
    "# g.set_xscale('log')\n",
    "name=\"x_var\"\n",
    "plt.show()"
   ]
  },
  {
   "cell_type": "markdown",
   "metadata": {},
   "source": [
    "#### Bokeh"
   ]
  },
  {
   "cell_type": "code",
   "execution_count": null,
   "metadata": {
    "collapsed": false
   },
   "outputs": [],
   "source": [
    "#import libraries\n",
    "import pandas as pd\n",
    "from bokeh.plotting import figure, show, output_file\n",
    "\n",
    "#read data\n",
    "data = pd.read_csv(\"no2_marker.csv\")\n",
    "\n",
    "#plot chart\n",
    "p = figure()\n",
    "p.scatter(no2['jahr_2014'], no2['jahr_2015'], radius=no2['change'],\n",
    "          fill_color='blue', fill_alpha=0.4, line_color=None)\n",
    "\n",
    "#write as html file and open in browser\n",
    "output_file(\"scatterplot.html\")\n",
    "show(p)\n",
    "\n"
   ]
  },
  {
   "cell_type": "code",
   "execution_count": null,
   "metadata": {
    "collapsed": true
   },
   "outputs": [],
   "source": []
  }
 ],
 "metadata": {
  "kernelspec": {
   "display_name": "Python 3",
   "language": "python",
   "name": "python3"
  },
  "language_info": {
   "codemirror_mode": {
    "name": "ipython",
    "version": 3
   },
   "file_extension": ".py",
   "mimetype": "text/x-python",
   "name": "python",
   "nbconvert_exporter": "python",
   "pygments_lexer": "ipython3",
   "version": "3.4.2"
  }
 },
 "nbformat": 4,
 "nbformat_minor": 0
}
