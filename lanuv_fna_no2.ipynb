{
 "cells": [
  {
   "cell_type": "markdown",
   "metadata": {},
   "source": [
    "# Lanuv: Excel into Pandas \n",
    "[http://hayd.github.io/2013/pandas-json/]"
   ]
  },
  {
   "cell_type": "code",
   "execution_count": 11,
   "metadata": {
    "collapsed": true
   },
   "outputs": [],
   "source": [
    "import pandas as pd\n",
    "import numpy as np\n",
    "import re\n",
    "import json\n",
    "import requests"
   ]
  },
  {
   "cell_type": "code",
   "execution_count": 12,
   "metadata": {
    "collapsed": false
   },
   "outputs": [
    {
     "data": {
      "text/plain": [
       "(153, 11)"
      ]
     },
     "execution_count": 12,
     "metadata": {},
     "output_type": "execute_result"
    }
   ],
   "source": [
    "f = 'Anfrage_Rentmeister/Anfrage_Rentmeister.xlsx'\n",
    "df = pd.read_excel(f, sheetname='NO2_JMW')\n",
    "df.shape"
   ]
  },
  {
   "cell_type": "code",
   "execution_count": 13,
   "metadata": {
    "collapsed": false
   },
   "outputs": [
    {
     "data": {
      "text/plain": [
       "Index([   'Stationscode',    'Stationsname',      'Schadstoff',\n",
       "               'Einheit',       'dataGroup',              2014,\n",
       "                    2015, 'TYPE_OF_STATION',    'TYPE_OF_AREA',\n",
       "                 'Länge',          'Breite'],\n",
       "      dtype='object')"
      ]
     },
     "execution_count": 13,
     "metadata": {},
     "output_type": "execute_result"
    }
   ],
   "source": [
    "df.columns\n",
    "# df.sort_values(by='2014')"
   ]
  },
  {
   "cell_type": "code",
   "execution_count": null,
   "metadata": {
    "collapsed": false
   },
   "outputs": [],
   "source": []
  },
  {
   "cell_type": "code",
   "execution_count": 14,
   "metadata": {
    "collapsed": false
   },
   "outputs": [
    {
     "data": {
      "text/html": [
       "<div>\n",
       "<table border=\"1\" class=\"dataframe\">\n",
       "  <thead>\n",
       "    <tr style=\"text-align: right;\">\n",
       "      <th></th>\n",
       "      <th>Stationscode</th>\n",
       "      <th>Stationsname</th>\n",
       "      <th>Schadstoff</th>\n",
       "      <th>Einheit</th>\n",
       "      <th>dataGroup</th>\n",
       "      <th>2014</th>\n",
       "      <th>2015</th>\n",
       "      <th>TYPE_OF_STATION</th>\n",
       "      <th>TYPE_OF_AREA</th>\n",
       "      <th>Länge</th>\n",
       "      <th>Breite</th>\n",
       "    </tr>\n",
       "  </thead>\n",
       "  <tbody>\n",
       "    <tr>\n",
       "      <th>0</th>\n",
       "      <td>DENW002</td>\n",
       "      <td>Datteln-Hagem</td>\n",
       "      <td>Stickstoffdioxid</td>\n",
       "      <td>µg/m³</td>\n",
       "      <td>halb- oder stündliche Messung</td>\n",
       "      <td>21.1261</td>\n",
       "      <td>20.3173</td>\n",
       "      <td>Hintergrund</td>\n",
       "      <td>vorstädtisches Gebiet</td>\n",
       "      <td>7.331405</td>\n",
       "      <td>51.641383</td>\n",
       "    </tr>\n",
       "  </tbody>\n",
       "</table>\n",
       "</div>"
      ],
      "text/plain": [
       "  Stationscode   Stationsname        Schadstoff Einheit  \\\n",
       "0      DENW002  Datteln-Hagem  Stickstoffdioxid   µg/m³   \n",
       "\n",
       "                       dataGroup     2014     2015 TYPE_OF_STATION  \\\n",
       "0  halb- oder stündliche Messung  21.1261  20.3173     Hintergrund   \n",
       "\n",
       "            TYPE_OF_AREA     Länge     Breite  \n",
       "0  vorstädtisches Gebiet  7.331405  51.641383  "
      ]
     },
     "execution_count": 14,
     "metadata": {},
     "output_type": "execute_result"
    }
   ],
   "source": [
    "df.head(1)"
   ]
  },
  {
   "cell_type": "code",
   "execution_count": 15,
   "metadata": {
    "collapsed": false
   },
   "outputs": [
    {
     "data": {
      "text/plain": [
       "148    Düsseldorf\n",
       "149     Paderborn\n",
       "150       Bottrop\n",
       "151      Schwerte\n",
       "152         Herne\n",
       "Name: Stadt, dtype: object"
      ]
     },
     "execution_count": 15,
     "metadata": {},
     "output_type": "execute_result"
    }
   ],
   "source": [
    "# Städte rausziehen \n",
    "\n",
    "stadt = df['Stationsname'].str.split(' ').str.get(0)\n",
    "stadt2 = stadt.str.split('-').str.get(0)\n",
    "\n",
    "df['Stadt'] = stadt2\n",
    "df['Stadt'].tail()"
   ]
  },
  {
   "cell_type": "code",
   "execution_count": 16,
   "metadata": {
    "collapsed": false
   },
   "outputs": [
    {
     "data": {
      "text/plain": [
       "Index([   'Stationscode',    'Stationsname',      'Schadstoff',\n",
       "               'Einheit',       'dataGroup',              2014,\n",
       "                    2015, 'TYPE_OF_STATION',    'TYPE_OF_AREA',\n",
       "                 'Länge',          'Breite',           'Stadt'],\n",
       "      dtype='object')"
      ]
     },
     "execution_count": 16,
     "metadata": {},
     "output_type": "execute_result"
    }
   ],
   "source": [
    "df.columns"
   ]
  },
  {
   "cell_type": "code",
   "execution_count": 17,
   "metadata": {
    "collapsed": false
   },
   "outputs": [],
   "source": [
    "df.columns = ['Stationscode', 'Stationsname','Schadstoff', 'Einheit', 'dataGroup', 'Jahr-2014', 'Jahr-2015', 'TYPE_OF_STATION', 'TYPE_OF_AREA', 'Länge', 'Breite', 'Stadt']"
   ]
  },
  {
   "cell_type": "code",
   "execution_count": 18,
   "metadata": {
    "collapsed": false
   },
   "outputs": [
    {
     "data": {
      "text/html": [
       "<div>\n",
       "<table border=\"1\" class=\"dataframe\">\n",
       "  <thead>\n",
       "    <tr style=\"text-align: right;\">\n",
       "      <th></th>\n",
       "      <th>Stationscode</th>\n",
       "      <th>Stationsname</th>\n",
       "      <th>Schadstoff</th>\n",
       "      <th>Einheit</th>\n",
       "      <th>dataGroup</th>\n",
       "      <th>Jahr-2014</th>\n",
       "      <th>Jahr-2015</th>\n",
       "      <th>TYPE_OF_STATION</th>\n",
       "      <th>TYPE_OF_AREA</th>\n",
       "      <th>Länge</th>\n",
       "      <th>Breite</th>\n",
       "      <th>Stadt</th>\n",
       "    </tr>\n",
       "  </thead>\n",
       "  <tbody>\n",
       "    <tr>\n",
       "      <th>0</th>\n",
       "      <td>DENW002</td>\n",
       "      <td>Datteln-Hagem</td>\n",
       "      <td>Stickstoffdioxid</td>\n",
       "      <td>µg/m³</td>\n",
       "      <td>halb- oder stündliche Messung</td>\n",
       "      <td>21.1261</td>\n",
       "      <td>20.3173</td>\n",
       "      <td>Hintergrund</td>\n",
       "      <td>vorstädtisches Gebiet</td>\n",
       "      <td>7.331405</td>\n",
       "      <td>51.641383</td>\n",
       "      <td>Datteln</td>\n",
       "    </tr>\n",
       "    <tr>\n",
       "      <th>1</th>\n",
       "      <td>DENW006</td>\n",
       "      <td>Lünen-Niederaden</td>\n",
       "      <td>Stickstoffdioxid</td>\n",
       "      <td>µg/m³</td>\n",
       "      <td>halb- oder stündliche Messung</td>\n",
       "      <td>27.438</td>\n",
       "      <td>24.3654</td>\n",
       "      <td>Hintergrund</td>\n",
       "      <td>vorstädtisches Gebiet</td>\n",
       "      <td>7.569838</td>\n",
       "      <td>51.592206</td>\n",
       "      <td>Lünen</td>\n",
       "    </tr>\n",
       "  </tbody>\n",
       "</table>\n",
       "</div>"
      ],
      "text/plain": [
       "  Stationscode      Stationsname        Schadstoff Einheit  \\\n",
       "0      DENW002     Datteln-Hagem  Stickstoffdioxid   µg/m³   \n",
       "1      DENW006  Lünen-Niederaden  Stickstoffdioxid   µg/m³   \n",
       "\n",
       "                       dataGroup Jahr-2014 Jahr-2015 TYPE_OF_STATION  \\\n",
       "0  halb- oder stündliche Messung   21.1261   20.3173     Hintergrund   \n",
       "1  halb- oder stündliche Messung    27.438   24.3654     Hintergrund   \n",
       "\n",
       "            TYPE_OF_AREA     Länge     Breite    Stadt  \n",
       "0  vorstädtisches Gebiet  7.331405  51.641383  Datteln  \n",
       "1  vorstädtisches Gebiet  7.569838  51.592206    Lünen  "
      ]
     },
     "execution_count": 18,
     "metadata": {},
     "output_type": "execute_result"
    }
   ],
   "source": [
    "df.head(2)"
   ]
  },
  {
   "cell_type": "code",
   "execution_count": 19,
   "metadata": {
    "collapsed": false
   },
   "outputs": [
    {
     "data": {
      "text/html": [
       "<div>\n",
       "<table border=\"1\" class=\"dataframe\">\n",
       "  <thead>\n",
       "    <tr style=\"text-align: right;\">\n",
       "      <th></th>\n",
       "      <th>Stationscode</th>\n",
       "      <th>Stationsname</th>\n",
       "      <th>Schadstoff</th>\n",
       "      <th>Einheit</th>\n",
       "      <th>dataGroup</th>\n",
       "      <th>Jahr-2014</th>\n",
       "      <th>Jahr-2015</th>\n",
       "      <th>TYPE_OF_STATION</th>\n",
       "      <th>TYPE_OF_AREA</th>\n",
       "      <th>Länge</th>\n",
       "      <th>Breite</th>\n",
       "      <th>Stadt</th>\n",
       "    </tr>\n",
       "    <tr>\n",
       "      <th>Stationsname</th>\n",
       "      <th></th>\n",
       "      <th></th>\n",
       "      <th></th>\n",
       "      <th></th>\n",
       "      <th></th>\n",
       "      <th></th>\n",
       "      <th></th>\n",
       "      <th></th>\n",
       "      <th></th>\n",
       "      <th></th>\n",
       "      <th></th>\n",
       "      <th></th>\n",
       "    </tr>\n",
       "  </thead>\n",
       "  <tbody>\n",
       "    <tr>\n",
       "      <th>Datteln-Hagem</th>\n",
       "      <td>DENW002</td>\n",
       "      <td>Datteln-Hagem</td>\n",
       "      <td>Stickstoffdioxid</td>\n",
       "      <td>µg/m³</td>\n",
       "      <td>halb- oder stündliche Messung</td>\n",
       "      <td>21.1261</td>\n",
       "      <td>20.3173</td>\n",
       "      <td>Hintergrund</td>\n",
       "      <td>vorstädtisches Gebiet</td>\n",
       "      <td>7.331405</td>\n",
       "      <td>51.641383</td>\n",
       "      <td>Datteln</td>\n",
       "    </tr>\n",
       "    <tr>\n",
       "      <th>Lünen-Niederaden</th>\n",
       "      <td>DENW006</td>\n",
       "      <td>Lünen-Niederaden</td>\n",
       "      <td>Stickstoffdioxid</td>\n",
       "      <td>µg/m³</td>\n",
       "      <td>halb- oder stündliche Messung</td>\n",
       "      <td>27.438</td>\n",
       "      <td>24.3654</td>\n",
       "      <td>Hintergrund</td>\n",
       "      <td>vorstädtisches Gebiet</td>\n",
       "      <td>7.569838</td>\n",
       "      <td>51.592206</td>\n",
       "      <td>Lünen</td>\n",
       "    </tr>\n",
       "    <tr>\n",
       "      <th>Dortmund-Eving</th>\n",
       "      <td>DENW008</td>\n",
       "      <td>Dortmund-Eving</td>\n",
       "      <td>Stickstoffdioxid</td>\n",
       "      <td>µg/m³</td>\n",
       "      <td>halb- oder stündliche Messung</td>\n",
       "      <td>27.6639</td>\n",
       "      <td>26.5309</td>\n",
       "      <td>Hintergrund</td>\n",
       "      <td>städtisches Gebiet</td>\n",
       "      <td>7.457463</td>\n",
       "      <td>51.536911</td>\n",
       "      <td>Dortmund</td>\n",
       "    </tr>\n",
       "    <tr>\n",
       "      <th>Unna-Königsborn</th>\n",
       "      <td>DENW010</td>\n",
       "      <td>Unna-Königsborn</td>\n",
       "      <td>Stickstoffdioxid</td>\n",
       "      <td>µg/m³</td>\n",
       "      <td>halb- oder stündliche Messung</td>\n",
       "      <td>20.9525</td>\n",
       "      <td>20.9618</td>\n",
       "      <td>Hintergrund</td>\n",
       "      <td>vorstädtisches Gebiet</td>\n",
       "      <td>7.693835</td>\n",
       "      <td>51.547495</td>\n",
       "      <td>Unna</td>\n",
       "    </tr>\n",
       "    <tr>\n",
       "      <th>Bottrop-Welheim</th>\n",
       "      <td>DENW021</td>\n",
       "      <td>Bottrop-Welheim</td>\n",
       "      <td>Stickstoffdioxid</td>\n",
       "      <td>µg/m³</td>\n",
       "      <td>halb- oder stündliche Messung</td>\n",
       "      <td>27.3434</td>\n",
       "      <td>26.3245</td>\n",
       "      <td>Industrie</td>\n",
       "      <td>städtisches Gebiet</td>\n",
       "      <td>6.976908</td>\n",
       "      <td>51.525963</td>\n",
       "      <td>Bottrop</td>\n",
       "    </tr>\n",
       "  </tbody>\n",
       "</table>\n",
       "</div>"
      ],
      "text/plain": [
       "                 Stationscode      Stationsname        Schadstoff Einheit  \\\n",
       "Stationsname                                                                \n",
       "Datteln-Hagem         DENW002     Datteln-Hagem  Stickstoffdioxid   µg/m³   \n",
       "Lünen-Niederaden      DENW006  Lünen-Niederaden  Stickstoffdioxid   µg/m³   \n",
       "Dortmund-Eving        DENW008    Dortmund-Eving  Stickstoffdioxid   µg/m³   \n",
       "Unna-Königsborn       DENW010   Unna-Königsborn  Stickstoffdioxid   µg/m³   \n",
       "Bottrop-Welheim       DENW021   Bottrop-Welheim  Stickstoffdioxid   µg/m³   \n",
       "\n",
       "                                      dataGroup Jahr-2014 Jahr-2015  \\\n",
       "Stationsname                                                          \n",
       "Datteln-Hagem     halb- oder stündliche Messung   21.1261   20.3173   \n",
       "Lünen-Niederaden  halb- oder stündliche Messung    27.438   24.3654   \n",
       "Dortmund-Eving    halb- oder stündliche Messung   27.6639   26.5309   \n",
       "Unna-Königsborn   halb- oder stündliche Messung   20.9525   20.9618   \n",
       "Bottrop-Welheim   halb- oder stündliche Messung   27.3434   26.3245   \n",
       "\n",
       "                 TYPE_OF_STATION           TYPE_OF_AREA     Länge     Breite  \\\n",
       "Stationsname                                                                   \n",
       "Datteln-Hagem        Hintergrund  vorstädtisches Gebiet  7.331405  51.641383   \n",
       "Lünen-Niederaden     Hintergrund  vorstädtisches Gebiet  7.569838  51.592206   \n",
       "Dortmund-Eving       Hintergrund     städtisches Gebiet  7.457463  51.536911   \n",
       "Unna-Königsborn      Hintergrund  vorstädtisches Gebiet  7.693835  51.547495   \n",
       "Bottrop-Welheim        Industrie     städtisches Gebiet  6.976908  51.525963   \n",
       "\n",
       "                     Stadt  \n",
       "Stationsname                \n",
       "Datteln-Hagem      Datteln  \n",
       "Lünen-Niederaden     Lünen  \n",
       "Dortmund-Eving    Dortmund  \n",
       "Unna-Königsborn       Unna  \n",
       "Bottrop-Welheim    Bottrop  "
      ]
     },
     "execution_count": 19,
     "metadata": {},
     "output_type": "execute_result"
    }
   ],
   "source": [
    "# df.columns\n",
    "# df = df.drop(['Stationscode','Stationsname', 'Schadstoff', 'Einheit', 'dataGroup', 'Jahr-2014', 'Jahr-2015', 'TYPE_OF_STATION', 'TYPE_OF_AREA', ] , axis=1)\n",
    "df.index = df['Stationsname']\n",
    "df.head()"
   ]
  },
  {
   "cell_type": "code",
   "execution_count": null,
   "metadata": {
    "collapsed": false
   },
   "outputs": [],
   "source": [
    "bindestrich_2014 = df[df['Jahr-2014']== '-']\n",
    "bindestrich_2014.shape\n",
    "# 2014 13 Stationen mit '-'"
   ]
  },
  {
   "cell_type": "code",
   "execution_count": 20,
   "metadata": {
    "collapsed": false
   },
   "outputs": [
    {
     "data": {
      "text/plain": [
       "(11, 12)"
      ]
     },
     "execution_count": 20,
     "metadata": {},
     "output_type": "execute_result"
    }
   ],
   "source": [
    "bindestrich_2015 = df[df['Jahr-2015']== '-']\n",
    "bindestrich_2015.shape\n",
    "\n",
    "# 2015 11 Stationen mit '-'"
   ]
  },
  {
   "cell_type": "code",
   "execution_count": 21,
   "metadata": {
    "collapsed": false
   },
   "outputs": [
    {
     "data": {
      "text/html": [
       "<div>\n",
       "<table border=\"1\" class=\"dataframe\">\n",
       "  <thead>\n",
       "    <tr style=\"text-align: right;\">\n",
       "      <th></th>\n",
       "      <th>Stationscode</th>\n",
       "      <th>Stationsname</th>\n",
       "      <th>Schadstoff</th>\n",
       "      <th>Einheit</th>\n",
       "      <th>dataGroup</th>\n",
       "      <th>Jahr-2014</th>\n",
       "      <th>Jahr-2015</th>\n",
       "      <th>TYPE_OF_STATION</th>\n",
       "      <th>TYPE_OF_AREA</th>\n",
       "      <th>Länge</th>\n",
       "      <th>Breite</th>\n",
       "      <th>Stadt</th>\n",
       "    </tr>\n",
       "    <tr>\n",
       "      <th>Stationsname</th>\n",
       "      <th></th>\n",
       "      <th></th>\n",
       "      <th></th>\n",
       "      <th></th>\n",
       "      <th></th>\n",
       "      <th></th>\n",
       "      <th></th>\n",
       "      <th></th>\n",
       "      <th></th>\n",
       "      <th></th>\n",
       "      <th></th>\n",
       "      <th></th>\n",
       "    </tr>\n",
       "  </thead>\n",
       "  <tbody>\n",
       "  </tbody>\n",
       "</table>\n",
       "</div>"
      ],
      "text/plain": [
       "Empty DataFrame\n",
       "Columns: [Stationscode, Stationsname, Schadstoff, Einheit, dataGroup, Jahr-2014, Jahr-2015, TYPE_OF_STATION, TYPE_OF_AREA, Länge, Breite, Stadt]\n",
       "Index: []"
      ]
     },
     "execution_count": 21,
     "metadata": {},
     "output_type": "execute_result"
    }
   ],
   "source": [
    "df[(df['Jahr-2014'] == '-') & (df['Jahr-2015'] == '-')]\n",
    "# Keine Station 2014 und 2015 mit '-'"
   ]
  },
  {
   "cell_type": "code",
   "execution_count": 22,
   "metadata": {
    "collapsed": false
   },
   "outputs": [],
   "source": [
    "clean_year = df[['Jahr-2014', 'Jahr-2015']]"
   ]
  },
  {
   "cell_type": "code",
   "execution_count": 23,
   "metadata": {
    "collapsed": false
   },
   "outputs": [
    {
     "name": "stderr",
     "output_type": "stream",
     "text": [
      "/usr/local/lib/python3.4/dist-packages/ipykernel/__main__.py:1: SettingWithCopyWarning: \n",
      "A value is trying to be set on a copy of a slice from a DataFrame.\n",
      "Try using .loc[row_indexer,col_indexer] = value instead\n",
      "\n",
      "See the caveats in the documentation: http://pandas.pydata.org/pandas-docs/stable/indexing.html#indexing-view-versus-copy\n",
      "  if __name__ == '__main__':\n"
     ]
    }
   ],
   "source": [
    "clean_year['Jahr-2014'] = pd.to_numeric(clean_year['Jahr-2014'], errors='coerce')"
   ]
  },
  {
   "cell_type": "code",
   "execution_count": 24,
   "metadata": {
    "collapsed": false
   },
   "outputs": [
    {
     "name": "stderr",
     "output_type": "stream",
     "text": [
      "/usr/local/lib/python3.4/dist-packages/ipykernel/__main__.py:1: SettingWithCopyWarning: \n",
      "A value is trying to be set on a copy of a slice from a DataFrame.\n",
      "Try using .loc[row_indexer,col_indexer] = value instead\n",
      "\n",
      "See the caveats in the documentation: http://pandas.pydata.org/pandas-docs/stable/indexing.html#indexing-view-versus-copy\n",
      "  if __name__ == '__main__':\n"
     ]
    }
   ],
   "source": [
    "clean_year['Jahr-2015'] = pd.to_numeric(clean_year['Jahr-2015'], errors='coerce')\n",
    "# clean_year.applymap(lambda x: isinstance(x, (int, float)))clean_year = pd.to_numeric(clean_year['Jahr-2015'], errors='coerce')\n",
    "# clean_year.applymap(lambda x: isinstance(x, (int, float)))"
   ]
  },
  {
   "cell_type": "code",
   "execution_count": 25,
   "metadata": {
    "collapsed": false
   },
   "outputs": [
    {
     "data": {
      "text/plain": [
       "Jahr-2014    float64\n",
       "Jahr-2015    float64\n",
       "dtype: object"
      ]
     },
     "execution_count": 25,
     "metadata": {},
     "output_type": "execute_result"
    }
   ],
   "source": [
    "clean_year.dtypes"
   ]
  },
  {
   "cell_type": "code",
   "execution_count": null,
   "metadata": {
    "collapsed": true
   },
   "outputs": [],
   "source": []
  },
  {
   "cell_type": "code",
   "execution_count": null,
   "metadata": {
    "collapsed": true
   },
   "outputs": [],
   "source": []
  },
  {
   "cell_type": "code",
   "execution_count": 26,
   "metadata": {
    "collapsed": false
   },
   "outputs": [
    {
     "name": "stderr",
     "output_type": "stream",
     "text": [
      "/usr/local/lib/python3.4/dist-packages/ipykernel/__main__.py:1: SettingWithCopyWarning: \n",
      "A value is trying to be set on a copy of a slice from a DataFrame.\n",
      "Try using .loc[row_indexer,col_indexer] = value instead\n",
      "\n",
      "See the caveats in the documentation: http://pandas.pydata.org/pandas-docs/stable/indexing.html#indexing-view-versus-copy\n",
      "  if __name__ == '__main__':\n"
     ]
    },
    {
     "data": {
      "text/plain": [
       "21.126100000000001"
      ]
     },
     "execution_count": 26,
     "metadata": {},
     "output_type": "execute_result"
    }
   ],
   "source": [
    "clean_year['Jahr-2014'] = clean_year['Jahr-2014'].where(clean_year['Jahr-2014'] > 0, np.nan)\n",
    "clean_year['Jahr-2014'][0]"
   ]
  },
  {
   "cell_type": "code",
   "execution_count": 27,
   "metadata": {
    "collapsed": false
   },
   "outputs": [
    {
     "name": "stderr",
     "output_type": "stream",
     "text": [
      "/usr/local/lib/python3.4/dist-packages/ipykernel/__main__.py:1: SettingWithCopyWarning: \n",
      "A value is trying to be set on a copy of a slice from a DataFrame.\n",
      "Try using .loc[row_indexer,col_indexer] = value instead\n",
      "\n",
      "See the caveats in the documentation: http://pandas.pydata.org/pandas-docs/stable/indexing.html#indexing-view-versus-copy\n",
      "  if __name__ == '__main__':\n"
     ]
    },
    {
     "data": {
      "text/plain": [
       "20.317299999999999"
      ]
     },
     "execution_count": 27,
     "metadata": {},
     "output_type": "execute_result"
    }
   ],
   "source": [
    "clean_year['Jahr-2015'] = clean_year['Jahr-2015'].where(clean_year['Jahr-2015'] > 0, np.nan)\n",
    "clean_year['Jahr-2015'][0]"
   ]
  },
  {
   "cell_type": "code",
   "execution_count": null,
   "metadata": {
    "collapsed": true
   },
   "outputs": [],
   "source": []
  },
  {
   "cell_type": "code",
   "execution_count": 28,
   "metadata": {
    "collapsed": false
   },
   "outputs": [],
   "source": [
    "df['c-2014'] = clean_year['Jahr-2014']\n",
    "df['c-2015'] = clean_year['Jahr-2015']"
   ]
  },
  {
   "cell_type": "code",
   "execution_count": null,
   "metadata": {
    "collapsed": true
   },
   "outputs": [],
   "source": []
  },
  {
   "cell_type": "code",
   "execution_count": 29,
   "metadata": {
    "collapsed": false
   },
   "outputs": [
    {
     "data": {
      "text/plain": [
       "(64, 14)"
      ]
     },
     "execution_count": 29,
     "metadata": {},
     "output_type": "execute_result"
    }
   ],
   "source": [
    "# Grenzwert 40 überschritten?\n",
    "\n",
    "drueber = df[df['c-2014'] >40]\n",
    "drueber.shape\n",
    "\n",
    "# 2014 wurde der Grenzwert an 64 Messstationen überschritten "
   ]
  },
  {
   "cell_type": "code",
   "execution_count": 30,
   "metadata": {
    "collapsed": false
   },
   "outputs": [],
   "source": [
    "# Welches sind die Stationen mit den höchsten Messwerten?\n",
    "drueber_s = drueber.sort_values(by='c-2014', ascending = False)\n"
   ]
  },
  {
   "cell_type": "code",
   "execution_count": 41,
   "metadata": {
    "collapsed": false
   },
   "outputs": [
    {
     "data": {
      "text/html": [
       "<div>\n",
       "<table border=\"1\" class=\"dataframe\">\n",
       "  <thead>\n",
       "    <tr>\n",
       "      <th></th>\n",
       "      <th>Stationscode</th>\n",
       "      <th>Stationsname</th>\n",
       "      <th>Schadstoff</th>\n",
       "      <th>Einheit</th>\n",
       "      <th>dataGroup</th>\n",
       "      <th>Jahr-2014</th>\n",
       "      <th>Jahr-2015</th>\n",
       "      <th>TYPE_OF_STATION</th>\n",
       "      <th>TYPE_OF_AREA</th>\n",
       "      <th>Länge</th>\n",
       "      <th>Breite</th>\n",
       "      <th>c-2014</th>\n",
       "      <th>c-2015</th>\n",
       "    </tr>\n",
       "    <tr>\n",
       "      <th></th>\n",
       "      <th>count</th>\n",
       "      <th>count</th>\n",
       "      <th>count</th>\n",
       "      <th>count</th>\n",
       "      <th>count</th>\n",
       "      <th>count</th>\n",
       "      <th>count</th>\n",
       "      <th>count</th>\n",
       "      <th>count</th>\n",
       "      <th>count</th>\n",
       "      <th>count</th>\n",
       "      <th>count</th>\n",
       "      <th>count</th>\n",
       "    </tr>\n",
       "    <tr>\n",
       "      <th>Stadt</th>\n",
       "      <th></th>\n",
       "      <th></th>\n",
       "      <th></th>\n",
       "      <th></th>\n",
       "      <th></th>\n",
       "      <th></th>\n",
       "      <th></th>\n",
       "      <th></th>\n",
       "      <th></th>\n",
       "      <th></th>\n",
       "      <th></th>\n",
       "      <th></th>\n",
       "      <th></th>\n",
       "    </tr>\n",
       "  </thead>\n",
       "  <tbody>\n",
       "    <tr>\n",
       "      <th>Köln</th>\n",
       "      <td>10</td>\n",
       "      <td>10</td>\n",
       "      <td>10</td>\n",
       "      <td>10</td>\n",
       "      <td>10</td>\n",
       "      <td>10</td>\n",
       "      <td>10</td>\n",
       "      <td>10</td>\n",
       "      <td>10</td>\n",
       "      <td>10</td>\n",
       "      <td>10</td>\n",
       "      <td>9</td>\n",
       "      <td>10</td>\n",
       "    </tr>\n",
       "    <tr>\n",
       "      <th>Essen</th>\n",
       "      <td>6</td>\n",
       "      <td>6</td>\n",
       "      <td>6</td>\n",
       "      <td>6</td>\n",
       "      <td>6</td>\n",
       "      <td>6</td>\n",
       "      <td>6</td>\n",
       "      <td>6</td>\n",
       "      <td>6</td>\n",
       "      <td>6</td>\n",
       "      <td>6</td>\n",
       "      <td>6</td>\n",
       "      <td>6</td>\n",
       "    </tr>\n",
       "    <tr>\n",
       "      <th>Düsseldorf</th>\n",
       "      <td>4</td>\n",
       "      <td>4</td>\n",
       "      <td>4</td>\n",
       "      <td>4</td>\n",
       "      <td>4</td>\n",
       "      <td>4</td>\n",
       "      <td>4</td>\n",
       "      <td>4</td>\n",
       "      <td>4</td>\n",
       "      <td>4</td>\n",
       "      <td>4</td>\n",
       "      <td>4</td>\n",
       "      <td>4</td>\n",
       "    </tr>\n",
       "    <tr>\n",
       "      <th>Dortmund</th>\n",
       "      <td>4</td>\n",
       "      <td>4</td>\n",
       "      <td>4</td>\n",
       "      <td>4</td>\n",
       "      <td>4</td>\n",
       "      <td>4</td>\n",
       "      <td>4</td>\n",
       "      <td>4</td>\n",
       "      <td>4</td>\n",
       "      <td>4</td>\n",
       "      <td>4</td>\n",
       "      <td>4</td>\n",
       "      <td>4</td>\n",
       "    </tr>\n",
       "    <tr>\n",
       "      <th>Paderborn</th>\n",
       "      <td>3</td>\n",
       "      <td>3</td>\n",
       "      <td>3</td>\n",
       "      <td>3</td>\n",
       "      <td>3</td>\n",
       "      <td>3</td>\n",
       "      <td>3</td>\n",
       "      <td>3</td>\n",
       "      <td>3</td>\n",
       "      <td>3</td>\n",
       "      <td>3</td>\n",
       "      <td>2</td>\n",
       "      <td>3</td>\n",
       "    </tr>\n",
       "  </tbody>\n",
       "</table>\n",
       "</div>"
      ],
      "text/plain": [
       "           Stationscode Stationsname Schadstoff Einheit dataGroup Jahr-2014  \\\n",
       "                  count        count      count   count     count     count   \n",
       "Stadt                                                                         \n",
       "Köln                 10           10         10      10        10        10   \n",
       "Essen                 6            6          6       6         6         6   \n",
       "Düsseldorf            4            4          4       4         4         4   \n",
       "Dortmund              4            4          4       4         4         4   \n",
       "Paderborn             3            3          3       3         3         3   \n",
       "\n",
       "           Jahr-2015 TYPE_OF_STATION TYPE_OF_AREA Länge Breite c-2014 c-2015  \n",
       "               count           count        count count  count  count  count  \n",
       "Stadt                                                                         \n",
       "Köln              10              10           10    10     10      9     10  \n",
       "Essen              6               6            6     6      6      6      6  \n",
       "Düsseldorf         4               4            4     4      4      4      4  \n",
       "Dortmund           4               4            4     4      4      4      4  \n",
       "Paderborn          3               3            3     3      3      2      3  "
      ]
     },
     "execution_count": 41,
     "metadata": {},
     "output_type": "execute_result"
    }
   ],
   "source": [
    "# 2015 Höchste Grenzwerte?\n",
    "top_2015 = df.sort_values(by='c-2015', ascending=False)\n",
    "drueber_2015 = top_2015[top_2015['c-2015'] >40]\n",
    "drueber_2015_staedte = drueber_2015.groupby('Stadt').agg(['count'])\n",
    "drueber_2015_staedte.sort_values(by=[('Stationsname','count')], ascending=False).head(5)"
   ]
  },
  {
   "cell_type": "code",
   "execution_count": 45,
   "metadata": {
    "collapsed": false
   },
   "outputs": [
    {
     "data": {
      "text/html": [
       "<div>\n",
       "<table border=\"1\" class=\"dataframe\">\n",
       "  <thead>\n",
       "    <tr>\n",
       "      <th></th>\n",
       "      <th>Stationscode</th>\n",
       "      <th>Stationsname</th>\n",
       "      <th>Schadstoff</th>\n",
       "      <th>Einheit</th>\n",
       "      <th>dataGroup</th>\n",
       "      <th>Jahr-2014</th>\n",
       "      <th>Jahr-2015</th>\n",
       "      <th>TYPE_OF_STATION</th>\n",
       "      <th>TYPE_OF_AREA</th>\n",
       "      <th>Länge</th>\n",
       "      <th>Breite</th>\n",
       "      <th>c-2014</th>\n",
       "      <th>c-2015</th>\n",
       "    </tr>\n",
       "    <tr>\n",
       "      <th></th>\n",
       "      <th>count</th>\n",
       "      <th>count</th>\n",
       "      <th>count</th>\n",
       "      <th>count</th>\n",
       "      <th>count</th>\n",
       "      <th>count</th>\n",
       "      <th>count</th>\n",
       "      <th>count</th>\n",
       "      <th>count</th>\n",
       "      <th>count</th>\n",
       "      <th>count</th>\n",
       "      <th>count</th>\n",
       "      <th>count</th>\n",
       "    </tr>\n",
       "    <tr>\n",
       "      <th>Stadt</th>\n",
       "      <th></th>\n",
       "      <th></th>\n",
       "      <th></th>\n",
       "      <th></th>\n",
       "      <th></th>\n",
       "      <th></th>\n",
       "      <th></th>\n",
       "      <th></th>\n",
       "      <th></th>\n",
       "      <th></th>\n",
       "      <th></th>\n",
       "      <th></th>\n",
       "      <th></th>\n",
       "    </tr>\n",
       "  </thead>\n",
       "  <tbody>\n",
       "    <tr>\n",
       "      <th>Düsseldorf</th>\n",
       "      <td>17</td>\n",
       "      <td>17</td>\n",
       "      <td>17</td>\n",
       "      <td>17</td>\n",
       "      <td>17</td>\n",
       "      <td>17</td>\n",
       "      <td>17</td>\n",
       "      <td>17</td>\n",
       "      <td>17</td>\n",
       "      <td>17</td>\n",
       "      <td>17</td>\n",
       "      <td>7</td>\n",
       "      <td>7</td>\n",
       "    </tr>\n",
       "    <tr>\n",
       "      <th>Köln</th>\n",
       "      <td>15</td>\n",
       "      <td>15</td>\n",
       "      <td>15</td>\n",
       "      <td>15</td>\n",
       "      <td>15</td>\n",
       "      <td>15</td>\n",
       "      <td>15</td>\n",
       "      <td>15</td>\n",
       "      <td>15</td>\n",
       "      <td>15</td>\n",
       "      <td>15</td>\n",
       "      <td>14</td>\n",
       "      <td>14</td>\n",
       "    </tr>\n",
       "    <tr>\n",
       "      <th>Essen</th>\n",
       "      <td>13</td>\n",
       "      <td>13</td>\n",
       "      <td>13</td>\n",
       "      <td>13</td>\n",
       "      <td>13</td>\n",
       "      <td>13</td>\n",
       "      <td>13</td>\n",
       "      <td>13</td>\n",
       "      <td>13</td>\n",
       "      <td>13</td>\n",
       "      <td>13</td>\n",
       "      <td>13</td>\n",
       "      <td>12</td>\n",
       "    </tr>\n",
       "    <tr>\n",
       "      <th>Dortmund</th>\n",
       "      <td>6</td>\n",
       "      <td>6</td>\n",
       "      <td>6</td>\n",
       "      <td>6</td>\n",
       "      <td>6</td>\n",
       "      <td>6</td>\n",
       "      <td>6</td>\n",
       "      <td>6</td>\n",
       "      <td>6</td>\n",
       "      <td>6</td>\n",
       "      <td>6</td>\n",
       "      <td>6</td>\n",
       "      <td>6</td>\n",
       "    </tr>\n",
       "    <tr>\n",
       "      <th>Duisburg</th>\n",
       "      <td>6</td>\n",
       "      <td>6</td>\n",
       "      <td>6</td>\n",
       "      <td>6</td>\n",
       "      <td>6</td>\n",
       "      <td>6</td>\n",
       "      <td>6</td>\n",
       "      <td>6</td>\n",
       "      <td>6</td>\n",
       "      <td>6</td>\n",
       "      <td>6</td>\n",
       "      <td>6</td>\n",
       "      <td>6</td>\n",
       "    </tr>\n",
       "  </tbody>\n",
       "</table>\n",
       "</div>"
      ],
      "text/plain": [
       "           Stationscode Stationsname Schadstoff Einheit dataGroup Jahr-2014  \\\n",
       "                  count        count      count   count     count     count   \n",
       "Stadt                                                                         \n",
       "Düsseldorf           17           17         17      17        17        17   \n",
       "Köln                 15           15         15      15        15        15   \n",
       "Essen                13           13         13      13        13        13   \n",
       "Dortmund              6            6          6       6         6         6   \n",
       "Duisburg              6            6          6       6         6         6   \n",
       "\n",
       "           Jahr-2015 TYPE_OF_STATION TYPE_OF_AREA Länge Breite c-2014 c-2015  \n",
       "               count           count        count count  count  count  count  \n",
       "Stadt                                                                         \n",
       "Düsseldorf        17              17           17    17     17      7      7  \n",
       "Köln              15              15           15    15     15     14     14  \n",
       "Essen             13              13           13    13     13     13     12  \n",
       "Dortmund           6               6            6     6      6      6      6  \n",
       "Duisburg           6               6            6     6      6      6      6  "
      ]
     },
     "execution_count": 45,
     "metadata": {},
     "output_type": "execute_result"
    }
   ],
   "source": [
    "# Wie viele Messstellen wo? \n",
    "\n",
    "mess = df.groupby('Stadt').agg(['count'])\n",
    "mess.sort_values(by=[('Stationsname','count')], ascending=False).head(5)\n"
   ]
  },
  {
   "cell_type": "code",
   "execution_count": null,
   "metadata": {
    "collapsed": true
   },
   "outputs": [],
   "source": [
    "# Next step: Anteil der Stationen mit überschrittenem Grenzwert an der Anzahl der Stationen berechnen"
   ]
  },
  {
   "cell_type": "code",
   "execution_count": null,
   "metadata": {
    "collapsed": false
   },
   "outputs": [],
   "source": [
    "# df = df.drop(['year_2014','year_2015'], axis=1)"
   ]
  },
  {
   "cell_type": "code",
   "execution_count": 50,
   "metadata": {
    "collapsed": false
   },
   "outputs": [
    {
     "data": {
      "text/plain": [
       "Index(['Stadt', 'Schadstoff', 'Einheit', 'c-2014', 'c-2015', 'TYPE_OF_STATION',\n",
       "       'TYPE_OF_AREA', 'Länge', 'Breite'],\n",
       "      dtype='object')"
      ]
     },
     "execution_count": 50,
     "metadata": {},
     "output_type": "execute_result"
    }
   ],
   "source": [
    "no2 = df[['Stadt', 'Schadstoff', 'Einheit', 'c-2014', 'c-2015', 'TYPE_OF_STATION', 'TYPE_OF_AREA', 'Länge', 'Breite']]\n",
    "no2.columns"
   ]
  },
  {
   "cell_type": "code",
   "execution_count": 52,
   "metadata": {
    "collapsed": false
   },
   "outputs": [
    {
     "data": {
      "text/html": [
       "<div>\n",
       "<table border=\"1\" class=\"dataframe\">\n",
       "  <thead>\n",
       "    <tr style=\"text-align: right;\">\n",
       "      <th></th>\n",
       "      <th>Stadt</th>\n",
       "      <th>Schadstoff</th>\n",
       "      <th>Einheit</th>\n",
       "      <th>c-2014</th>\n",
       "      <th>c-2015</th>\n",
       "      <th>TYPE_OF_STATION</th>\n",
       "      <th>TYPE_OF_AREA</th>\n",
       "      <th>Länge</th>\n",
       "      <th>Breite</th>\n",
       "    </tr>\n",
       "    <tr>\n",
       "      <th>Stationsname</th>\n",
       "      <th></th>\n",
       "      <th></th>\n",
       "      <th></th>\n",
       "      <th></th>\n",
       "      <th></th>\n",
       "      <th></th>\n",
       "      <th></th>\n",
       "      <th></th>\n",
       "      <th></th>\n",
       "    </tr>\n",
       "  </thead>\n",
       "  <tbody>\n",
       "    <tr>\n",
       "      <th>Datteln-Hagem</th>\n",
       "      <td>Datteln</td>\n",
       "      <td>Stickstoffdioxid</td>\n",
       "      <td>µg/m³</td>\n",
       "      <td>21.1261</td>\n",
       "      <td>20.3173</td>\n",
       "      <td>Hintergrund</td>\n",
       "      <td>vorstädtisches Gebiet</td>\n",
       "      <td>7.331405</td>\n",
       "      <td>51.641383</td>\n",
       "    </tr>\n",
       "    <tr>\n",
       "      <th>Lünen-Niederaden</th>\n",
       "      <td>Lünen</td>\n",
       "      <td>Stickstoffdioxid</td>\n",
       "      <td>µg/m³</td>\n",
       "      <td>27.4380</td>\n",
       "      <td>24.3654</td>\n",
       "      <td>Hintergrund</td>\n",
       "      <td>vorstädtisches Gebiet</td>\n",
       "      <td>7.569838</td>\n",
       "      <td>51.592206</td>\n",
       "    </tr>\n",
       "    <tr>\n",
       "      <th>Dortmund-Eving</th>\n",
       "      <td>Dortmund</td>\n",
       "      <td>Stickstoffdioxid</td>\n",
       "      <td>µg/m³</td>\n",
       "      <td>27.6639</td>\n",
       "      <td>26.5309</td>\n",
       "      <td>Hintergrund</td>\n",
       "      <td>städtisches Gebiet</td>\n",
       "      <td>7.457463</td>\n",
       "      <td>51.536911</td>\n",
       "    </tr>\n",
       "    <tr>\n",
       "      <th>Unna-Königsborn</th>\n",
       "      <td>Unna</td>\n",
       "      <td>Stickstoffdioxid</td>\n",
       "      <td>µg/m³</td>\n",
       "      <td>20.9525</td>\n",
       "      <td>20.9618</td>\n",
       "      <td>Hintergrund</td>\n",
       "      <td>vorstädtisches Gebiet</td>\n",
       "      <td>7.693835</td>\n",
       "      <td>51.547495</td>\n",
       "    </tr>\n",
       "    <tr>\n",
       "      <th>Bottrop-Welheim</th>\n",
       "      <td>Bottrop</td>\n",
       "      <td>Stickstoffdioxid</td>\n",
       "      <td>µg/m³</td>\n",
       "      <td>27.3434</td>\n",
       "      <td>26.3245</td>\n",
       "      <td>Industrie</td>\n",
       "      <td>städtisches Gebiet</td>\n",
       "      <td>6.976908</td>\n",
       "      <td>51.525963</td>\n",
       "    </tr>\n",
       "  </tbody>\n",
       "</table>\n",
       "</div>"
      ],
      "text/plain": [
       "                     Stadt        Schadstoff Einheit   c-2014   c-2015  \\\n",
       "Stationsname                                                             \n",
       "Datteln-Hagem      Datteln  Stickstoffdioxid   µg/m³  21.1261  20.3173   \n",
       "Lünen-Niederaden     Lünen  Stickstoffdioxid   µg/m³  27.4380  24.3654   \n",
       "Dortmund-Eving    Dortmund  Stickstoffdioxid   µg/m³  27.6639  26.5309   \n",
       "Unna-Königsborn       Unna  Stickstoffdioxid   µg/m³  20.9525  20.9618   \n",
       "Bottrop-Welheim    Bottrop  Stickstoffdioxid   µg/m³  27.3434  26.3245   \n",
       "\n",
       "                 TYPE_OF_STATION           TYPE_OF_AREA     Länge     Breite  \n",
       "Stationsname                                                                  \n",
       "Datteln-Hagem        Hintergrund  vorstädtisches Gebiet  7.331405  51.641383  \n",
       "Lünen-Niederaden     Hintergrund  vorstädtisches Gebiet  7.569838  51.592206  \n",
       "Dortmund-Eving       Hintergrund     städtisches Gebiet  7.457463  51.536911  \n",
       "Unna-Königsborn      Hintergrund  vorstädtisches Gebiet  7.693835  51.547495  \n",
       "Bottrop-Welheim        Industrie     städtisches Gebiet  6.976908  51.525963  "
      ]
     },
     "execution_count": 52,
     "metadata": {},
     "output_type": "execute_result"
    }
   ],
   "source": [
    "no2.head()"
   ]
  },
  {
   "cell_type": "code",
   "execution_count": 55,
   "metadata": {
    "collapsed": false
   },
   "outputs": [
    {
     "data": {
      "text/html": [
       "<div>\n",
       "<table border=\"1\" class=\"dataframe\">\n",
       "  <thead>\n",
       "    <tr style=\"text-align: right;\">\n",
       "      <th></th>\n",
       "      <th>Stadt</th>\n",
       "      <th>Schadstoff</th>\n",
       "      <th>Einheit</th>\n",
       "      <th>c-2014</th>\n",
       "      <th>c-2015</th>\n",
       "      <th>Stationstyp</th>\n",
       "      <th>Gebiet</th>\n",
       "      <th>x</th>\n",
       "      <th>y</th>\n",
       "    </tr>\n",
       "    <tr>\n",
       "      <th>Stationsname</th>\n",
       "      <th></th>\n",
       "      <th></th>\n",
       "      <th></th>\n",
       "      <th></th>\n",
       "      <th></th>\n",
       "      <th></th>\n",
       "      <th></th>\n",
       "      <th></th>\n",
       "      <th></th>\n",
       "    </tr>\n",
       "  </thead>\n",
       "  <tbody>\n",
       "    <tr>\n",
       "      <th>Düsseldorf Norfer Straße</th>\n",
       "      <td>Düsseldorf</td>\n",
       "      <td>Stickstoffdioxid</td>\n",
       "      <td>µg/m³</td>\n",
       "      <td>NaN</td>\n",
       "      <td>31.8203</td>\n",
       "      <td>Hintergrund</td>\n",
       "      <td>städtisches Gebiet</td>\n",
       "      <td>6.761111</td>\n",
       "      <td>51.200306</td>\n",
       "    </tr>\n",
       "    <tr>\n",
       "      <th>Paderborn-Schloss Neuhaus</th>\n",
       "      <td>Paderborn</td>\n",
       "      <td>Stickstoffdioxid</td>\n",
       "      <td>µg/m³</td>\n",
       "      <td>NaN</td>\n",
       "      <td>41.5547</td>\n",
       "      <td>Verkehr</td>\n",
       "      <td>städtisches Gebiet</td>\n",
       "      <td>8.711944</td>\n",
       "      <td>51.743583</td>\n",
       "    </tr>\n",
       "    <tr>\n",
       "      <th>Bottrop Peterstraße 9</th>\n",
       "      <td>Bottrop</td>\n",
       "      <td>Stickstoffdioxid</td>\n",
       "      <td>µg/m³</td>\n",
       "      <td>NaN</td>\n",
       "      <td>37.7425</td>\n",
       "      <td>Verkehr</td>\n",
       "      <td>städtisches Gebiet</td>\n",
       "      <td>6.924361</td>\n",
       "      <td>51.519167</td>\n",
       "    </tr>\n",
       "    <tr>\n",
       "      <th>Schwerte Hörder Straße 13</th>\n",
       "      <td>Schwerte</td>\n",
       "      <td>Stickstoffdioxid</td>\n",
       "      <td>µg/m³</td>\n",
       "      <td>NaN</td>\n",
       "      <td>45.9835</td>\n",
       "      <td>Verkehr</td>\n",
       "      <td>städtisches Gebiet</td>\n",
       "      <td>7.563578</td>\n",
       "      <td>51.446714</td>\n",
       "    </tr>\n",
       "    <tr>\n",
       "      <th>Herne Recklinghauser Straße 4/6</th>\n",
       "      <td>Herne</td>\n",
       "      <td>Stickstoffdioxid</td>\n",
       "      <td>µg/m³</td>\n",
       "      <td>NaN</td>\n",
       "      <td>NaN</td>\n",
       "      <td>Verkehr</td>\n",
       "      <td>städtisches Gebiet</td>\n",
       "      <td>7.150192</td>\n",
       "      <td>51.543008</td>\n",
       "    </tr>\n",
       "  </tbody>\n",
       "</table>\n",
       "</div>"
      ],
      "text/plain": [
       "                                      Stadt        Schadstoff Einheit  c-2014  \\\n",
       "Stationsname                                                                    \n",
       "Düsseldorf Norfer Straße         Düsseldorf  Stickstoffdioxid   µg/m³     NaN   \n",
       "Paderborn-Schloss Neuhaus         Paderborn  Stickstoffdioxid   µg/m³     NaN   \n",
       "Bottrop Peterstraße 9               Bottrop  Stickstoffdioxid   µg/m³     NaN   \n",
       "Schwerte Hörder Straße 13          Schwerte  Stickstoffdioxid   µg/m³     NaN   \n",
       "Herne Recklinghauser Straße 4/6       Herne  Stickstoffdioxid   µg/m³     NaN   \n",
       "\n",
       "                                  c-2015  Stationstyp              Gebiet  \\\n",
       "Stationsname                                                                \n",
       "Düsseldorf Norfer Straße         31.8203  Hintergrund  städtisches Gebiet   \n",
       "Paderborn-Schloss Neuhaus        41.5547      Verkehr  städtisches Gebiet   \n",
       "Bottrop Peterstraße 9            37.7425      Verkehr  städtisches Gebiet   \n",
       "Schwerte Hörder Straße 13        45.9835      Verkehr  städtisches Gebiet   \n",
       "Herne Recklinghauser Straße 4/6      NaN      Verkehr  städtisches Gebiet   \n",
       "\n",
       "                                        x          y  \n",
       "Stationsname                                          \n",
       "Düsseldorf Norfer Straße         6.761111  51.200306  \n",
       "Paderborn-Schloss Neuhaus        8.711944  51.743583  \n",
       "Bottrop Peterstraße 9            6.924361  51.519167  \n",
       "Schwerte Hörder Straße 13        7.563578  51.446714  \n",
       "Herne Recklinghauser Straße 4/6  7.150192  51.543008  "
      ]
     },
     "execution_count": 55,
     "metadata": {},
     "output_type": "execute_result"
    }
   ],
   "source": [
    "no2.columns = ['Stadt', 'Schadstoff', 'Einheit', 'c-2014', 'c-2015', 'Stationstyp','Gebiet', 'x', 'y']\n",
    "no2.tail()"
   ]
  },
  {
   "cell_type": "code",
   "execution_count": 56,
   "metadata": {
    "collapsed": true
   },
   "outputs": [],
   "source": [
    "df.to_csv('no2_orte.csv')"
   ]
  },
  {
   "cell_type": "code",
   "execution_count": null,
   "metadata": {
    "collapsed": true
   },
   "outputs": [],
   "source": []
  }
 ],
 "metadata": {
  "kernelspec": {
   "display_name": "Python 3",
   "language": "python",
   "name": "python3"
  },
  "language_info": {
   "codemirror_mode": {
    "name": "ipython",
    "version": 3
   },
   "file_extension": ".py",
   "mimetype": "text/x-python",
   "name": "python",
   "nbconvert_exporter": "python",
   "pygments_lexer": "ipython3",
   "version": "3.4.2"
  }
 },
 "nbformat": 4,
 "nbformat_minor": 0
}
